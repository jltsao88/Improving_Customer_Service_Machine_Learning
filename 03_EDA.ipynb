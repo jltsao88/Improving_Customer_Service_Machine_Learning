{
 "cells": [
  {
   "cell_type": "markdown",
   "metadata": {},
   "source": [
    "# Exploratory Data Analysis"
   ]
  },
  {
   "cell_type": "code",
   "execution_count": 1,
   "metadata": {},
   "outputs": [],
   "source": [
    "import numpy as np\n",
    "import pandas as pd\n",
    "import warnings\n",
    "import matplotlib.pyplot as plt\n",
    "import seaborn as sn\n",
    "from datetime import datetime\n",
    "\n",
    "%matplotlib inline\n",
    "pd.set_option(\"display.max_columns\", None)\n",
    "warnings.filterwarnings('ignore')"
   ]
  },
  {
   "cell_type": "code",
   "execution_count": 14,
   "metadata": {},
   "outputs": [],
   "source": [
    "df = pd.read_csv('C:\\\\Users\\\\jltsa\\\\Desktop\\\\Cust_complaints\\\\Data\\\\complaint_full_data.csv')"
   ]
  },
  {
   "cell_type": "markdown",
   "metadata": {},
   "source": [
    "Complaints are filed by consumers here: https://www.consumerfinance.gov/complaint/getting-started/.  Other than the dates, 'Comaplaint ID', and 'Consumer complaint narrative', the other features of the data are categorical."
   ]
  },
  {
   "cell_type": "code",
   "execution_count": 7,
   "metadata": {},
   "outputs": [
    {
     "data": {
      "text/html": [
       "<div>\n",
       "<style scoped>\n",
       "    .dataframe tbody tr th:only-of-type {\n",
       "        vertical-align: middle;\n",
       "    }\n",
       "\n",
       "    .dataframe tbody tr th {\n",
       "        vertical-align: top;\n",
       "    }\n",
       "\n",
       "    .dataframe thead th {\n",
       "        text-align: right;\n",
       "    }\n",
       "</style>\n",
       "<table border=\"1\" class=\"dataframe\">\n",
       "  <thead>\n",
       "    <tr style=\"text-align: right;\">\n",
       "      <th></th>\n",
       "      <th>Date received</th>\n",
       "      <th>Product</th>\n",
       "      <th>Sub-product</th>\n",
       "      <th>Issue</th>\n",
       "      <th>Sub-issue</th>\n",
       "      <th>Consumer complaint narrative</th>\n",
       "      <th>Company public response</th>\n",
       "      <th>Company</th>\n",
       "      <th>State</th>\n",
       "      <th>ZIP code</th>\n",
       "      <th>Tags</th>\n",
       "      <th>Consumer consent provided?</th>\n",
       "      <th>Submitted via</th>\n",
       "      <th>Date sent to company</th>\n",
       "      <th>Company response to consumer</th>\n",
       "      <th>Timely response?</th>\n",
       "      <th>Consumer disputed?</th>\n",
       "      <th>Complaint ID</th>\n",
       "    </tr>\n",
       "  </thead>\n",
       "  <tbody>\n",
       "    <tr>\n",
       "      <th>0</th>\n",
       "      <td>05/14/2019</td>\n",
       "      <td>Debt collection</td>\n",
       "      <td>Other debt</td>\n",
       "      <td>Written notification about debt</td>\n",
       "      <td>Didn't receive notice of right to dispute</td>\n",
       "      <td>NaN</td>\n",
       "      <td>Company believes it acted appropriately as aut...</td>\n",
       "      <td>Ideal Collection Services, Inc.</td>\n",
       "      <td>GA</td>\n",
       "      <td>31601</td>\n",
       "      <td>NaN</td>\n",
       "      <td>Consent not provided</td>\n",
       "      <td>Web</td>\n",
       "      <td>05/14/2019</td>\n",
       "      <td>Closed with explanation</td>\n",
       "      <td>Yes</td>\n",
       "      <td>NaN</td>\n",
       "      <td>3241328</td>\n",
       "    </tr>\n",
       "    <tr>\n",
       "      <th>1</th>\n",
       "      <td>05/14/2019</td>\n",
       "      <td>Checking or savings account</td>\n",
       "      <td>Other banking product or service</td>\n",
       "      <td>Incorrect information on your report</td>\n",
       "      <td>Information belongs to someone else</td>\n",
       "      <td>NaN</td>\n",
       "      <td>NaN</td>\n",
       "      <td>NAVY FEDERAL CREDIT UNION</td>\n",
       "      <td>TX</td>\n",
       "      <td>75089</td>\n",
       "      <td>NaN</td>\n",
       "      <td>NaN</td>\n",
       "      <td>Referral</td>\n",
       "      <td>05/14/2019</td>\n",
       "      <td>In progress</td>\n",
       "      <td>Yes</td>\n",
       "      <td>NaN</td>\n",
       "      <td>3242313</td>\n",
       "    </tr>\n",
       "    <tr>\n",
       "      <th>2</th>\n",
       "      <td>05/14/2019</td>\n",
       "      <td>Mortgage</td>\n",
       "      <td>Other type of mortgage</td>\n",
       "      <td>Trouble during payment process</td>\n",
       "      <td>NaN</td>\n",
       "      <td>NaN</td>\n",
       "      <td>NaN</td>\n",
       "      <td>FLAGSTAR BANK, FSB</td>\n",
       "      <td>CA</td>\n",
       "      <td>923XX</td>\n",
       "      <td>Servicemember</td>\n",
       "      <td>NaN</td>\n",
       "      <td>Web</td>\n",
       "      <td>05/14/2019</td>\n",
       "      <td>In progress</td>\n",
       "      <td>Yes</td>\n",
       "      <td>NaN</td>\n",
       "      <td>3241344</td>\n",
       "    </tr>\n",
       "    <tr>\n",
       "      <th>3</th>\n",
       "      <td>05/14/2019</td>\n",
       "      <td>Debt collection</td>\n",
       "      <td>Payday loan debt</td>\n",
       "      <td>False statements or representation</td>\n",
       "      <td>Impersonated attorney, law enforcement, or gov...</td>\n",
       "      <td>NaN</td>\n",
       "      <td>NaN</td>\n",
       "      <td>Red Cedar Associates LLC</td>\n",
       "      <td>OH</td>\n",
       "      <td>442XX</td>\n",
       "      <td>NaN</td>\n",
       "      <td>NaN</td>\n",
       "      <td>Web</td>\n",
       "      <td>05/14/2019</td>\n",
       "      <td>Closed with explanation</td>\n",
       "      <td>Yes</td>\n",
       "      <td>NaN</td>\n",
       "      <td>3242210</td>\n",
       "    </tr>\n",
       "    <tr>\n",
       "      <th>4</th>\n",
       "      <td>05/14/2019</td>\n",
       "      <td>Debt collection</td>\n",
       "      <td>Medical debt</td>\n",
       "      <td>Attempts to collect debt not owed</td>\n",
       "      <td>Debt is not yours</td>\n",
       "      <td>NaN</td>\n",
       "      <td>NaN</td>\n",
       "      <td>CMRE Financial Services, Inc.</td>\n",
       "      <td>CA</td>\n",
       "      <td>95827</td>\n",
       "      <td>NaN</td>\n",
       "      <td>NaN</td>\n",
       "      <td>Phone</td>\n",
       "      <td>05/14/2019</td>\n",
       "      <td>Closed with explanation</td>\n",
       "      <td>Yes</td>\n",
       "      <td>NaN</td>\n",
       "      <td>3242512</td>\n",
       "    </tr>\n",
       "  </tbody>\n",
       "</table>\n",
       "</div>"
      ],
      "text/plain": [
       "  Date received                      Product  \\\n",
       "0    05/14/2019              Debt collection   \n",
       "1    05/14/2019  Checking or savings account   \n",
       "2    05/14/2019                     Mortgage   \n",
       "3    05/14/2019              Debt collection   \n",
       "4    05/14/2019              Debt collection   \n",
       "\n",
       "                        Sub-product                                 Issue  \\\n",
       "0                        Other debt       Written notification about debt   \n",
       "1  Other banking product or service  Incorrect information on your report   \n",
       "2            Other type of mortgage        Trouble during payment process   \n",
       "3                  Payday loan debt    False statements or representation   \n",
       "4                      Medical debt     Attempts to collect debt not owed   \n",
       "\n",
       "                                           Sub-issue  \\\n",
       "0          Didn't receive notice of right to dispute   \n",
       "1                Information belongs to someone else   \n",
       "2                                                NaN   \n",
       "3  Impersonated attorney, law enforcement, or gov...   \n",
       "4                                  Debt is not yours   \n",
       "\n",
       "  Consumer complaint narrative  \\\n",
       "0                          NaN   \n",
       "1                          NaN   \n",
       "2                          NaN   \n",
       "3                          NaN   \n",
       "4                          NaN   \n",
       "\n",
       "                             Company public response  \\\n",
       "0  Company believes it acted appropriately as aut...   \n",
       "1                                                NaN   \n",
       "2                                                NaN   \n",
       "3                                                NaN   \n",
       "4                                                NaN   \n",
       "\n",
       "                           Company State ZIP code           Tags  \\\n",
       "0  Ideal Collection Services, Inc.    GA    31601            NaN   \n",
       "1        NAVY FEDERAL CREDIT UNION    TX    75089            NaN   \n",
       "2               FLAGSTAR BANK, FSB    CA    923XX  Servicemember   \n",
       "3         Red Cedar Associates LLC    OH    442XX            NaN   \n",
       "4    CMRE Financial Services, Inc.    CA    95827            NaN   \n",
       "\n",
       "  Consumer consent provided? Submitted via Date sent to company  \\\n",
       "0       Consent not provided           Web           05/14/2019   \n",
       "1                        NaN      Referral           05/14/2019   \n",
       "2                        NaN           Web           05/14/2019   \n",
       "3                        NaN           Web           05/14/2019   \n",
       "4                        NaN         Phone           05/14/2019   \n",
       "\n",
       "  Company response to consumer Timely response? Consumer disputed?  \\\n",
       "0      Closed with explanation              Yes                NaN   \n",
       "1                  In progress              Yes                NaN   \n",
       "2                  In progress              Yes                NaN   \n",
       "3      Closed with explanation              Yes                NaN   \n",
       "4      Closed with explanation              Yes                NaN   \n",
       "\n",
       "   Complaint ID  \n",
       "0       3241328  \n",
       "1       3242313  \n",
       "2       3241344  \n",
       "3       3242210  \n",
       "4       3242512  "
      ]
     },
     "execution_count": 7,
     "metadata": {},
     "output_type": "execute_result"
    }
   ],
   "source": [
    "df.head()"
   ]
  },
  {
   "cell_type": "code",
   "execution_count": 4,
   "metadata": {},
   "outputs": [
    {
     "name": "stdout",
     "output_type": "stream",
     "text": [
      "<class 'pandas.core.frame.DataFrame'>\n",
      "RangeIndex: 1284185 entries, 0 to 1284184\n",
      "Data columns (total 18 columns):\n",
      "Date received                   1284185 non-null object\n",
      "Product                         1284185 non-null object\n",
      "Sub-product                     1049019 non-null object\n",
      "Issue                           1284185 non-null object\n",
      "Sub-issue                       752760 non-null object\n",
      "Consumer complaint narrative    383840 non-null object\n",
      "Company public response         449986 non-null object\n",
      "Company                         1284185 non-null object\n",
      "State                           1264704 non-null object\n",
      "ZIP code                        1168619 non-null object\n",
      "Tags                            175903 non-null object\n",
      "Consumer consent provided?      691594 non-null object\n",
      "Submitted via                   1284185 non-null object\n",
      "Date sent to company            1284184 non-null object\n",
      "Company response to consumer    1284178 non-null object\n",
      "Timely response?                1284185 non-null object\n",
      "Consumer disputed?              768501 non-null object\n",
      "Complaint ID                    1284185 non-null int64\n",
      "dtypes: int64(1), object(17)\n",
      "memory usage: 176.4+ MB\n"
     ]
    }
   ],
   "source": [
    "df.info()"
   ]
  },
  {
   "cell_type": "markdown",
   "metadata": {},
   "source": [
    "## Explore Features of the Complaints Data"
   ]
  },
  {
   "cell_type": "markdown",
   "metadata": {},
   "source": [
    "### Date Received"
   ]
  },
  {
   "cell_type": "markdown",
   "metadata": {},
   "source": [
    "As of 5/21/19 the dates range from 12/01/2011 to 5/14/19."
   ]
  },
  {
   "cell_type": "code",
   "execution_count": 3,
   "metadata": {
    "collapsed": true
   },
   "outputs": [],
   "source": [
    "#convert column to date\n",
    "def convert_to_dt(row):\n",
    "    date_format = '%m/%d/%Y'\n",
    "    val = datetime.strptime(row['Date received'], date_format)\n",
    "    return val"
   ]
  },
  {
   "cell_type": "code",
   "execution_count": 4,
   "metadata": {
    "collapsed": true
   },
   "outputs": [],
   "source": [
    "df['Date received'] = df.apply(convert_to_dt, axis=1)"
   ]
  },
  {
   "cell_type": "code",
   "execution_count": 48,
   "metadata": {
    "scrolled": false
   },
   "outputs": [
    {
     "data": {
      "text/html": [
       "<div>\n",
       "<style scoped>\n",
       "    .dataframe tbody tr th:only-of-type {\n",
       "        vertical-align: middle;\n",
       "    }\n",
       "\n",
       "    .dataframe tbody tr th {\n",
       "        vertical-align: top;\n",
       "    }\n",
       "\n",
       "    .dataframe thead th {\n",
       "        text-align: right;\n",
       "    }\n",
       "</style>\n",
       "<table border=\"1\" class=\"dataframe\">\n",
       "  <thead>\n",
       "    <tr style=\"text-align: right;\">\n",
       "      <th></th>\n",
       "      <th>Date received</th>\n",
       "      <th>Product</th>\n",
       "      <th>Sub-product</th>\n",
       "      <th>Issue</th>\n",
       "      <th>Sub-issue</th>\n",
       "      <th>Consumer complaint narrative</th>\n",
       "      <th>Company public response</th>\n",
       "      <th>Company</th>\n",
       "      <th>State</th>\n",
       "      <th>ZIP code</th>\n",
       "      <th>Tags</th>\n",
       "      <th>Consumer consent provided?</th>\n",
       "      <th>Submitted via</th>\n",
       "      <th>Date sent to company</th>\n",
       "      <th>Company response to consumer</th>\n",
       "      <th>Timely response?</th>\n",
       "      <th>Consumer disputed?</th>\n",
       "      <th>Complaint ID</th>\n",
       "    </tr>\n",
       "    <tr>\n",
       "      <th>Date received</th>\n",
       "      <th></th>\n",
       "      <th></th>\n",
       "      <th></th>\n",
       "      <th></th>\n",
       "      <th></th>\n",
       "      <th></th>\n",
       "      <th></th>\n",
       "      <th></th>\n",
       "      <th></th>\n",
       "      <th></th>\n",
       "      <th></th>\n",
       "      <th></th>\n",
       "      <th></th>\n",
       "      <th></th>\n",
       "      <th></th>\n",
       "      <th></th>\n",
       "      <th></th>\n",
       "      <th></th>\n",
       "    </tr>\n",
       "  </thead>\n",
       "  <tbody>\n",
       "    <tr>\n",
       "      <th>2011-12-31</th>\n",
       "      <td>2536</td>\n",
       "      <td>2536</td>\n",
       "      <td>1276</td>\n",
       "      <td>2536</td>\n",
       "      <td>0</td>\n",
       "      <td>0</td>\n",
       "      <td>0</td>\n",
       "      <td>2536</td>\n",
       "      <td>2521</td>\n",
       "      <td>2521</td>\n",
       "      <td>380</td>\n",
       "      <td>0</td>\n",
       "      <td>2536</td>\n",
       "      <td>2536</td>\n",
       "      <td>2536</td>\n",
       "      <td>2536</td>\n",
       "      <td>2536</td>\n",
       "      <td>2536</td>\n",
       "    </tr>\n",
       "    <tr>\n",
       "      <th>2012-12-31</th>\n",
       "      <td>72373</td>\n",
       "      <td>72373</td>\n",
       "      <td>55147</td>\n",
       "      <td>72373</td>\n",
       "      <td>1883</td>\n",
       "      <td>0</td>\n",
       "      <td>2</td>\n",
       "      <td>72373</td>\n",
       "      <td>71758</td>\n",
       "      <td>71758</td>\n",
       "      <td>7301</td>\n",
       "      <td>0</td>\n",
       "      <td>72373</td>\n",
       "      <td>72373</td>\n",
       "      <td>72373</td>\n",
       "      <td>72373</td>\n",
       "      <td>72373</td>\n",
       "      <td>72373</td>\n",
       "    </tr>\n",
       "    <tr>\n",
       "      <th>2013-12-31</th>\n",
       "      <td>108218</td>\n",
       "      <td>108218</td>\n",
       "      <td>80539</td>\n",
       "      <td>108218</td>\n",
       "      <td>25574</td>\n",
       "      <td>0</td>\n",
       "      <td>9</td>\n",
       "      <td>108218</td>\n",
       "      <td>107165</td>\n",
       "      <td>107165</td>\n",
       "      <td>13940</td>\n",
       "      <td>0</td>\n",
       "      <td>108218</td>\n",
       "      <td>108218</td>\n",
       "      <td>108218</td>\n",
       "      <td>108218</td>\n",
       "      <td>108218</td>\n",
       "      <td>108218</td>\n",
       "    </tr>\n",
       "    <tr>\n",
       "      <th>2014-12-31</th>\n",
       "      <td>153047</td>\n",
       "      <td>153047</td>\n",
       "      <td>108128</td>\n",
       "      <td>153047</td>\n",
       "      <td>72653</td>\n",
       "      <td>0</td>\n",
       "      <td>133</td>\n",
       "      <td>153047</td>\n",
       "      <td>152046</td>\n",
       "      <td>152042</td>\n",
       "      <td>22565</td>\n",
       "      <td>0</td>\n",
       "      <td>153047</td>\n",
       "      <td>153047</td>\n",
       "      <td>153047</td>\n",
       "      <td>153047</td>\n",
       "      <td>153047</td>\n",
       "      <td>153047</td>\n",
       "    </tr>\n",
       "    <tr>\n",
       "      <th>2015-12-31</th>\n",
       "      <td>168487</td>\n",
       "      <td>168487</td>\n",
       "      <td>115330</td>\n",
       "      <td>168487</td>\n",
       "      <td>78509</td>\n",
       "      <td>54758</td>\n",
       "      <td>61700</td>\n",
       "      <td>168487</td>\n",
       "      <td>167343</td>\n",
       "      <td>153474</td>\n",
       "      <td>25927</td>\n",
       "      <td>99671</td>\n",
       "      <td>168487</td>\n",
       "      <td>168487</td>\n",
       "      <td>168487</td>\n",
       "      <td>168487</td>\n",
       "      <td>168487</td>\n",
       "      <td>168487</td>\n",
       "    </tr>\n",
       "    <tr>\n",
       "      <th>2016-12-31</th>\n",
       "      <td>191473</td>\n",
       "      <td>191473</td>\n",
       "      <td>124761</td>\n",
       "      <td>191473</td>\n",
       "      <td>92637</td>\n",
       "      <td>77823</td>\n",
       "      <td>99617</td>\n",
       "      <td>191473</td>\n",
       "      <td>190146</td>\n",
       "      <td>170837</td>\n",
       "      <td>28313</td>\n",
       "      <td>140668</td>\n",
       "      <td>191473</td>\n",
       "      <td>191473</td>\n",
       "      <td>191473</td>\n",
       "      <td>191473</td>\n",
       "      <td>191473</td>\n",
       "      <td>191473</td>\n",
       "    </tr>\n",
       "    <tr>\n",
       "      <th>2017-12-31</th>\n",
       "      <td>242975</td>\n",
       "      <td>242975</td>\n",
       "      <td>218762</td>\n",
       "      <td>242975</td>\n",
       "      <td>184251</td>\n",
       "      <td>115172</td>\n",
       "      <td>116776</td>\n",
       "      <td>242975</td>\n",
       "      <td>238995</td>\n",
       "      <td>212402</td>\n",
       "      <td>32286</td>\n",
       "      <td>197914</td>\n",
       "      <td>242975</td>\n",
       "      <td>242975</td>\n",
       "      <td>242974</td>\n",
       "      <td>242975</td>\n",
       "      <td>72367</td>\n",
       "      <td>242975</td>\n",
       "    </tr>\n",
       "    <tr>\n",
       "      <th>2018-12-31</th>\n",
       "      <td>257380</td>\n",
       "      <td>257380</td>\n",
       "      <td>257380</td>\n",
       "      <td>257380</td>\n",
       "      <td>220914</td>\n",
       "      <td>118479</td>\n",
       "      <td>129710</td>\n",
       "      <td>257380</td>\n",
       "      <td>249882</td>\n",
       "      <td>223234</td>\n",
       "      <td>32716</td>\n",
       "      <td>208939</td>\n",
       "      <td>257380</td>\n",
       "      <td>257380</td>\n",
       "      <td>257375</td>\n",
       "      <td>257380</td>\n",
       "      <td>0</td>\n",
       "      <td>257380</td>\n",
       "    </tr>\n",
       "    <tr>\n",
       "      <th>2019-12-31</th>\n",
       "      <td>87696</td>\n",
       "      <td>87696</td>\n",
       "      <td>87696</td>\n",
       "      <td>87696</td>\n",
       "      <td>76339</td>\n",
       "      <td>17608</td>\n",
       "      <td>42039</td>\n",
       "      <td>87696</td>\n",
       "      <td>84848</td>\n",
       "      <td>75186</td>\n",
       "      <td>12475</td>\n",
       "      <td>44402</td>\n",
       "      <td>87696</td>\n",
       "      <td>87695</td>\n",
       "      <td>87695</td>\n",
       "      <td>87696</td>\n",
       "      <td>0</td>\n",
       "      <td>87696</td>\n",
       "    </tr>\n",
       "  </tbody>\n",
       "</table>\n",
       "</div>"
      ],
      "text/plain": [
       "               Date received  Product  Sub-product   Issue  Sub-issue  \\\n",
       "Date received                                                           \n",
       "2011-12-31              2536     2536         1276    2536          0   \n",
       "2012-12-31             72373    72373        55147   72373       1883   \n",
       "2013-12-31            108218   108218        80539  108218      25574   \n",
       "2014-12-31            153047   153047       108128  153047      72653   \n",
       "2015-12-31            168487   168487       115330  168487      78509   \n",
       "2016-12-31            191473   191473       124761  191473      92637   \n",
       "2017-12-31            242975   242975       218762  242975     184251   \n",
       "2018-12-31            257380   257380       257380  257380     220914   \n",
       "2019-12-31             87696    87696        87696   87696      76339   \n",
       "\n",
       "               Consumer complaint narrative  Company public response  Company  \\\n",
       "Date received                                                                   \n",
       "2011-12-31                                0                        0     2536   \n",
       "2012-12-31                                0                        2    72373   \n",
       "2013-12-31                                0                        9   108218   \n",
       "2014-12-31                                0                      133   153047   \n",
       "2015-12-31                            54758                    61700   168487   \n",
       "2016-12-31                            77823                    99617   191473   \n",
       "2017-12-31                           115172                   116776   242975   \n",
       "2018-12-31                           118479                   129710   257380   \n",
       "2019-12-31                            17608                    42039    87696   \n",
       "\n",
       "                State  ZIP code   Tags  Consumer consent provided?  \\\n",
       "Date received                                                        \n",
       "2011-12-31       2521      2521    380                           0   \n",
       "2012-12-31      71758     71758   7301                           0   \n",
       "2013-12-31     107165    107165  13940                           0   \n",
       "2014-12-31     152046    152042  22565                           0   \n",
       "2015-12-31     167343    153474  25927                       99671   \n",
       "2016-12-31     190146    170837  28313                      140668   \n",
       "2017-12-31     238995    212402  32286                      197914   \n",
       "2018-12-31     249882    223234  32716                      208939   \n",
       "2019-12-31      84848     75186  12475                       44402   \n",
       "\n",
       "               Submitted via  Date sent to company  \\\n",
       "Date received                                        \n",
       "2011-12-31              2536                  2536   \n",
       "2012-12-31             72373                 72373   \n",
       "2013-12-31            108218                108218   \n",
       "2014-12-31            153047                153047   \n",
       "2015-12-31            168487                168487   \n",
       "2016-12-31            191473                191473   \n",
       "2017-12-31            242975                242975   \n",
       "2018-12-31            257380                257380   \n",
       "2019-12-31             87696                 87695   \n",
       "\n",
       "               Company response to consumer  Timely response?  \\\n",
       "Date received                                                   \n",
       "2011-12-31                             2536              2536   \n",
       "2012-12-31                            72373             72373   \n",
       "2013-12-31                           108218            108218   \n",
       "2014-12-31                           153047            153047   \n",
       "2015-12-31                           168487            168487   \n",
       "2016-12-31                           191473            191473   \n",
       "2017-12-31                           242974            242975   \n",
       "2018-12-31                           257375            257380   \n",
       "2019-12-31                            87695             87696   \n",
       "\n",
       "               Consumer disputed?  Complaint ID  \n",
       "Date received                                    \n",
       "2011-12-31                   2536          2536  \n",
       "2012-12-31                  72373         72373  \n",
       "2013-12-31                 108218        108218  \n",
       "2014-12-31                 153047        153047  \n",
       "2015-12-31                 168487        168487  \n",
       "2016-12-31                 191473        191473  \n",
       "2017-12-31                  72367        242975  \n",
       "2018-12-31                      0        257380  \n",
       "2019-12-31                      0         87696  "
      ]
     },
     "execution_count": 48,
     "metadata": {},
     "output_type": "execute_result"
    }
   ],
   "source": [
    "#Rows organized by year\n",
    "df_by_year = df.resample('Y', on='Date received').count()\n",
    "df_by_year"
   ]
  },
  {
   "cell_type": "code",
   "execution_count": 55,
   "metadata": {},
   "outputs": [
    {
     "data": {
      "text/plain": [
       "<matplotlib.axes._subplots.AxesSubplot at 0x22f8da64780>"
      ]
     },
     "execution_count": 55,
     "metadata": {},
     "output_type": "execute_result"
    },
    {
     "data": {
      "image/png": "[encoded data removed]",
      "text/plain": [
       "<Figure size 1080x720 with 1 Axes>"
      ]
     },
     "metadata": {},
     "output_type": "display_data"
    }
   ],
   "source": [
    "sn.set_style(\"whitegrid\")\n",
    "plt.figure(figsize=(15, 10))\n",
    "plt.rc('xtick', labelsize=14)\n",
    "plt.xticks(rotation=90)\n",
    "plt.title('# of Complaints by Year')\n",
    "sn.lineplot(df_by_year.index[:-1], df_by_year['Complaint ID'][:-1])"
   ]
  },
  {
   "cell_type": "code",
   "execution_count": 74,
   "metadata": {},
   "outputs": [
    {
     "name": "stdout",
     "output_type": "stream",
     "text": [
      "From 2013 to 2014 the complaints submitted to the CFPB increased by 149.53%\n",
      "From 2014 to 2015 the complaints submitted to the CFPB increased by 141.42%\n",
      "From 2015 to 2016 the complaints submitted to the CFPB increased by 110.09%\n",
      "From 2016 to 2017 the complaints submitted to the CFPB increased by 113.64%\n",
      "From 2017 to 2018 the complaints submitted to the CFPB increased by 126.90%\n",
      "From 2018 to 2019 the complaints submitted to the CFPB increased by 105.93%\n"
     ]
    }
   ],
   "source": [
    "start_year = df_by_year['Complaint ID'][0]\n",
    "next_year = 0\n",
    "vals = []\n",
    "\n",
    "for count in df_by_year['Complaint ID'][1:]:\n",
    "    next_year = count\n",
    "    change = next_year/start_year * 100\n",
    "    vals.append(change)\n",
    "    start_year = next_year\n",
    "    \n",
    "print(f'From 2013 to 2014 the complaints submitted to the CFPB increased by {vals[1]:.2f}%')\n",
    "print(f'From 2014 to 2015 the complaints submitted to the CFPB increased by {vals[2]:.2f}%')\n",
    "print(f'From 2015 to 2016 the complaints submitted to the CFPB increased by {vals[3]:.2f}%')\n",
    "print(f'From 2016 to 2017 the complaints submitted to the CFPB increased by {vals[4]:.2f}%')\n",
    "print(f'From 2017 to 2018 the complaints submitted to the CFPB increased by {vals[5]:.2f}%')\n",
    "print(f'From 2018 to 2019 the complaints submitted to the CFPB increased by {vals[6]:.2f}%')"
   ]
  },
  {
   "cell_type": "markdown",
   "metadata": {},
   "source": [
    "The CPFB takes in complaints from consumers and sends the complaints to firm the complaint was filed against.  What we can infer from this is that the number of complaints has at least double each year.  This could be due to increased adoption of technology and the ease to report complaints.  Worse yet, we could also infer that customer service could be falling or that consumers are increasingly unhappy with their products."
   ]
  },
  {
   "cell_type": "markdown",
   "metadata": {},
   "source": [
    "### Products"
   ]
  },
  {
   "cell_type": "code",
   "execution_count": 8,
   "metadata": {},
   "outputs": [
    {
     "data": {
      "text/plain": [
       "count      1284185\n",
       "unique          18\n",
       "top       Mortgage\n",
       "freq        278249\n",
       "Name: Product, dtype: object"
      ]
     },
     "execution_count": 8,
     "metadata": {},
     "output_type": "execute_result"
    }
   ],
   "source": [
    "df.Product.describe()"
   ]
  },
  {
   "cell_type": "code",
   "execution_count": 13,
   "metadata": {},
   "outputs": [
    {
     "data": {
      "text/plain": [
       "array(['Debt collection', 'Checking or savings account', 'Mortgage',\n",
       "       'Credit reporting, credit repair services, or other personal consumer reports',\n",
       "       'Money transfer, virtual currency, or money service',\n",
       "       'Payday loan, title loan, or personal loan', 'Student loan',\n",
       "       'Credit card or prepaid card', 'Vehicle loan or lease',\n",
       "       'Credit card', 'Credit reporting', 'Bank account or service',\n",
       "       'Payday loan', 'Consumer Loan', 'Other financial service',\n",
       "       'Prepaid card', 'Money transfers', 'Virtual currency'],\n",
       "      dtype=object)"
      ]
     },
     "execution_count": 13,
     "metadata": {},
     "output_type": "execute_result"
    }
   ],
   "source": [
    "df.Product.unique()"
   ]
  },
  {
   "cell_type": "code",
   "execution_count": 11,
   "metadata": {
    "scrolled": false
   },
   "outputs": [
    {
     "data": {
      "text/html": [
       "<div>\n",
       "<style scoped>\n",
       "    .dataframe tbody tr th:only-of-type {\n",
       "        vertical-align: middle;\n",
       "    }\n",
       "\n",
       "    .dataframe tbody tr th {\n",
       "        vertical-align: top;\n",
       "    }\n",
       "\n",
       "    .dataframe thead th {\n",
       "        text-align: right;\n",
       "    }\n",
       "</style>\n",
       "<table border=\"1\" class=\"dataframe\">\n",
       "  <thead>\n",
       "    <tr style=\"text-align: right;\">\n",
       "      <th></th>\n",
       "      <th>0</th>\n",
       "    </tr>\n",
       "  </thead>\n",
       "  <tbody>\n",
       "    <tr>\n",
       "      <th>0</th>\n",
       "      <td>Debt collection</td>\n",
       "    </tr>\n",
       "    <tr>\n",
       "      <th>1</th>\n",
       "      <td>Checking or savings account</td>\n",
       "    </tr>\n",
       "    <tr>\n",
       "      <th>2</th>\n",
       "      <td>Mortgage</td>\n",
       "    </tr>\n",
       "    <tr>\n",
       "      <th>3</th>\n",
       "      <td>Credit reporting, credit repair services, or o...</td>\n",
       "    </tr>\n",
       "    <tr>\n",
       "      <th>4</th>\n",
       "      <td>Money transfer, virtual currency, or money ser...</td>\n",
       "    </tr>\n",
       "    <tr>\n",
       "      <th>5</th>\n",
       "      <td>Payday loan, title loan, or personal loan</td>\n",
       "    </tr>\n",
       "    <tr>\n",
       "      <th>6</th>\n",
       "      <td>Student loan</td>\n",
       "    </tr>\n",
       "    <tr>\n",
       "      <th>7</th>\n",
       "      <td>Credit card or prepaid card</td>\n",
       "    </tr>\n",
       "    <tr>\n",
       "      <th>8</th>\n",
       "      <td>Vehicle loan or lease</td>\n",
       "    </tr>\n",
       "    <tr>\n",
       "      <th>9</th>\n",
       "      <td>Credit card</td>\n",
       "    </tr>\n",
       "    <tr>\n",
       "      <th>10</th>\n",
       "      <td>Credit reporting</td>\n",
       "    </tr>\n",
       "    <tr>\n",
       "      <th>11</th>\n",
       "      <td>Bank account or service</td>\n",
       "    </tr>\n",
       "    <tr>\n",
       "      <th>12</th>\n",
       "      <td>Payday loan</td>\n",
       "    </tr>\n",
       "    <tr>\n",
       "      <th>13</th>\n",
       "      <td>Consumer Loan</td>\n",
       "    </tr>\n",
       "    <tr>\n",
       "      <th>14</th>\n",
       "      <td>Other financial service</td>\n",
       "    </tr>\n",
       "    <tr>\n",
       "      <th>15</th>\n",
       "      <td>Prepaid card</td>\n",
       "    </tr>\n",
       "    <tr>\n",
       "      <th>16</th>\n",
       "      <td>Money transfers</td>\n",
       "    </tr>\n",
       "    <tr>\n",
       "      <th>17</th>\n",
       "      <td>Virtual currency</td>\n",
       "    </tr>\n",
       "  </tbody>\n",
       "</table>\n",
       "</div>"
      ],
      "text/plain": [
       "                                                    0\n",
       "0                                     Debt collection\n",
       "1                         Checking or savings account\n",
       "2                                            Mortgage\n",
       "3   Credit reporting, credit repair services, or o...\n",
       "4   Money transfer, virtual currency, or money ser...\n",
       "5           Payday loan, title loan, or personal loan\n",
       "6                                        Student loan\n",
       "7                         Credit card or prepaid card\n",
       "8                               Vehicle loan or lease\n",
       "9                                         Credit card\n",
       "10                                   Credit reporting\n",
       "11                            Bank account or service\n",
       "12                                        Payday loan\n",
       "13                                      Consumer Loan\n",
       "14                            Other financial service\n",
       "15                                       Prepaid card\n",
       "16                                    Money transfers\n",
       "17                                   Virtual currency"
      ]
     },
     "execution_count": 11,
     "metadata": {},
     "output_type": "execute_result"
    }
   ],
   "source": [
    "pd.DataFrame(df.Product.unique())"
   ]
  },
  {
   "cell_type": "markdown",
   "metadata": {},
   "source": [
    "There are 18 categories of products listed."
   ]
  },
  {
   "cell_type": "code",
   "execution_count": 44,
   "metadata": {},
   "outputs": [
    {
     "data": {
      "text/plain": [
       "Product\n",
       "Mortgage                                                                        278249\n",
       "Debt collection                                                                 245218\n",
       "Credit reporting, credit repair services, or other personal consumer reports    226781\n",
       "Credit reporting                                                                140432\n",
       "Credit card                                                                      89190\n",
       "Bank account or service                                                          86206\n",
       "Student loan                                                                     51742\n",
       "Credit card or prepaid card                                                      47811\n",
       "Checking or savings account                                                      40850\n",
       "Consumer Loan                                                                    31605\n",
       "Vehicle loan or lease                                                            11413\n",
       "Money transfer, virtual currency, or money service                               10212\n",
       "Payday loan, title loan, or personal loan                                         8682\n",
       "Payday loan                                                                       5544\n",
       "Money transfers                                                                   5354\n",
       "Prepaid card                                                                      3819\n",
       "Other financial service                                                           1059\n",
       "Virtual currency                                                                    18\n",
       "Name: Complaint ID, dtype: int64"
      ]
     },
     "execution_count": 44,
     "metadata": {},
     "output_type": "execute_result"
    }
   ],
   "source": [
    "df_product_count = df.groupby('Product').count()['Complaint ID'].sort_values(ascending=False)\n",
    "df_product_count"
   ]
  },
  {
   "cell_type": "code",
   "execution_count": 28,
   "metadata": {},
   "outputs": [
    {
     "data": {
      "text/plain": [
       "<matplotlib.axes._subplots.AxesSubplot at 0x22fa13fce80>"
      ]
     },
     "execution_count": 28,
     "metadata": {},
     "output_type": "execute_result"
    },
    {
     "data": {
      "image/png": "[encoded data removed]",
      "text/plain": [
       "<Figure size 1080x720 with 1 Axes>"
      ]
     },
     "metadata": {},
     "output_type": "display_data"
    }
   ],
   "source": [
    "sn.set_style(\"whitegrid\")\n",
    "plt.figure(figsize=(15, 10))\n",
    "plt.rc('xtick', labelsize=14)\n",
    "plt.xticks(rotation=90)\n",
    "plt.title('# of Complaints by Financial Product')\n",
    "sn.barplot(df_product_count.index, df_product_count.values)"
   ]
  },
  {
   "cell_type": "markdown",
   "metadata": {},
   "source": [
    "Most of the complaints come from products regarding mortgages, debt, and credit reporting."
   ]
  },
  {
   "cell_type": "code",
   "execution_count": 110,
   "metadata": {
    "scrolled": true
   },
   "outputs": [
    {
     "name": "stdout",
     "output_type": "stream",
     "text": [
      "Mortages, debt, and credit reporting comprise 0.69% of the total complaints.\n"
     ]
    }
   ],
   "source": [
    "#Total complaints for mortages, debt, and credit reporting products\n",
    "percentage = (df_product_count[0]+df_product_count[1]+df_product_count[2]+df_product_count[3])/1284185\n",
    "print(f'Mortages, debt, and credit reporting comprise {percentage:.2f}% of the total complaints.')"
   ]
  },
  {
   "cell_type": "markdown",
   "metadata": {},
   "source": [
    "### Sub-Products"
   ]
  },
  {
   "cell_type": "code",
   "execution_count": 75,
   "metadata": {},
   "outputs": [
    {
     "data": {
      "text/plain": [
       "count              1049019\n",
       "unique                  76\n",
       "top       Credit reporting\n",
       "freq                222436\n",
       "Name: Sub-product, dtype: object"
      ]
     },
     "execution_count": 75,
     "metadata": {},
     "output_type": "execute_result"
    }
   ],
   "source": [
    "df['Sub-product'].describe()"
   ]
  },
  {
   "cell_type": "code",
   "execution_count": 81,
   "metadata": {},
   "outputs": [
    {
     "data": {
      "text/html": [
       "<div>\n",
       "<style scoped>\n",
       "    .dataframe tbody tr th:only-of-type {\n",
       "        vertical-align: middle;\n",
       "    }\n",
       "\n",
       "    .dataframe tbody tr th {\n",
       "        vertical-align: top;\n",
       "    }\n",
       "\n",
       "    .dataframe thead th {\n",
       "        text-align: right;\n",
       "    }\n",
       "</style>\n",
       "<table border=\"1\" class=\"dataframe\">\n",
       "  <thead>\n",
       "    <tr style=\"text-align: right;\">\n",
       "      <th></th>\n",
       "      <th>0</th>\n",
       "    </tr>\n",
       "  </thead>\n",
       "  <tbody>\n",
       "    <tr>\n",
       "      <th>0</th>\n",
       "      <td>Other debt</td>\n",
       "    </tr>\n",
       "    <tr>\n",
       "      <th>1</th>\n",
       "      <td>Other banking product or service</td>\n",
       "    </tr>\n",
       "    <tr>\n",
       "      <th>2</th>\n",
       "      <td>Other type of mortgage</td>\n",
       "    </tr>\n",
       "    <tr>\n",
       "      <th>3</th>\n",
       "      <td>Payday loan debt</td>\n",
       "    </tr>\n",
       "    <tr>\n",
       "      <th>4</th>\n",
       "      <td>Medical debt</td>\n",
       "    </tr>\n",
       "    <tr>\n",
       "      <th>5</th>\n",
       "      <td>Credit reporting</td>\n",
       "    </tr>\n",
       "    <tr>\n",
       "      <th>6</th>\n",
       "      <td>I do not know</td>\n",
       "    </tr>\n",
       "    <tr>\n",
       "      <th>7</th>\n",
       "      <td>Savings account</td>\n",
       "    </tr>\n",
       "    <tr>\n",
       "      <th>8</th>\n",
       "      <td>Checking account</td>\n",
       "    </tr>\n",
       "    <tr>\n",
       "      <th>9</th>\n",
       "      <td>International money transfer</td>\n",
       "    </tr>\n",
       "    <tr>\n",
       "      <th>10</th>\n",
       "      <td>Other personal consumer report</td>\n",
       "    </tr>\n",
       "    <tr>\n",
       "      <th>11</th>\n",
       "      <td>Installment loan</td>\n",
       "    </tr>\n",
       "    <tr>\n",
       "      <th>12</th>\n",
       "      <td>Conventional home mortgage</td>\n",
       "    </tr>\n",
       "    <tr>\n",
       "      <th>13</th>\n",
       "      <td>Federal student loan servicing</td>\n",
       "    </tr>\n",
       "    <tr>\n",
       "      <th>14</th>\n",
       "      <td>General-purpose credit card or charge card</td>\n",
       "    </tr>\n",
       "    <tr>\n",
       "      <th>15</th>\n",
       "      <td>Loan</td>\n",
       "    </tr>\n",
       "    <tr>\n",
       "      <th>16</th>\n",
       "      <td>Mobile or digital wallet</td>\n",
       "    </tr>\n",
       "    <tr>\n",
       "      <th>17</th>\n",
       "      <td>CD (Certificate of Deposit)</td>\n",
       "    </tr>\n",
       "    <tr>\n",
       "      <th>18</th>\n",
       "      <td>Lease</td>\n",
       "    </tr>\n",
       "    <tr>\n",
       "      <th>19</th>\n",
       "      <td>Mortgage debt</td>\n",
       "    </tr>\n",
       "  </tbody>\n",
       "</table>\n",
       "</div>"
      ],
      "text/plain": [
       "                                             0\n",
       "0                                   Other debt\n",
       "1             Other banking product or service\n",
       "2                       Other type of mortgage\n",
       "3                             Payday loan debt\n",
       "4                                 Medical debt\n",
       "5                             Credit reporting\n",
       "6                                I do not know\n",
       "7                              Savings account\n",
       "8                             Checking account\n",
       "9                 International money transfer\n",
       "10              Other personal consumer report\n",
       "11                            Installment loan\n",
       "12                  Conventional home mortgage\n",
       "13              Federal student loan servicing\n",
       "14  General-purpose credit card or charge card\n",
       "15                                        Loan\n",
       "16                    Mobile or digital wallet\n",
       "17                 CD (Certificate of Deposit)\n",
       "18                                       Lease\n",
       "19                               Mortgage debt"
      ]
     },
     "execution_count": 81,
     "metadata": {},
     "output_type": "execute_result"
    }
   ],
   "source": [
    "pd.DataFrame(df['Sub-product'].unique())[:20]"
   ]
  },
  {
   "cell_type": "code",
   "execution_count": 82,
   "metadata": {},
   "outputs": [
    {
     "data": {
      "text/plain": [
       "Sub-product\n",
       "Credit reporting                              222436\n",
       "Checking account                               89532\n",
       "Other mortgage                                 86636\n",
       "Conventional fixed mortgage                    70613\n",
       "I do not know                                  50149\n",
       "Other (i.e. phone, health club, etc.)          44554\n",
       "General-purpose credit card or charge card     37109\n",
       "FHA mortgage                                   31669\n",
       "Other debt                                     30576\n",
       "Conventional home mortgage                     28832\n",
       "Credit card                                    28698\n",
       "Conventional adjustable mortgage (ARM)         25380\n",
       "Non-federal student loan                       25165\n",
       "Federal student loan servicing                 22444\n",
       "Medical                                        21187\n",
       "Credit card debt                               20286\n",
       "Other bank product/service                     17825\n",
       "Vehicle loan                                   17782\n",
       "Medical debt                                   16113\n",
       "Installment loan                               12142\n",
       "Name: Complaint ID, dtype: int64"
      ]
     },
     "execution_count": 82,
     "metadata": {},
     "output_type": "execute_result"
    }
   ],
   "source": [
    "#Top 20 Sub-Product complaints\n",
    "df_subproduct_count = df.groupby('Sub-product').count()['Complaint ID'].sort_values(ascending=False)\n",
    "df_subproduct_count[:20]"
   ]
  },
  {
   "cell_type": "code",
   "execution_count": 80,
   "metadata": {},
   "outputs": [
    {
     "data": {
      "text/plain": [
       "<matplotlib.axes._subplots.AxesSubplot at 0x22fa3c54a58>"
      ]
     },
     "execution_count": 80,
     "metadata": {},
     "output_type": "execute_result"
    },
    {
     "data": {
      "image/png": "[encoded data removed]",
      "text/plain": [
       "<Figure size 1080x720 with 1 Axes>"
      ]
     },
     "metadata": {},
     "output_type": "display_data"
    }
   ],
   "source": [
    "sn.set_style(\"whitegrid\")\n",
    "plt.figure(figsize=(15, 10))\n",
    "plt.rc('xtick', labelsize=14)\n",
    "plt.xticks(rotation=90)\n",
    "plt.title('# of Complaints by Financial Sub-Product (Top 20)')\n",
    "sn.barplot(df_subproduct_count.index[:20], df_subproduct_count.values[:20])"
   ]
  },
  {
   "cell_type": "markdown",
   "metadata": {},
   "source": [
    "There are 76 categories of subproducts.  Other than credit related products (debt, loans, credit cards etc.), checking accounts stand out as the 2nd highest subproducts with complaints against it."
   ]
  },
  {
   "cell_type": "markdown",
   "metadata": {},
   "source": [
    "###  Issues"
   ]
  },
  {
   "cell_type": "code",
   "execution_count": 111,
   "metadata": {},
   "outputs": [
    {
     "data": {
      "text/plain": [
       "count                                  1284185\n",
       "unique                                     167\n",
       "top       Incorrect information on your report\n",
       "freq                                    134809\n",
       "Name: Issue, dtype: object"
      ]
     },
     "execution_count": 111,
     "metadata": {},
     "output_type": "execute_result"
    }
   ],
   "source": [
    "df['Issue'].describe()"
   ]
  },
  {
   "cell_type": "code",
   "execution_count": 112,
   "metadata": {
    "scrolled": false
   },
   "outputs": [
    {
     "data": {
      "text/plain": [
       "array(['Written notification about debt',\n",
       "       'Incorrect information on your report',\n",
       "       'Trouble during payment process',\n",
       "       'False statements or representation',\n",
       "       'Attempts to collect debt not owed', 'Managing an account',\n",
       "       'Problem with a lender or other company charging your account',\n",
       "       'Communication tactics', 'Other transaction problem',\n",
       "       'Struggling to pay your loan',\n",
       "       'Dealing with your lender or servicer',\n",
       "       'Advertising and marketing, including promotional offers',\n",
       "       'Getting a loan or lease',\n",
       "       'Confusing or misleading advertising or marketing',\n",
       "       'Improper use of your report', 'Opening an account',\n",
       "       'Problem with the payoff process at the end of the loan',\n",
       "       'Took or threatened to take negative or legal action',\n",
       "       \"Was approved for a loan, but didn't receive the money\",\n",
       "       'Threatened to contact someone or share information improperly',\n",
       "       'Problems at the end of the loan or lease',\n",
       "       \"Problem with a credit reporting company's investigation into an existing problem\",\n",
       "       'Other features, terms, or problems',\n",
       "       'Money was not available when promised',\n",
       "       'Credit monitoring or identity theft protection services',\n",
       "       'Getting a credit card', 'Fraud or scam',\n",
       "       'Problem with fraud alerts or security freezes',\n",
       "       'Struggling to pay mortgage',\n",
       "       'Unable to get your credit report or credit score',\n",
       "       'Problem when making payments',\n",
       "       \"Problem with a company's investigation into an existing issue\",\n",
       "       'Struggling to repay your loan',\n",
       "       'Confusing or missing disclosures', 'Closing on a mortgage',\n",
       "       'Applying for a mortgage or refinancing an existing mortgage',\n",
       "       'Money was taken from your bank account on the wrong day or for the wrong amount',\n",
       "       'Managing the loan or lease', 'Trouble using the card',\n",
       "       'Fees or interest', 'Trouble using your card',\n",
       "       'Closing your account',\n",
       "       \"Charged fees or interest you didn't expect\", 'Closing an account',\n",
       "       'Problem caused by your funds being low',\n",
       "       'Unauthorized transactions or other transaction problem',\n",
       "       'Problem with a purchase shown on your statement',\n",
       "       'Vehicle was repossessed or sold the vehicle',\n",
       "       'Identity theft protection or other monitoring services',\n",
       "       'Struggling to pay your bill', 'Problem with customer service',\n",
       "       'Managing, opening, or closing your mobile wallet account',\n",
       "       \"Can't contact lender or servicer\", 'Getting a loan',\n",
       "       'Getting the loan', 'Unexpected or other fees',\n",
       "       'Problem with a purchase or transfer', 'Other service problem',\n",
       "       'Getting a line of credit', 'Applying for a mortgage',\n",
       "       'Problem getting a card or closing an account',\n",
       "       'Incorrect exchange rate',\n",
       "       'Problem with additional add-on products or services',\n",
       "       'Problem with overdraft',\n",
       "       \"Can't stop withdrawals from your bank account\",\n",
       "       \"Received a loan you didn't apply for\",\n",
       "       \"Loan payment wasn't credited to your account\", 'Excessive fees',\n",
       "       'Problem adding money', 'Advertising', 'Problem with cash advance',\n",
       "       'Wrong amount charged or received', 'Lost or stolen check',\n",
       "       \"Was approved for a loan, but didn't receive money\",\n",
       "       'Lost or stolen money order',\n",
       "       'Overdraft, savings, or rewards features',\n",
       "       'Vehicle was damaged or destroyed the vehicle',\n",
       "       'Credit limit changed', 'Problem with an overdraft',\n",
       "       'Cannot afford Payments', 'Property was sold', 'Payoff process',\n",
       "       'Property was damaged or destroyed property',\n",
       "       'Problem with credit report or credit score',\n",
       "       'Loan servicing, payments, escrow account', 'Delinquent account',\n",
       "       'Application, originator, mortgage broker',\n",
       "       'Incorrect information on credit report',\n",
       "       'Using a debit or ATM card',\n",
       "       'Account opening, closing, or management', 'Other',\n",
       "       'Disclosure verification of debt',\n",
       "       'Loan modification,collection,foreclosure', \"Can't contact lender\",\n",
       "       \"Cont'd attempts collect debt not owed\", \"Can't repay my loan\",\n",
       "       'Dealing with my lender or servicer', 'Late fee', 'Other fee',\n",
       "       'Problems caused by my funds being low',\n",
       "       'Taking/threatening an illegal action',\n",
       "       \"Credit reporting company's investigation\",\n",
       "       'Credit card protection / Debt protection',\n",
       "       'Credit monitoring or identity protection', 'Billing disputes',\n",
       "       'Problems when you are unable to pay', 'Advertising and marketing',\n",
       "       'Closing/Cancelling account',\n",
       "       \"Charged fees or interest I didn't expect\",\n",
       "       'Settlement process and costs',\n",
       "       'Unauthorized transactions/trans. issues',\n",
       "       'Improper contact or sharing of info', 'Deposits and withdrawals',\n",
       "       'Credit determination', 'Customer service/Customer relations',\n",
       "       'Making/receiving payments, sending money',\n",
       "       'Unable to get credit report/credit score',\n",
       "       'Managing, opening, or closing account',\n",
       "       'Taking out the loan or lease',\n",
       "       'Identity theft / Fraud / Embezzlement',\n",
       "       'Applied for loan/did not receive money',\n",
       "       'Improper use of my credit report', 'Rewards',\n",
       "       'Advertising, marketing or disclosures',\n",
       "       'Credit line increase/decrease', 'Credit decision / Underwriting',\n",
       "       'Disclosures', 'APR or interest rate',\n",
       "       'Incorrect/missing disclosures or info', 'Transaction issue',\n",
       "       'Shopping for a loan or lease', 'Billing statement',\n",
       "       \"Can't stop charges to bank account\",\n",
       "       'Application processing delay', 'Balance transfer',\n",
       "       'Customer service / Customer relations',\n",
       "       'Unsolicited issuance of credit card', 'Other service issues',\n",
       "       'Lender repossessed or sold the vehicle',\n",
       "       'Charged bank acct wrong day or amt', 'Other transaction issues',\n",
       "       'Balance transfer fee', 'Sale of account',\n",
       "       'Payment to acct not credited',\n",
       "       \"Received a loan I didn't apply for\", 'Account terms and changes',\n",
       "       'Forbearance / Workout plans', 'Arbitration', 'Convenience checks',\n",
       "       'Bankruptcy', 'Managing the line of credit',\n",
       "       'Shopping for a line of credit', 'Unexpected/Other fees',\n",
       "       'Adding money', 'Privacy', 'Overlimit fee',\n",
       "       'Overdraft, savings or rewards features', 'Cash advance fee',\n",
       "       'Fees', 'Cash advance', 'Lender damaged or destroyed vehicle',\n",
       "       'Lender damaged or destroyed property', 'Lender sold the property',\n",
       "       'Repaying your loan', 'Collection practices',\n",
       "       'Collection debt dispute', 'Credit reporting'], dtype=object)"
      ]
     },
     "execution_count": 112,
     "metadata": {},
     "output_type": "execute_result"
    }
   ],
   "source": [
    "df['Issue'].unique()"
   ]
  },
  {
   "cell_type": "code",
   "execution_count": 115,
   "metadata": {},
   "outputs": [
    {
     "data": {
      "text/plain": [
       "Issue\n",
       "Incorrect information on your report                                                134809\n",
       "Loan modification,collection,foreclosure                                            112311\n",
       "Incorrect information on credit report                                              102686\n",
       "Loan servicing, payments, escrow account                                             77333\n",
       "Cont'd attempts collect debt not owed                                                60687\n",
       "Problem with a credit reporting company's investigation into an existing problem     51498\n",
       "Attempts to collect debt not owed                                                    43181\n",
       "Account opening, closing, or management                                              37961\n",
       "Communication tactics                                                                35449\n",
       "Improper use of your report                                                          33441\n",
       "Disclosure verification of debt                                                      30800\n",
       "Managing an account                                                                  25535\n",
       "Written notification about debt                                                      23766\n",
       "Trouble during payment process                                                       23188\n",
       "Deposits and withdrawals                                                             22851\n",
       "False statements or representation                                                   20278\n",
       "Managing the loan or lease                                                           19438\n",
       "Struggling to pay mortgage                                                           18682\n",
       "Dealing with my lender or servicer                                                   17630\n",
       "Application, originator, mortgage broker                                             17229\n",
       "Name: Complaint ID, dtype: int64"
      ]
     },
     "execution_count": 115,
     "metadata": {},
     "output_type": "execute_result"
    }
   ],
   "source": [
    "#Top 20 issues\n",
    "df_issue_count = df.groupby('Issue').count()['Complaint ID'].sort_values(ascending=False)\n",
    "df_issue_count[:20]"
   ]
  },
  {
   "cell_type": "code",
   "execution_count": 116,
   "metadata": {},
   "outputs": [
    {
     "data": {
      "text/plain": [
       "<matplotlib.axes._subplots.AxesSubplot at 0x22fa15a5cf8>"
      ]
     },
     "execution_count": 116,
     "metadata": {},
     "output_type": "execute_result"
    },
    {
     "data": {
      "image/png": "[encoded data removed]",
      "text/plain": [
       "<Figure size 1080x720 with 1 Axes>"
      ]
     },
     "metadata": {},
     "output_type": "display_data"
    }
   ],
   "source": [
    "sn.set_style(\"whitegrid\")\n",
    "plt.figure(figsize=(15, 10))\n",
    "plt.rc('xtick', labelsize=14)\n",
    "plt.xticks(rotation=90)\n",
    "plt.title('# of Complaints by Issue (Top 20)')\n",
    "sn.barplot(df_issue_count.index[:20], df_issue_count.values[:20])"
   ]
  },
  {
   "cell_type": "markdown",
   "metadata": {},
   "source": [
    "Many of these issues seem to stem from how consumer information is handled and reported.  Perhaps this is a red flag that employees need to be trained to handle consumer information with better care both in use and when entering in data.  From my experience working both at a bank and a mortgage lender, there are plenty of applications taken on a daily basis.  Much of the information entered is sensitive information like ID numbers, SSN's, DOB, etc.  Not properly communicating a product is also seen a lot in finance.  At least in retail, there is always the rush of getting the next client in and out of the seat as fast as possible.  After all, more sales means more commissions."
   ]
  },
  {
   "cell_type": "markdown",
   "metadata": {},
   "source": [
    "### Sub Issues"
   ]
  },
  {
   "cell_type": "code",
   "execution_count": 117,
   "metadata": {},
   "outputs": [
    {
     "data": {
      "text/plain": [
       "count                                  752760\n",
       "unique                                    218\n",
       "top       Information belongs to someone else\n",
       "freq                                    59464\n",
       "Name: Sub-issue, dtype: object"
      ]
     },
     "execution_count": 117,
     "metadata": {},
     "output_type": "execute_result"
    }
   ],
   "source": [
    "df['Sub-issue'].describe()"
   ]
  },
  {
   "cell_type": "code",
   "execution_count": 119,
   "metadata": {
    "collapsed": true
   },
   "outputs": [],
   "source": [
    "df_subissue_count = df.groupby('Sub-issue').count()['Complaint ID'].sort_values(ascending=False)"
   ]
  },
  {
   "cell_type": "code",
   "execution_count": 120,
   "metadata": {},
   "outputs": [
    {
     "data": {
      "text/plain": [
       "Sub-issue\n",
       "Information belongs to someone else                                                 59464\n",
       "Account status                                                                      37057\n",
       "Their investigation did not fix an error on your report                             37028\n",
       "Debt is not mine                                                                    36731\n",
       "Information is not mine                                                             32384\n",
       "Account status incorrect                                                            27090\n",
       "Debt was paid                                                                       26029\n",
       "Account information incorrect                                                       23907\n",
       "Debt is not yours                                                                   23259\n",
       "Not given enough info to verify debt                                                21814\n",
       "Credit inquiries on your report that you don't recognize                            21443\n",
       "Frequent or repeated calls                                                          20772\n",
       "Didn't receive enough information to verify debt                                    17313\n",
       "Attempted to collect wrong amount                                                   15999\n",
       "Reporting company used your report improperly                                       11273\n",
       "Account terms                                                                       10995\n",
       "Public record                                                                        8876\n",
       "Deposits and withdrawals                                                             8783\n",
       "Debt was result of identity theft                                                    8518\n",
       "Credit card company isn't resolving a dispute about a purchase on your statement     7860\n",
       "Name: Complaint ID, dtype: int64"
      ]
     },
     "execution_count": 120,
     "metadata": {},
     "output_type": "execute_result"
    }
   ],
   "source": [
    "df_subissue_count[:20]"
   ]
  },
  {
   "cell_type": "markdown",
   "metadata": {},
   "source": [
    "There does not need to be a graph to see among the top 20 sub-issues that again the alot of the problems come from how consumer information is handled.  What needs to be done? This seems less of a question of customer service, and more 'How can firms better handle consumer information?'  Taking a little extra time or pre-cautionary steps could save tens of tousands of customers the pain of mishandling their information."
   ]
  },
  {
   "cell_type": "markdown",
   "metadata": {},
   "source": [
    "### Consumer Complaint Narrative\n",
    "Skip over this for now, we will be using some NLP techniques for machine learning"
   ]
  },
  {
   "cell_type": "markdown",
   "metadata": {},
   "source": [
    "### Company Public Response"
   ]
  },
  {
   "cell_type": "code",
   "execution_count": 123,
   "metadata": {
    "collapsed": true
   },
   "outputs": [],
   "source": [
    "df_response_count = df.groupby('Company public response').count()['Complaint ID'].sort_values(ascending=False)"
   ]
  },
  {
   "cell_type": "code",
   "execution_count": 126,
   "metadata": {},
   "outputs": [
    {
     "data": {
      "text/html": [
       "<div>\n",
       "<style scoped>\n",
       "    .dataframe tbody tr th:only-of-type {\n",
       "        vertical-align: middle;\n",
       "    }\n",
       "\n",
       "    .dataframe tbody tr th {\n",
       "        vertical-align: top;\n",
       "    }\n",
       "\n",
       "    .dataframe thead th {\n",
       "        text-align: right;\n",
       "    }\n",
       "</style>\n",
       "<table border=\"1\" class=\"dataframe\">\n",
       "  <thead>\n",
       "    <tr style=\"text-align: right;\">\n",
       "      <th></th>\n",
       "      <th>Complaint ID</th>\n",
       "    </tr>\n",
       "    <tr>\n",
       "      <th>Company public response</th>\n",
       "      <th></th>\n",
       "    </tr>\n",
       "  </thead>\n",
       "  <tbody>\n",
       "    <tr>\n",
       "      <th>Company has responded to the consumer and the CFPB and chooses not to provide a public response</th>\n",
       "      <td>312608</td>\n",
       "    </tr>\n",
       "    <tr>\n",
       "      <th>Company believes it acted appropriately as authorized by contract or law</th>\n",
       "      <td>61244</td>\n",
       "    </tr>\n",
       "    <tr>\n",
       "      <th>Company chooses not to provide a public response</th>\n",
       "      <td>52473</td>\n",
       "    </tr>\n",
       "    <tr>\n",
       "      <th>Company believes the complaint is the result of a misunderstanding</th>\n",
       "      <td>5685</td>\n",
       "    </tr>\n",
       "    <tr>\n",
       "      <th>Company disputes the facts presented in the complaint</th>\n",
       "      <td>5265</td>\n",
       "    </tr>\n",
       "    <tr>\n",
       "      <th>Company believes complaint caused principally by actions of third party outside the control or direction of the company</th>\n",
       "      <td>3996</td>\n",
       "    </tr>\n",
       "    <tr>\n",
       "      <th>Company believes complaint is the result of an isolated error</th>\n",
       "      <td>3734</td>\n",
       "    </tr>\n",
       "    <tr>\n",
       "      <th>Company believes complaint represents an opportunity for improvement to better serve consumers</th>\n",
       "      <td>2621</td>\n",
       "    </tr>\n",
       "    <tr>\n",
       "      <th>Company can't verify or dispute the facts in the complaint</th>\n",
       "      <td>2299</td>\n",
       "    </tr>\n",
       "    <tr>\n",
       "      <th>Company believes complaint relates to a discontinued policy or procedure</th>\n",
       "      <td>61</td>\n",
       "    </tr>\n",
       "  </tbody>\n",
       "</table>\n",
       "</div>"
      ],
      "text/plain": [
       "                                                    Complaint ID\n",
       "Company public response                                         \n",
       "Company has responded to the consumer and the C...        312608\n",
       "Company believes it acted appropriately as auth...         61244\n",
       "Company chooses not to provide a public response           52473\n",
       "Company believes the complaint is the result of...          5685\n",
       "Company disputes the facts presented in the com...          5265\n",
       "Company believes complaint caused principally b...          3996\n",
       "Company believes complaint is the result of an ...          3734\n",
       "Company believes complaint represents an opport...          2621\n",
       "Company can't verify or dispute the facts in th...          2299\n",
       "Company believes complaint relates to a discont...            61"
      ]
     },
     "execution_count": 126,
     "metadata": {},
     "output_type": "execute_result"
    }
   ],
   "source": [
    "pd.DataFrame(df_response_count)"
   ]
  },
  {
   "cell_type": "code",
   "execution_count": 128,
   "metadata": {},
   "outputs": [
    {
     "data": {
      "text/plain": [
       "Complaint ID    449986\n",
       "dtype: int64"
      ]
     },
     "execution_count": 128,
     "metadata": {},
     "output_type": "execute_result"
    }
   ],
   "source": [
    "pd.DataFrame(df_response_count).sum()"
   ]
  },
  {
   "cell_type": "code",
   "execution_count": 129,
   "metadata": {},
   "outputs": [
    {
     "name": "stdout",
     "output_type": "stream",
     "text": [
      "Out of 1,284,185 complaints submitted to the CFPB, 0.35% of the time the financial firm has responded to the complaint in some way.\n"
     ]
    }
   ],
   "source": [
    "reponse = 449986/1284185\n",
    "print(f'Out of 1,284,185 complaints submitted to the CFPB, {reponse:.2f}% of the time the financial firm has responded to the complaint in some way.')"
   ]
  },
  {
   "cell_type": "markdown",
   "metadata": {},
   "source": [
    "### Company"
   ]
  },
  {
   "cell_type": "code",
   "execution_count": 132,
   "metadata": {},
   "outputs": [
    {
     "data": {
      "text/plain": [
       "count           1284185\n",
       "unique             5283\n",
       "top       EQUIFAX, INC.\n",
       "freq             115905\n",
       "Name: Company, dtype: object"
      ]
     },
     "execution_count": 132,
     "metadata": {},
     "output_type": "execute_result"
    }
   ],
   "source": [
    "df['Company'].describe()"
   ]
  },
  {
   "cell_type": "code",
   "execution_count": 133,
   "metadata": {
    "collapsed": true
   },
   "outputs": [],
   "source": [
    "df_company_count = df.groupby('Company').count()['Complaint ID'].sort_values(ascending=False)"
   ]
  },
  {
   "cell_type": "code",
   "execution_count": 135,
   "metadata": {},
   "outputs": [
    {
     "data": {
      "text/plain": [
       "Company\n",
       "EQUIFAX, INC.                             115905\n",
       "Experian Information Solutions Inc.       104100\n",
       "TRANSUNION INTERMEDIATE HOLDINGS, INC.     96720\n",
       "BANK OF AMERICA, NATIONAL ASSOCIATION      82171\n",
       "WELLS FARGO & COMPANY                      70989\n",
       "JPMORGAN CHASE & CO.                       60285\n",
       "CITIBANK, N.A.                             49096\n",
       "CAPITAL ONE FINANCIAL CORPORATION          34626\n",
       "Navient Solutions, LLC.                    29323\n",
       "OCWEN LOAN SERVICING LLC                   27757\n",
       "SYNCHRONY FINANCIAL                        21955\n",
       "NATIONSTAR MORTGAGE                        20462\n",
       "U.S. BANCORP                               17139\n",
       "Ditech Financial LLC                       14110\n",
       "AMERICAN EXPRESS COMPANY                   13763\n",
       "PNC Bank N.A.                              11813\n",
       "ENCORE CAPITAL GROUP INC.                  11428\n",
       "PORTFOLIO RECOVERY ASSOCIATES INC          10379\n",
       "DISCOVER BANK                              10341\n",
       "TD BANK US HOLDING COMPANY                  9735\n",
       "Name: Complaint ID, dtype: int64"
      ]
     },
     "execution_count": 135,
     "metadata": {},
     "output_type": "execute_result"
    }
   ],
   "source": [
    "df_company_count[:20]"
   ]
  },
  {
   "cell_type": "code",
   "execution_count": 138,
   "metadata": {},
   "outputs": [
    {
     "data": {
      "text/plain": [
       "<matplotlib.axes._subplots.AxesSubplot at 0x22f83189a58>"
      ]
     },
     "execution_count": 138,
     "metadata": {},
     "output_type": "execute_result"
    },
    {
     "data": {
      "image/png": "[encoded data removed]",
      "text/plain": [
       "<Figure size 1080x720 with 1 Axes>"
      ]
     },
     "metadata": {},
     "output_type": "display_data"
    }
   ],
   "source": [
    "sn.set_style(\"whitegrid\")\n",
    "plt.figure(figsize=(15, 10))\n",
    "plt.rc('xtick', labelsize=14)\n",
    "plt.xticks(rotation=90)\n",
    "plt.title('Percentage of Complaints by Company (Top 20)')\n",
    "sn.barplot(df_company_count.index[:20], df_company_count.values[:20]/1284185)"
   ]
  },
  {
   "cell_type": "markdown",
   "metadata": {},
   "source": [
    "As a past financial professional, the graph above is not surprising at all.  The biggest culprits are the credit reporting agencies and big banks.  With the larger firms, it does make sense that there would be more over all complaints due to the size of their customer base.  It is also harder to manage customer service and sales reps as a company becomes larger and the customer base increases."
   ]
  },
  {
   "cell_type": "markdown",
   "metadata": {},
   "source": [
    "### Timely Response"
   ]
  },
  {
   "cell_type": "code",
   "execution_count": 140,
   "metadata": {},
   "outputs": [
    {
     "data": {
      "text/plain": [
       "count     1284185\n",
       "unique          2\n",
       "top           Yes\n",
       "freq      1251987\n",
       "Name: Timely response?, dtype: object"
      ]
     },
     "execution_count": 140,
     "metadata": {},
     "output_type": "execute_result"
    }
   ],
   "source": [
    "df['Timely response?'].describe()"
   ]
  },
  {
   "cell_type": "code",
   "execution_count": 141,
   "metadata": {
    "collapsed": true
   },
   "outputs": [],
   "source": [
    "df_response_count = df.groupby('Timely response?').count()['Complaint ID'].sort_values(ascending=False)"
   ]
  },
  {
   "cell_type": "code",
   "execution_count": 142,
   "metadata": {},
   "outputs": [
    {
     "data": {
      "text/plain": [
       "Timely response?\n",
       "Yes    1251987\n",
       "No       32198\n",
       "Name: Complaint ID, dtype: int64"
      ]
     },
     "execution_count": 142,
     "metadata": {},
     "output_type": "execute_result"
    }
   ],
   "source": [
    "df_response_count"
   ]
  },
  {
   "cell_type": "code",
   "execution_count": 145,
   "metadata": {
    "collapsed": true
   },
   "outputs": [],
   "source": [
    "un_timely = df_response_count['No']/(df_response_count['Yes'] + df_response_count['No']) * 100"
   ]
  },
  {
   "cell_type": "code",
   "execution_count": 146,
   "metadata": {},
   "outputs": [
    {
     "name": "stdout",
     "output_type": "stream",
     "text": [
      "2.51% of complaints were not appropriately handled in time.\n"
     ]
    }
   ],
   "source": [
    "print(f'{un_timely:.2f}% of complaints were not appropriately handled in time.')"
   ]
  },
  {
   "cell_type": "markdown",
   "metadata": {},
   "source": [
    "That number seems pretty low, but just because a complaint was handled in a timely manner does not mean it was handled in the best way.  Also, 2.51% is reflected of complaints reported to the CPFB and is still around 32198 customers."
   ]
  },
  {
   "cell_type": "markdown",
   "metadata": {},
   "source": [
    "##  Analyzing the Data Further"
   ]
  },
  {
   "cell_type": "markdown",
   "metadata": {},
   "source": [
    "Not all of the features were looked through above, but I think the ones listed were the more important features.  I will further analyze the data set below to find more interesting relationaships."
   ]
  },
  {
   "cell_type": "markdown",
   "metadata": {},
   "source": [
    "### Products with Timely Reponse"
   ]
  },
  {
   "cell_type": "code",
   "execution_count": 8,
   "metadata": {},
   "outputs": [
    {
     "data": {
      "text/html": [
       "<div>\n",
       "<style scoped>\n",
       "    .dataframe tbody tr th:only-of-type {\n",
       "        vertical-align: middle;\n",
       "    }\n",
       "\n",
       "    .dataframe tbody tr th {\n",
       "        vertical-align: top;\n",
       "    }\n",
       "\n",
       "    .dataframe thead th {\n",
       "        text-align: right;\n",
       "    }\n",
       "</style>\n",
       "<table border=\"1\" class=\"dataframe\">\n",
       "  <thead>\n",
       "    <tr style=\"text-align: right;\">\n",
       "      <th></th>\n",
       "      <th>Date received</th>\n",
       "      <th>Product</th>\n",
       "      <th>Sub-product</th>\n",
       "      <th>Issue</th>\n",
       "      <th>Sub-issue</th>\n",
       "      <th>Consumer complaint narrative</th>\n",
       "      <th>Company public response</th>\n",
       "      <th>Company</th>\n",
       "      <th>State</th>\n",
       "      <th>ZIP code</th>\n",
       "      <th>Tags</th>\n",
       "      <th>Consumer consent provided?</th>\n",
       "      <th>Submitted via</th>\n",
       "      <th>Date sent to company</th>\n",
       "      <th>Company response to consumer</th>\n",
       "      <th>Consumer disputed?</th>\n",
       "      <th>Complaint ID</th>\n",
       "    </tr>\n",
       "    <tr>\n",
       "      <th>Timely response?</th>\n",
       "      <th></th>\n",
       "      <th></th>\n",
       "      <th></th>\n",
       "      <th></th>\n",
       "      <th></th>\n",
       "      <th></th>\n",
       "      <th></th>\n",
       "      <th></th>\n",
       "      <th></th>\n",
       "      <th></th>\n",
       "      <th></th>\n",
       "      <th></th>\n",
       "      <th></th>\n",
       "      <th></th>\n",
       "      <th></th>\n",
       "      <th></th>\n",
       "      <th></th>\n",
       "    </tr>\n",
       "  </thead>\n",
       "  <tbody>\n",
       "    <tr>\n",
       "      <th>Yes</th>\n",
       "      <td>272721</td>\n",
       "      <td>272721</td>\n",
       "      <td>272721</td>\n",
       "      <td>272721</td>\n",
       "      <td>0</td>\n",
       "      <td>52116</td>\n",
       "      <td>69311</td>\n",
       "      <td>272721</td>\n",
       "      <td>269459</td>\n",
       "      <td>254939</td>\n",
       "      <td>39765</td>\n",
       "      <td>89018</td>\n",
       "      <td>272721</td>\n",
       "      <td>272721</td>\n",
       "      <td>272720</td>\n",
       "      <td>222101</td>\n",
       "      <td>272721</td>\n",
       "    </tr>\n",
       "    <tr>\n",
       "      <th>No</th>\n",
       "      <td>5528</td>\n",
       "      <td>5528</td>\n",
       "      <td>5528</td>\n",
       "      <td>5528</td>\n",
       "      <td>0</td>\n",
       "      <td>896</td>\n",
       "      <td>444</td>\n",
       "      <td>5528</td>\n",
       "      <td>5463</td>\n",
       "      <td>5221</td>\n",
       "      <td>763</td>\n",
       "      <td>1475</td>\n",
       "      <td>5528</td>\n",
       "      <td>5528</td>\n",
       "      <td>5528</td>\n",
       "      <td>4798</td>\n",
       "      <td>5528</td>\n",
       "    </tr>\n",
       "  </tbody>\n",
       "</table>\n",
       "</div>"
      ],
      "text/plain": [
       "                  Date received  Product  Sub-product   Issue  Sub-issue  \\\n",
       "Timely response?                                                           \n",
       "Yes                      272721   272721       272721  272721          0   \n",
       "No                         5528     5528         5528    5528          0   \n",
       "\n",
       "                  Consumer complaint narrative  Company public response  \\\n",
       "Timely response?                                                          \n",
       "Yes                                      52116                    69311   \n",
       "No                                         896                      444   \n",
       "\n",
       "                  Company   State  ZIP code   Tags  \\\n",
       "Timely response?                                     \n",
       "Yes                272721  269459    254939  39765   \n",
       "No                   5528    5463      5221    763   \n",
       "\n",
       "                  Consumer consent provided?  Submitted via  \\\n",
       "Timely response?                                              \n",
       "Yes                                    89018         272721   \n",
       "No                                      1475           5528   \n",
       "\n",
       "                  Date sent to company  Company response to consumer  \\\n",
       "Timely response?                                                       \n",
       "Yes                             272721                        272720   \n",
       "No                                5528                          5528   \n",
       "\n",
       "                  Consumer disputed?  Complaint ID  \n",
       "Timely response?                                    \n",
       "Yes                           222101        272721  \n",
       "No                              4798          5528  "
      ]
     },
     "execution_count": 8,
     "metadata": {},
     "output_type": "execute_result"
    }
   ],
   "source": [
    "# Mortgage\n",
    "df_product_count = df[df.Product == 'Mortgage'].groupby('Timely response?').count().sort_values(by='Complaint ID', ascending=False)\n",
    "df_product_count.head()"
   ]
  },
  {
   "cell_type": "code",
   "execution_count": 26,
   "metadata": {},
   "outputs": [
    {
     "data": {
      "text/html": [
       "<div>\n",
       "<style scoped>\n",
       "    .dataframe tbody tr th:only-of-type {\n",
       "        vertical-align: middle;\n",
       "    }\n",
       "\n",
       "    .dataframe tbody tr th {\n",
       "        vertical-align: top;\n",
       "    }\n",
       "\n",
       "    .dataframe thead th {\n",
       "        text-align: right;\n",
       "    }\n",
       "</style>\n",
       "<table border=\"1\" class=\"dataframe\">\n",
       "  <thead>\n",
       "    <tr style=\"text-align: right;\">\n",
       "      <th></th>\n",
       "      <th>Date received</th>\n",
       "      <th>Product</th>\n",
       "      <th>Sub-product</th>\n",
       "      <th>Issue</th>\n",
       "      <th>Sub-issue</th>\n",
       "      <th>Consumer complaint narrative</th>\n",
       "      <th>Company public response</th>\n",
       "      <th>Company</th>\n",
       "      <th>State</th>\n",
       "      <th>ZIP code</th>\n",
       "      <th>Tags</th>\n",
       "      <th>Consumer consent provided?</th>\n",
       "      <th>Submitted via</th>\n",
       "      <th>Date sent to company</th>\n",
       "      <th>Company response to consumer</th>\n",
       "      <th>Consumer disputed?</th>\n",
       "      <th>Complaint ID</th>\n",
       "    </tr>\n",
       "    <tr>\n",
       "      <th>Timely response?</th>\n",
       "      <th></th>\n",
       "      <th></th>\n",
       "      <th></th>\n",
       "      <th></th>\n",
       "      <th></th>\n",
       "      <th></th>\n",
       "      <th></th>\n",
       "      <th></th>\n",
       "      <th></th>\n",
       "      <th></th>\n",
       "      <th></th>\n",
       "      <th></th>\n",
       "      <th></th>\n",
       "      <th></th>\n",
       "      <th></th>\n",
       "      <th></th>\n",
       "      <th></th>\n",
       "    </tr>\n",
       "  </thead>\n",
       "  <tbody>\n",
       "    <tr>\n",
       "      <th>Yes</th>\n",
       "      <td>229972</td>\n",
       "      <td>229972</td>\n",
       "      <td>229972</td>\n",
       "      <td>229972</td>\n",
       "      <td>229972</td>\n",
       "      <td>80716</td>\n",
       "      <td>76503</td>\n",
       "      <td>229972</td>\n",
       "      <td>227448</td>\n",
       "      <td>207705</td>\n",
       "      <td>34242</td>\n",
       "      <td>143719</td>\n",
       "      <td>229972</td>\n",
       "      <td>229971</td>\n",
       "      <td>229970</td>\n",
       "      <td>135168</td>\n",
       "      <td>229972</td>\n",
       "    </tr>\n",
       "    <tr>\n",
       "      <th>No</th>\n",
       "      <td>15246</td>\n",
       "      <td>15246</td>\n",
       "      <td>15246</td>\n",
       "      <td>15246</td>\n",
       "      <td>15246</td>\n",
       "      <td>6053</td>\n",
       "      <td>2788</td>\n",
       "      <td>15246</td>\n",
       "      <td>15050</td>\n",
       "      <td>13578</td>\n",
       "      <td>2164</td>\n",
       "      <td>9960</td>\n",
       "      <td>15246</td>\n",
       "      <td>15246</td>\n",
       "      <td>15246</td>\n",
       "      <td>10667</td>\n",
       "      <td>15246</td>\n",
       "    </tr>\n",
       "  </tbody>\n",
       "</table>\n",
       "</div>"
      ],
      "text/plain": [
       "                  Date received  Product  Sub-product   Issue  Sub-issue  \\\n",
       "Timely response?                                                           \n",
       "Yes                      229972   229972       229972  229972     229972   \n",
       "No                        15246    15246        15246   15246      15246   \n",
       "\n",
       "                  Consumer complaint narrative  Company public response  \\\n",
       "Timely response?                                                          \n",
       "Yes                                      80716                    76503   \n",
       "No                                        6053                     2788   \n",
       "\n",
       "                  Company   State  ZIP code   Tags  \\\n",
       "Timely response?                                     \n",
       "Yes                229972  227448    207705  34242   \n",
       "No                  15246   15050     13578   2164   \n",
       "\n",
       "                  Consumer consent provided?  Submitted via  \\\n",
       "Timely response?                                              \n",
       "Yes                                   143719         229972   \n",
       "No                                      9960          15246   \n",
       "\n",
       "                  Date sent to company  Company response to consumer  \\\n",
       "Timely response?                                                       \n",
       "Yes                             229971                        229970   \n",
       "No                               15246                         15246   \n",
       "\n",
       "                  Consumer disputed?  Complaint ID  \n",
       "Timely response?                                    \n",
       "Yes                           135168        229972  \n",
       "No                             10667         15246  "
      ]
     },
     "execution_count": 26,
     "metadata": {},
     "output_type": "execute_result"
    }
   ],
   "source": [
    "# Debt Collcetion\n",
    "df_product_count = df[df.Product == 'Debt collection'].groupby('Timely response?').count().sort_values(by='Complaint ID', ascending=False)\n",
    "df_product_count"
   ]
  },
  {
   "cell_type": "code",
   "execution_count": 27,
   "metadata": {},
   "outputs": [
    {
     "data": {
      "text/html": [
       "<div>\n",
       "<style scoped>\n",
       "    .dataframe tbody tr th:only-of-type {\n",
       "        vertical-align: middle;\n",
       "    }\n",
       "\n",
       "    .dataframe tbody tr th {\n",
       "        vertical-align: top;\n",
       "    }\n",
       "\n",
       "    .dataframe thead th {\n",
       "        text-align: right;\n",
       "    }\n",
       "</style>\n",
       "<table border=\"1\" class=\"dataframe\">\n",
       "  <thead>\n",
       "    <tr style=\"text-align: right;\">\n",
       "      <th></th>\n",
       "      <th>Date received</th>\n",
       "      <th>Product</th>\n",
       "      <th>Sub-product</th>\n",
       "      <th>Issue</th>\n",
       "      <th>Sub-issue</th>\n",
       "      <th>Consumer complaint narrative</th>\n",
       "      <th>Company public response</th>\n",
       "      <th>Company</th>\n",
       "      <th>State</th>\n",
       "      <th>ZIP code</th>\n",
       "      <th>Tags</th>\n",
       "      <th>Consumer consent provided?</th>\n",
       "      <th>Submitted via</th>\n",
       "      <th>Date sent to company</th>\n",
       "      <th>Company response to consumer</th>\n",
       "      <th>Consumer disputed?</th>\n",
       "      <th>Complaint ID</th>\n",
       "    </tr>\n",
       "    <tr>\n",
       "      <th>Timely response?</th>\n",
       "      <th></th>\n",
       "      <th></th>\n",
       "      <th></th>\n",
       "      <th></th>\n",
       "      <th></th>\n",
       "      <th></th>\n",
       "      <th></th>\n",
       "      <th></th>\n",
       "      <th></th>\n",
       "      <th></th>\n",
       "      <th></th>\n",
       "      <th></th>\n",
       "      <th></th>\n",
       "      <th></th>\n",
       "      <th></th>\n",
       "      <th></th>\n",
       "      <th></th>\n",
       "    </tr>\n",
       "  </thead>\n",
       "  <tbody>\n",
       "    <tr>\n",
       "      <th>Yes</th>\n",
       "      <td>140135</td>\n",
       "      <td>140135</td>\n",
       "      <td>0</td>\n",
       "      <td>140135</td>\n",
       "      <td>140135</td>\n",
       "      <td>31499</td>\n",
       "      <td>54518</td>\n",
       "      <td>140135</td>\n",
       "      <td>139664</td>\n",
       "      <td>132530</td>\n",
       "      <td>17361</td>\n",
       "      <td>69485</td>\n",
       "      <td>140135</td>\n",
       "      <td>140135</td>\n",
       "      <td>140135</td>\n",
       "      <td>140135</td>\n",
       "      <td>140135</td>\n",
       "    </tr>\n",
       "    <tr>\n",
       "      <th>No</th>\n",
       "      <td>297</td>\n",
       "      <td>297</td>\n",
       "      <td>0</td>\n",
       "      <td>297</td>\n",
       "      <td>297</td>\n",
       "      <td>89</td>\n",
       "      <td>90</td>\n",
       "      <td>297</td>\n",
       "      <td>295</td>\n",
       "      <td>271</td>\n",
       "      <td>35</td>\n",
       "      <td>181</td>\n",
       "      <td>297</td>\n",
       "      <td>297</td>\n",
       "      <td>297</td>\n",
       "      <td>297</td>\n",
       "      <td>297</td>\n",
       "    </tr>\n",
       "  </tbody>\n",
       "</table>\n",
       "</div>"
      ],
      "text/plain": [
       "                  Date received  Product  Sub-product   Issue  Sub-issue  \\\n",
       "Timely response?                                                           \n",
       "Yes                      140135   140135            0  140135     140135   \n",
       "No                          297      297            0     297        297   \n",
       "\n",
       "                  Consumer complaint narrative  Company public response  \\\n",
       "Timely response?                                                          \n",
       "Yes                                      31499                    54518   \n",
       "No                                          89                       90   \n",
       "\n",
       "                  Company   State  ZIP code   Tags  \\\n",
       "Timely response?                                     \n",
       "Yes                140135  139664    132530  17361   \n",
       "No                    297     295       271     35   \n",
       "\n",
       "                  Consumer consent provided?  Submitted via  \\\n",
       "Timely response?                                              \n",
       "Yes                                    69485         140135   \n",
       "No                                       181            297   \n",
       "\n",
       "                  Date sent to company  Company response to consumer  \\\n",
       "Timely response?                                                       \n",
       "Yes                             140135                        140135   \n",
       "No                                 297                           297   \n",
       "\n",
       "                  Consumer disputed?  Complaint ID  \n",
       "Timely response?                                    \n",
       "Yes                           140135        140135  \n",
       "No                               297           297  "
      ]
     },
     "execution_count": 27,
     "metadata": {},
     "output_type": "execute_result"
    }
   ],
   "source": [
    "# Credit Reporting\n",
    "df_product_count = df[df.Product == 'Credit reporting'].groupby('Timely response?').count().sort_values(by='Complaint ID', ascending=False)\n",
    "df_product_count"
   ]
  },
  {
   "cell_type": "code",
   "execution_count": 28,
   "metadata": {},
   "outputs": [
    {
     "data": {
      "text/html": [
       "<div>\n",
       "<style scoped>\n",
       "    .dataframe tbody tr th:only-of-type {\n",
       "        vertical-align: middle;\n",
       "    }\n",
       "\n",
       "    .dataframe tbody tr th {\n",
       "        vertical-align: top;\n",
       "    }\n",
       "\n",
       "    .dataframe thead th {\n",
       "        text-align: right;\n",
       "    }\n",
       "</style>\n",
       "<table border=\"1\" class=\"dataframe\">\n",
       "  <thead>\n",
       "    <tr style=\"text-align: right;\">\n",
       "      <th></th>\n",
       "      <th>Date received</th>\n",
       "      <th>Product</th>\n",
       "      <th>Sub-product</th>\n",
       "      <th>Issue</th>\n",
       "      <th>Sub-issue</th>\n",
       "      <th>Consumer complaint narrative</th>\n",
       "      <th>Company public response</th>\n",
       "      <th>Company</th>\n",
       "      <th>State</th>\n",
       "      <th>ZIP code</th>\n",
       "      <th>Tags</th>\n",
       "      <th>Consumer consent provided?</th>\n",
       "      <th>Submitted via</th>\n",
       "      <th>Date sent to company</th>\n",
       "      <th>Company response to consumer</th>\n",
       "      <th>Consumer disputed?</th>\n",
       "      <th>Complaint ID</th>\n",
       "    </tr>\n",
       "    <tr>\n",
       "      <th>Timely response?</th>\n",
       "      <th></th>\n",
       "      <th></th>\n",
       "      <th></th>\n",
       "      <th></th>\n",
       "      <th></th>\n",
       "      <th></th>\n",
       "      <th></th>\n",
       "      <th></th>\n",
       "      <th></th>\n",
       "      <th></th>\n",
       "      <th></th>\n",
       "      <th></th>\n",
       "      <th></th>\n",
       "      <th></th>\n",
       "      <th></th>\n",
       "      <th></th>\n",
       "      <th></th>\n",
       "    </tr>\n",
       "  </thead>\n",
       "  <tbody>\n",
       "    <tr>\n",
       "      <th>Yes</th>\n",
       "      <td>223587</td>\n",
       "      <td>223587</td>\n",
       "      <td>223587</td>\n",
       "      <td>223587</td>\n",
       "      <td>217908</td>\n",
       "      <td>90989</td>\n",
       "      <td>128480</td>\n",
       "      <td>223587</td>\n",
       "      <td>220216</td>\n",
       "      <td>198706</td>\n",
       "      <td>26493</td>\n",
       "      <td>184520</td>\n",
       "      <td>223587</td>\n",
       "      <td>223587</td>\n",
       "      <td>223583</td>\n",
       "      <td>0</td>\n",
       "      <td>223587</td>\n",
       "    </tr>\n",
       "    <tr>\n",
       "      <th>No</th>\n",
       "      <td>3194</td>\n",
       "      <td>3194</td>\n",
       "      <td>3194</td>\n",
       "      <td>3194</td>\n",
       "      <td>3088</td>\n",
       "      <td>1522</td>\n",
       "      <td>429</td>\n",
       "      <td>3194</td>\n",
       "      <td>3166</td>\n",
       "      <td>2788</td>\n",
       "      <td>423</td>\n",
       "      <td>2642</td>\n",
       "      <td>3194</td>\n",
       "      <td>3194</td>\n",
       "      <td>3194</td>\n",
       "      <td>0</td>\n",
       "      <td>3194</td>\n",
       "    </tr>\n",
       "  </tbody>\n",
       "</table>\n",
       "</div>"
      ],
      "text/plain": [
       "                  Date received  Product  Sub-product   Issue  Sub-issue  \\\n",
       "Timely response?                                                           \n",
       "Yes                      223587   223587       223587  223587     217908   \n",
       "No                         3194     3194         3194    3194       3088   \n",
       "\n",
       "                  Consumer complaint narrative  Company public response  \\\n",
       "Timely response?                                                          \n",
       "Yes                                      90989                   128480   \n",
       "No                                        1522                      429   \n",
       "\n",
       "                  Company   State  ZIP code   Tags  \\\n",
       "Timely response?                                     \n",
       "Yes                223587  220216    198706  26493   \n",
       "No                   3194    3166      2788    423   \n",
       "\n",
       "                  Consumer consent provided?  Submitted via  \\\n",
       "Timely response?                                              \n",
       "Yes                                   184520         223587   \n",
       "No                                      2642           3194   \n",
       "\n",
       "                  Date sent to company  Company response to consumer  \\\n",
       "Timely response?                                                       \n",
       "Yes                             223587                        223583   \n",
       "No                                3194                          3194   \n",
       "\n",
       "                  Consumer disputed?  Complaint ID  \n",
       "Timely response?                                    \n",
       "Yes                                0        223587  \n",
       "No                                 0          3194  "
      ]
     },
     "execution_count": 28,
     "metadata": {},
     "output_type": "execute_result"
    }
   ],
   "source": [
    "# Credit reporting, credit repair services, or other personal consumer reports\n",
    "df_product_count = df[df.Product == 'Credit reporting, credit repair services, or other personal consumer reports'].groupby('Timely response?').count().sort_values(by='Complaint ID', ascending=False)\n",
    "df_product_count"
   ]
  },
  {
   "cell_type": "code",
   "execution_count": 29,
   "metadata": {},
   "outputs": [
    {
     "data": {
      "text/html": [
       "<div>\n",
       "<style scoped>\n",
       "    .dataframe tbody tr th:only-of-type {\n",
       "        vertical-align: middle;\n",
       "    }\n",
       "\n",
       "    .dataframe tbody tr th {\n",
       "        vertical-align: top;\n",
       "    }\n",
       "\n",
       "    .dataframe thead th {\n",
       "        text-align: right;\n",
       "    }\n",
       "</style>\n",
       "<table border=\"1\" class=\"dataframe\">\n",
       "  <thead>\n",
       "    <tr style=\"text-align: right;\">\n",
       "      <th></th>\n",
       "      <th>Date received</th>\n",
       "      <th>Product</th>\n",
       "      <th>Sub-product</th>\n",
       "      <th>Issue</th>\n",
       "      <th>Sub-issue</th>\n",
       "      <th>Consumer complaint narrative</th>\n",
       "      <th>Company public response</th>\n",
       "      <th>Company</th>\n",
       "      <th>State</th>\n",
       "      <th>ZIP code</th>\n",
       "      <th>Tags</th>\n",
       "      <th>Consumer consent provided?</th>\n",
       "      <th>Submitted via</th>\n",
       "      <th>Date sent to company</th>\n",
       "      <th>Company response to consumer</th>\n",
       "      <th>Consumer disputed?</th>\n",
       "      <th>Complaint ID</th>\n",
       "    </tr>\n",
       "    <tr>\n",
       "      <th>Timely response?</th>\n",
       "      <th></th>\n",
       "      <th></th>\n",
       "      <th></th>\n",
       "      <th></th>\n",
       "      <th></th>\n",
       "      <th></th>\n",
       "      <th></th>\n",
       "      <th></th>\n",
       "      <th></th>\n",
       "      <th></th>\n",
       "      <th></th>\n",
       "      <th></th>\n",
       "      <th></th>\n",
       "      <th></th>\n",
       "      <th></th>\n",
       "      <th></th>\n",
       "      <th></th>\n",
       "    </tr>\n",
       "  </thead>\n",
       "  <tbody>\n",
       "    <tr>\n",
       "      <th>Yes</th>\n",
       "      <td>88208</td>\n",
       "      <td>88208</td>\n",
       "      <td>0</td>\n",
       "      <td>88208</td>\n",
       "      <td>0</td>\n",
       "      <td>18655</td>\n",
       "      <td>20592</td>\n",
       "      <td>88208</td>\n",
       "      <td>87501</td>\n",
       "      <td>82702</td>\n",
       "      <td>13369</td>\n",
       "      <td>31673</td>\n",
       "      <td>88208</td>\n",
       "      <td>88208</td>\n",
       "      <td>88208</td>\n",
       "      <td>88208</td>\n",
       "      <td>88208</td>\n",
       "    </tr>\n",
       "    <tr>\n",
       "      <th>No</th>\n",
       "      <td>982</td>\n",
       "      <td>982</td>\n",
       "      <td>0</td>\n",
       "      <td>982</td>\n",
       "      <td>0</td>\n",
       "      <td>183</td>\n",
       "      <td>306</td>\n",
       "      <td>982</td>\n",
       "      <td>975</td>\n",
       "      <td>925</td>\n",
       "      <td>136</td>\n",
       "      <td>320</td>\n",
       "      <td>982</td>\n",
       "      <td>982</td>\n",
       "      <td>982</td>\n",
       "      <td>982</td>\n",
       "      <td>982</td>\n",
       "    </tr>\n",
       "  </tbody>\n",
       "</table>\n",
       "</div>"
      ],
      "text/plain": [
       "                  Date received  Product  Sub-product  Issue  Sub-issue  \\\n",
       "Timely response?                                                          \n",
       "Yes                       88208    88208            0  88208          0   \n",
       "No                          982      982            0    982          0   \n",
       "\n",
       "                  Consumer complaint narrative  Company public response  \\\n",
       "Timely response?                                                          \n",
       "Yes                                      18655                    20592   \n",
       "No                                         183                      306   \n",
       "\n",
       "                  Company  State  ZIP code   Tags  Consumer consent provided?  \\\n",
       "Timely response?                                                                \n",
       "Yes                 88208  87501     82702  13369                       31673   \n",
       "No                    982    975       925    136                         320   \n",
       "\n",
       "                  Submitted via  Date sent to company  \\\n",
       "Timely response?                                        \n",
       "Yes                       88208                 88208   \n",
       "No                          982                   982   \n",
       "\n",
       "                  Company response to consumer  Consumer disputed?  \\\n",
       "Timely response?                                                     \n",
       "Yes                                      88208               88208   \n",
       "No                                         982                 982   \n",
       "\n",
       "                  Complaint ID  \n",
       "Timely response?                \n",
       "Yes                      88208  \n",
       "No                         982  "
      ]
     },
     "execution_count": 29,
     "metadata": {},
     "output_type": "execute_result"
    }
   ],
   "source": [
    "# Credit card\n",
    "df_product_count = df[df.Product == 'Credit card'].groupby('Timely response?').count().sort_values(by='Complaint ID', ascending=False)\n",
    "df_product_count"
   ]
  },
  {
   "cell_type": "code",
   "execution_count": 30,
   "metadata": {},
   "outputs": [
    {
     "data": {
      "text/html": [
       "<div>\n",
       "<style scoped>\n",
       "    .dataframe tbody tr th:only-of-type {\n",
       "        vertical-align: middle;\n",
       "    }\n",
       "\n",
       "    .dataframe tbody tr th {\n",
       "        vertical-align: top;\n",
       "    }\n",
       "\n",
       "    .dataframe thead th {\n",
       "        text-align: right;\n",
       "    }\n",
       "</style>\n",
       "<table border=\"1\" class=\"dataframe\">\n",
       "  <thead>\n",
       "    <tr style=\"text-align: right;\">\n",
       "      <th></th>\n",
       "      <th>Date received</th>\n",
       "      <th>Product</th>\n",
       "      <th>Sub-product</th>\n",
       "      <th>Issue</th>\n",
       "      <th>Sub-issue</th>\n",
       "      <th>Consumer complaint narrative</th>\n",
       "      <th>Company public response</th>\n",
       "      <th>Company</th>\n",
       "      <th>State</th>\n",
       "      <th>ZIP code</th>\n",
       "      <th>Tags</th>\n",
       "      <th>Consumer consent provided?</th>\n",
       "      <th>Submitted via</th>\n",
       "      <th>Date sent to company</th>\n",
       "      <th>Company response to consumer</th>\n",
       "      <th>Consumer disputed?</th>\n",
       "      <th>Complaint ID</th>\n",
       "    </tr>\n",
       "    <tr>\n",
       "      <th>Timely response?</th>\n",
       "      <th></th>\n",
       "      <th></th>\n",
       "      <th></th>\n",
       "      <th></th>\n",
       "      <th></th>\n",
       "      <th></th>\n",
       "      <th></th>\n",
       "      <th></th>\n",
       "      <th></th>\n",
       "      <th></th>\n",
       "      <th></th>\n",
       "      <th></th>\n",
       "      <th></th>\n",
       "      <th></th>\n",
       "      <th></th>\n",
       "      <th></th>\n",
       "      <th></th>\n",
       "    </tr>\n",
       "  </thead>\n",
       "  <tbody>\n",
       "    <tr>\n",
       "      <th>Yes</th>\n",
       "      <td>83980</td>\n",
       "      <td>83980</td>\n",
       "      <td>83980</td>\n",
       "      <td>83980</td>\n",
       "      <td>0</td>\n",
       "      <td>14264</td>\n",
       "      <td>23129</td>\n",
       "      <td>83980</td>\n",
       "      <td>82464</td>\n",
       "      <td>79132</td>\n",
       "      <td>11460</td>\n",
       "      <td>22995</td>\n",
       "      <td>83980</td>\n",
       "      <td>83980</td>\n",
       "      <td>83980</td>\n",
       "      <td>83980</td>\n",
       "      <td>83980</td>\n",
       "    </tr>\n",
       "    <tr>\n",
       "      <th>No</th>\n",
       "      <td>2226</td>\n",
       "      <td>2226</td>\n",
       "      <td>2226</td>\n",
       "      <td>2226</td>\n",
       "      <td>0</td>\n",
       "      <td>621</td>\n",
       "      <td>955</td>\n",
       "      <td>2226</td>\n",
       "      <td>2186</td>\n",
       "      <td>2043</td>\n",
       "      <td>365</td>\n",
       "      <td>1032</td>\n",
       "      <td>2226</td>\n",
       "      <td>2226</td>\n",
       "      <td>2226</td>\n",
       "      <td>2226</td>\n",
       "      <td>2226</td>\n",
       "    </tr>\n",
       "  </tbody>\n",
       "</table>\n",
       "</div>"
      ],
      "text/plain": [
       "                  Date received  Product  Sub-product  Issue  Sub-issue  \\\n",
       "Timely response?                                                          \n",
       "Yes                       83980    83980        83980  83980          0   \n",
       "No                         2226     2226         2226   2226          0   \n",
       "\n",
       "                  Consumer complaint narrative  Company public response  \\\n",
       "Timely response?                                                          \n",
       "Yes                                      14264                    23129   \n",
       "No                                         621                      955   \n",
       "\n",
       "                  Company  State  ZIP code   Tags  Consumer consent provided?  \\\n",
       "Timely response?                                                                \n",
       "Yes                 83980  82464     79132  11460                       22995   \n",
       "No                   2226   2186      2043    365                        1032   \n",
       "\n",
       "                  Submitted via  Date sent to company  \\\n",
       "Timely response?                                        \n",
       "Yes                       83980                 83980   \n",
       "No                         2226                  2226   \n",
       "\n",
       "                  Company response to consumer  Consumer disputed?  \\\n",
       "Timely response?                                                     \n",
       "Yes                                      83980               83980   \n",
       "No                                        2226                2226   \n",
       "\n",
       "                  Complaint ID  \n",
       "Timely response?                \n",
       "Yes                      83980  \n",
       "No                        2226  "
      ]
     },
     "execution_count": 30,
     "metadata": {},
     "output_type": "execute_result"
    }
   ],
   "source": [
    "# Bank account or service\n",
    "df_product_count = df[df.Product == 'Bank account or service'].groupby('Timely response?').count().sort_values(by='Complaint ID', ascending=False)\n",
    "df_product_count"
   ]
  },
  {
   "cell_type": "code",
   "execution_count": 24,
   "metadata": {},
   "outputs": [
    {
     "data": {
      "text/plain": [
       "<matplotlib.axes._subplots.AxesSubplot at 0x20802222358>"
      ]
     },
     "execution_count": 24,
     "metadata": {},
     "output_type": "execute_result"
    },
    {
     "data": {
      "image/png": "[encoded data removed]",
      "text/plain": [
       "<Figure size 720x720 with 1 Axes>"
      ]
     },
     "metadata": {},
     "output_type": "display_data"
    }
   ],
   "source": [
    "sn.set_style(\"whitegrid\")\n",
    "plt.figure(figsize=(10, 10))\n",
    "plt.xticks(rotation=90)\n",
    "plt.rc('xtick', labelsize=14)\n",
    "plt.title('Mortgage Complaints Response')\n",
    "sn.countplot(data=df[(df.Product == 'Mortgage') | (df.Product == 'Debt collection') |\n",
    "                     (df.Product == 'Credit reporting') |\n",
    "                     (df.Product == 'Credit reporting, credit repair services, or other personal consumer reports') |\n",
    "                     (df.Product == 'Credit card') | (df.Product == 'Bank account or service')],\n",
    "             x='Product', hue='Timely response?')"
   ]
  },
  {
   "cell_type": "markdown",
   "metadata": {},
   "source": [
    "### Percentage of Untimely Reposnses"
   ]
  },
  {
   "cell_type": "code",
   "execution_count": 35,
   "metadata": {},
   "outputs": [
    {
     "name": "stdout",
     "output_type": "stream",
     "text": [
      "Debt Collection: 6.22%\n",
      "Bank Account: 2.58%\n",
      "Mortgage: 1.99%\n",
      "Credit Services: 1.41%\n",
      "Credit Card: 1.10%\n",
      "Credit Reporting: 0.21%\n"
     ]
    }
   ],
   "source": [
    "debt = 15246/(15246+229972) * 100\n",
    "mortgage = 5528/(5528+272721)* 100\n",
    "credit_services = 3194 / (3194+223587)* 100\n",
    "credit_card = 982 / (982+88208)* 100\n",
    "credit_reporting = 297 / (297+140135)* 100\n",
    "bank_account = 2226 / (2226+83980)* 100\n",
    "print(f'Debt Collection: {debt:.2f}%')\n",
    "print(f'Bank Account: {bank_account:.2f}%')\n",
    "print(f'Mortgage: {mortgage:.2f}%')\n",
    "print(f'Credit Services: {credit_services:.2f}%')\n",
    "print(f'Credit Card: {credit_card:.2f}%')\n",
    "print(f'Credit Reporting: {credit_reporting:.2f}%')\n"
   ]
  },
  {
   "cell_type": "markdown",
   "metadata": {},
   "source": [
    "Though most of the complaints were against credit reporting/services products, the companies responded in a timely manner relative to companies responding to complaints about debt collection and bank accounts."
   ]
  },
  {
   "cell_type": "markdown",
   "metadata": {},
   "source": [
    "### Untimely Responses Over Time"
   ]
  },
  {
   "cell_type": "code",
   "execution_count": 47,
   "metadata": {
    "collapsed": true
   },
   "outputs": [],
   "source": [
    "def yes_response(row):\n",
    "    if row['Timely response?'] == 'Yes':\n",
    "        val = 1\n",
    "    else:\n",
    "        val = 0\n",
    "    return val"
   ]
  },
  {
   "cell_type": "code",
   "execution_count": 50,
   "metadata": {
    "collapsed": true
   },
   "outputs": [],
   "source": [
    "def no_response(row):\n",
    "    if row['Timely response?'] == 'No':\n",
    "        val = 1\n",
    "    else:\n",
    "        val = 0\n",
    "    return val"
   ]
  },
  {
   "cell_type": "code",
   "execution_count": 48,
   "metadata": {
    "collapsed": true,
    "scrolled": false
   },
   "outputs": [],
   "source": [
    "response_df = df[['Date received', 'Timely response?']]\n",
    "response_df['Yes'] = response_df.apply(yes_response, axis=1)"
   ]
  },
  {
   "cell_type": "code",
   "execution_count": 51,
   "metadata": {
    "collapsed": true
   },
   "outputs": [],
   "source": [
    "response_df['No'] = response_df.apply(no_response, axis=1)"
   ]
  },
  {
   "cell_type": "code",
   "execution_count": 52,
   "metadata": {},
   "outputs": [
    {
     "data": {
      "text/html": [
       "<div>\n",
       "<style scoped>\n",
       "    .dataframe tbody tr th:only-of-type {\n",
       "        vertical-align: middle;\n",
       "    }\n",
       "\n",
       "    .dataframe tbody tr th {\n",
       "        vertical-align: top;\n",
       "    }\n",
       "\n",
       "    .dataframe thead th {\n",
       "        text-align: right;\n",
       "    }\n",
       "</style>\n",
       "<table border=\"1\" class=\"dataframe\">\n",
       "  <thead>\n",
       "    <tr style=\"text-align: right;\">\n",
       "      <th></th>\n",
       "      <th>Date received</th>\n",
       "      <th>Timely response?</th>\n",
       "      <th>Yes</th>\n",
       "      <th>No</th>\n",
       "    </tr>\n",
       "  </thead>\n",
       "  <tbody>\n",
       "    <tr>\n",
       "      <th>0</th>\n",
       "      <td>2019-05-14</td>\n",
       "      <td>Yes</td>\n",
       "      <td>1</td>\n",
       "      <td>0</td>\n",
       "    </tr>\n",
       "    <tr>\n",
       "      <th>1</th>\n",
       "      <td>2019-05-14</td>\n",
       "      <td>Yes</td>\n",
       "      <td>1</td>\n",
       "      <td>0</td>\n",
       "    </tr>\n",
       "    <tr>\n",
       "      <th>2</th>\n",
       "      <td>2019-05-14</td>\n",
       "      <td>Yes</td>\n",
       "      <td>1</td>\n",
       "      <td>0</td>\n",
       "    </tr>\n",
       "    <tr>\n",
       "      <th>3</th>\n",
       "      <td>2019-05-14</td>\n",
       "      <td>Yes</td>\n",
       "      <td>1</td>\n",
       "      <td>0</td>\n",
       "    </tr>\n",
       "    <tr>\n",
       "      <th>4</th>\n",
       "      <td>2019-05-14</td>\n",
       "      <td>Yes</td>\n",
       "      <td>1</td>\n",
       "      <td>0</td>\n",
       "    </tr>\n",
       "  </tbody>\n",
       "</table>\n",
       "</div>"
      ],
      "text/plain": [
       "  Date received Timely response?  Yes  No\n",
       "0    2019-05-14              Yes    1   0\n",
       "1    2019-05-14              Yes    1   0\n",
       "2    2019-05-14              Yes    1   0\n",
       "3    2019-05-14              Yes    1   0\n",
       "4    2019-05-14              Yes    1   0"
      ]
     },
     "execution_count": 52,
     "metadata": {},
     "output_type": "execute_result"
    }
   ],
   "source": [
    "response_df.head()"
   ]
  },
  {
   "cell_type": "code",
   "execution_count": 55,
   "metadata": {
    "collapsed": true
   },
   "outputs": [],
   "source": [
    "df2 = response_df.resample('Y', on='Date received').sum()"
   ]
  },
  {
   "cell_type": "code",
   "execution_count": 58,
   "metadata": {
    "collapsed": true
   },
   "outputs": [],
   "source": [
    "df2['percent_untimely'] = df2['No']/ (df2['No']+df2['Yes'])"
   ]
  },
  {
   "cell_type": "code",
   "execution_count": 59,
   "metadata": {},
   "outputs": [
    {
     "data": {
      "text/html": [
       "<div>\n",
       "<style scoped>\n",
       "    .dataframe tbody tr th:only-of-type {\n",
       "        vertical-align: middle;\n",
       "    }\n",
       "\n",
       "    .dataframe tbody tr th {\n",
       "        vertical-align: top;\n",
       "    }\n",
       "\n",
       "    .dataframe thead th {\n",
       "        text-align: right;\n",
       "    }\n",
       "</style>\n",
       "<table border=\"1\" class=\"dataframe\">\n",
       "  <thead>\n",
       "    <tr style=\"text-align: right;\">\n",
       "      <th></th>\n",
       "      <th>Yes</th>\n",
       "      <th>No</th>\n",
       "      <th>percent_untimely</th>\n",
       "    </tr>\n",
       "    <tr>\n",
       "      <th>Date received</th>\n",
       "      <th></th>\n",
       "      <th></th>\n",
       "      <th></th>\n",
       "    </tr>\n",
       "  </thead>\n",
       "  <tbody>\n",
       "    <tr>\n",
       "      <th>2011-12-31</th>\n",
       "      <td>2285</td>\n",
       "      <td>251</td>\n",
       "      <td>0.098975</td>\n",
       "    </tr>\n",
       "    <tr>\n",
       "      <th>2012-12-31</th>\n",
       "      <td>69865</td>\n",
       "      <td>2508</td>\n",
       "      <td>0.034654</td>\n",
       "    </tr>\n",
       "    <tr>\n",
       "      <th>2013-12-31</th>\n",
       "      <td>106948</td>\n",
       "      <td>1270</td>\n",
       "      <td>0.011736</td>\n",
       "    </tr>\n",
       "    <tr>\n",
       "      <th>2014-12-31</th>\n",
       "      <td>149410</td>\n",
       "      <td>3637</td>\n",
       "      <td>0.023764</td>\n",
       "    </tr>\n",
       "    <tr>\n",
       "      <th>2015-12-31</th>\n",
       "      <td>163652</td>\n",
       "      <td>4835</td>\n",
       "      <td>0.028697</td>\n",
       "    </tr>\n",
       "    <tr>\n",
       "      <th>2016-12-31</th>\n",
       "      <td>184797</td>\n",
       "      <td>6676</td>\n",
       "      <td>0.034867</td>\n",
       "    </tr>\n",
       "    <tr>\n",
       "      <th>2017-12-31</th>\n",
       "      <td>235954</td>\n",
       "      <td>7021</td>\n",
       "      <td>0.028896</td>\n",
       "    </tr>\n",
       "    <tr>\n",
       "      <th>2018-12-31</th>\n",
       "      <td>252729</td>\n",
       "      <td>4651</td>\n",
       "      <td>0.018071</td>\n",
       "    </tr>\n",
       "    <tr>\n",
       "      <th>2019-12-31</th>\n",
       "      <td>86347</td>\n",
       "      <td>1349</td>\n",
       "      <td>0.015383</td>\n",
       "    </tr>\n",
       "  </tbody>\n",
       "</table>\n",
       "</div>"
      ],
      "text/plain": [
       "                  Yes    No  percent_untimely\n",
       "Date received                                \n",
       "2011-12-31       2285   251          0.098975\n",
       "2012-12-31      69865  2508          0.034654\n",
       "2013-12-31     106948  1270          0.011736\n",
       "2014-12-31     149410  3637          0.023764\n",
       "2015-12-31     163652  4835          0.028697\n",
       "2016-12-31     184797  6676          0.034867\n",
       "2017-12-31     235954  7021          0.028896\n",
       "2018-12-31     252729  4651          0.018071\n",
       "2019-12-31      86347  1349          0.015383"
      ]
     },
     "execution_count": 59,
     "metadata": {},
     "output_type": "execute_result"
    }
   ],
   "source": [
    "df2"
   ]
  },
  {
   "cell_type": "code",
   "execution_count": 62,
   "metadata": {},
   "outputs": [
    {
     "data": {
      "text/plain": [
       "<matplotlib.axes._subplots.AxesSubplot at 0x2080172a4a8>"
      ]
     },
     "execution_count": 62,
     "metadata": {},
     "output_type": "execute_result"
    },
    {
     "data": {
      "image/png": "[encoded data removed]",
      "text/plain": [
       "<Figure size 1080x720 with 1 Axes>"
      ]
     },
     "metadata": {},
     "output_type": "display_data"
    }
   ],
   "source": [
    "sn.set_style(\"whitegrid\")\n",
    "plt.figure(figsize=(15, 10))\n",
    "plt.rc('xtick', labelsize=14)\n",
    "plt.title('Percentage Untimely Responses Over Time')\n",
    "sn.lineplot(df2.index[:-1], df2['percent_untimely'][:-1])"
   ]
  },
  {
   "cell_type": "markdown",
   "metadata": {},
   "source": [
    "Based on CFPB's data,  untimely responses have started to decrease over all from 2017 for financial firms over all."
   ]
  },
  {
   "cell_type": "markdown",
   "metadata": {},
   "source": [
    "## Complaints by State"
   ]
  },
  {
   "cell_type": "code",
   "execution_count": 4,
   "metadata": {},
   "outputs": [
    {
     "data": {
      "text/plain": [
       "State\n",
       "CA    176223\n",
       "FL    126724\n",
       "TX    107760\n",
       "NY     86267\n",
       "GA     67219\n",
       "IL     49668\n",
       "NJ     47856\n",
       "PA     44185\n",
       "NC     39646\n",
       "OH     38487\n",
       "VA     37521\n",
       "MD     36576\n",
       "MI     30307\n",
       "AZ     27336\n",
       "WA     24402\n",
       "MA     22810\n",
       "TN     21049\n",
       "CO     20497\n",
       "SC     19138\n",
       "MO     18116\n",
       "Name: Complaint ID, dtype: int64"
      ]
     },
     "execution_count": 4,
     "metadata": {},
     "output_type": "execute_result"
    }
   ],
   "source": [
    "df_subproduct_count = df.groupby('State').count()['Complaint ID'].sort_values(ascending=False)\n",
    "df_subproduct_count[:20]"
   ]
  },
  {
   "cell_type": "code",
   "execution_count": 9,
   "metadata": {},
   "outputs": [
    {
     "data": {
      "text/plain": [
       "<matplotlib.axes._subplots.AxesSubplot at 0x1f7008f0470>"
      ]
     },
     "execution_count": 9,
     "metadata": {},
     "output_type": "execute_result"
    },
    {
     "data": {
      "image/png": "[encoded data removed]",
      "text/plain": [
       "<Figure size 720x720 with 1 Axes>"
      ]
     },
     "metadata": {},
     "output_type": "display_data"
    }
   ],
   "source": [
    "sn.set_style(\"whitegrid\")\n",
    "plt.figure(figsize=(10, 10))\n",
    "plt.rc('xtick', labelsize=14)\n",
    "plt.title('Mortgage Complaints By state')\n",
    "sn.countplot(data=df[(df.State == 'CA') | (df.State == 'FL') |\n",
    "                     (df.State == 'NY') |\n",
    "                     (df.State == 'GA') |\n",
    "                     (df.State == 'IL') | \n",
    "                     (df.State == 'NJ')],\n",
    "             x='State', hue='Timely response?')"
   ]
  },
  {
   "cell_type": "markdown",
   "metadata": {},
   "source": [
    "## Analyzing Text Complaints of Untimely responses"
   ]
  },
  {
   "cell_type": "code",
   "execution_count": 6,
   "metadata": {},
   "outputs": [],
   "source": [
    "from sklearn.feature_extraction.text import CountVectorizer\n",
    "import spacy\n",
    "from nltk.stem.porter import PorterStemmer\n",
    "import re\n",
    "porter_stemmer = PorterStemmer()"
   ]
  },
  {
   "cell_type": "code",
   "execution_count": 7,
   "metadata": {},
   "outputs": [],
   "source": [
    "#Spacy tokenizer\n",
    "spacy.load('en_core_web_sm')\n",
    "lemmatizer = spacy.lang.en.English()\n",
    "\n",
    "#Used for testing output of vectorizer\n",
    "def wm2df(wm, feat_names):\n",
    "    #create a dataframe from a word matrix\n",
    "    # create an index for each row\n",
    "    doc_names = ['Doc{:d}'.format(idx) for idx, _ in enumerate(wm)]\n",
    "    df = pd.DataFrame(data=wm.toarray(), index=doc_names,\n",
    "                      columns=feat_names)\n",
    "    return(df)\n",
    "\n",
    "#Customizing Vectorizers\n",
    "def my_tokenizer(doc):\n",
    "    tokens = lemmatizer(doc)\n",
    "    return([token.lemma_ for token in tokens])\n",
    "\n",
    "def stemming_tokenizer(str_input):\n",
    "    words = re.sub(r\"[^A-Za-z\\-]\", \" \", str_input).lower().split()\n",
    "    words = [porter_stemmer.stem(word) for word in words]\n",
    "    return words\n",
    "\n",
    "custom_vec = CountVectorizer(tokenizer=my_tokenizer,\n",
    "                             ngram_range=(1,2),\n",
    "                             stop_words='english')"
   ]
  },
  {
   "cell_type": "code",
   "execution_count": 35,
   "metadata": {},
   "outputs": [
    {
     "data": {
      "text/plain": [
       "['hello', 'I', 'be', 'run', 'My', 'name', 'be', 'justin']"
      ]
     },
     "execution_count": 35,
     "metadata": {},
     "output_type": "execute_result"
    }
   ],
   "source": [
    "my_tokenizer('hello I am running My name is justin')"
   ]
  },
  {
   "cell_type": "code",
   "execution_count": 31,
   "metadata": {},
   "outputs": [
    {
     "data": {
      "text/html": [
       "<div>\n",
       "<style scoped>\n",
       "    .dataframe tbody tr th:only-of-type {\n",
       "        vertical-align: middle;\n",
       "    }\n",
       "\n",
       "    .dataframe tbody tr th {\n",
       "        vertical-align: top;\n",
       "    }\n",
       "\n",
       "    .dataframe thead th {\n",
       "        text-align: right;\n",
       "    }\n",
       "</style>\n",
       "<table border=\"1\" class=\"dataframe\">\n",
       "  <thead>\n",
       "    <tr style=\"text-align: right;\">\n",
       "      <th></th>\n",
       "      <th>product</th>\n",
       "      <th>sub_product</th>\n",
       "      <th>issue</th>\n",
       "      <th>sub_issue</th>\n",
       "      <th>consumer_complaint_narrative</th>\n",
       "      <th>company</th>\n",
       "      <th>submitted_via</th>\n",
       "      <th>timely_response</th>\n",
       "    </tr>\n",
       "  </thead>\n",
       "  <tbody>\n",
       "    <tr>\n",
       "      <th>41</th>\n",
       "      <td>Debt collection</td>\n",
       "      <td>I do not know</td>\n",
       "      <td>Cont'd attempts collect debt not owed</td>\n",
       "      <td>Debt is not mine</td>\n",
       "      <td>I keep getting calls on my cell phone from a s...</td>\n",
       "      <td>GMA Investments, LLC</td>\n",
       "      <td>Web</td>\n",
       "      <td>False</td>\n",
       "    </tr>\n",
       "  </tbody>\n",
       "</table>\n",
       "</div>"
      ],
      "text/plain": [
       "            product    sub_product                                  issue  \\\n",
       "41  Debt collection  I do not know  Cont'd attempts collect debt not owed   \n",
       "\n",
       "           sub_issue                       consumer_complaint_narrative  \\\n",
       "41  Debt is not mine  I keep getting calls on my cell phone from a s...   \n",
       "\n",
       "                 company submitted_via  timely_response  \n",
       "41  GMA Investments, LLC           Web            False  "
      ]
     },
     "execution_count": 31,
     "metadata": {},
     "output_type": "execute_result"
    }
   ],
   "source": [
    "df.head(1)"
   ]
  },
  {
   "cell_type": "code",
   "execution_count": 5,
   "metadata": {},
   "outputs": [],
   "source": [
    "#load in data that is going to be used in machine learning\n",
    "df = pd.read_csv('C:\\\\Users\\\\jltsa\\\\Desktop\\\\Cust_complaints\\\\feature_sets\\\\ml_data1.csv')"
   ]
  },
  {
   "cell_type": "code",
   "execution_count": 27,
   "metadata": {},
   "outputs": [
    {
     "data": {
      "text/html": [
       "<div>\n",
       "<style scoped>\n",
       "    .dataframe tbody tr th:only-of-type {\n",
       "        vertical-align: middle;\n",
       "    }\n",
       "\n",
       "    .dataframe tbody tr th {\n",
       "        vertical-align: top;\n",
       "    }\n",
       "\n",
       "    .dataframe thead th {\n",
       "        text-align: right;\n",
       "    }\n",
       "</style>\n",
       "<table border=\"1\" class=\"dataframe\">\n",
       "  <thead>\n",
       "    <tr style=\"text-align: right;\">\n",
       "      <th></th>\n",
       "      <th>product</th>\n",
       "      <th>sub_product</th>\n",
       "      <th>issue</th>\n",
       "      <th>sub_issue</th>\n",
       "      <th>consumer_complaint_narrative</th>\n",
       "      <th>company</th>\n",
       "      <th>submitted_via</th>\n",
       "      <th>timely_response</th>\n",
       "    </tr>\n",
       "  </thead>\n",
       "  <tbody>\n",
       "    <tr>\n",
       "      <th>0</th>\n",
       "      <td>Credit card</td>\n",
       "      <td>None</td>\n",
       "      <td>Billing statement</td>\n",
       "      <td>None</td>\n",
       "      <td>Year end summary provided by citi shows balanc...</td>\n",
       "      <td>CITIBANK, N.A.</td>\n",
       "      <td>Web</td>\n",
       "      <td>True</td>\n",
       "    </tr>\n",
       "  </tbody>\n",
       "</table>\n",
       "</div>"
      ],
      "text/plain": [
       "       product sub_product              issue sub_issue  \\\n",
       "0  Credit card        None  Billing statement      None   \n",
       "\n",
       "                        consumer_complaint_narrative         company  \\\n",
       "0  Year end summary provided by citi shows balanc...  CITIBANK, N.A.   \n",
       "\n",
       "  submitted_via  timely_response  \n",
       "0           Web             True  "
      ]
     },
     "execution_count": 27,
     "metadata": {},
     "output_type": "execute_result"
    }
   ],
   "source": [
    "df.head(1)"
   ]
  },
  {
   "cell_type": "code",
   "execution_count": 14,
   "metadata": {},
   "outputs": [],
   "source": [
    "#Get complaints which were not responded to in a timely manner\n",
    "df = df[df['timely_response'] == False]"
   ]
  },
  {
   "cell_type": "code",
   "execution_count": 15,
   "metadata": {
    "scrolled": true
   },
   "outputs": [
    {
     "data": {
      "text/html": [
       "<div>\n",
       "<style scoped>\n",
       "    .dataframe tbody tr th:only-of-type {\n",
       "        vertical-align: middle;\n",
       "    }\n",
       "\n",
       "    .dataframe tbody tr th {\n",
       "        vertical-align: top;\n",
       "    }\n",
       "\n",
       "    .dataframe thead th {\n",
       "        text-align: right;\n",
       "    }\n",
       "</style>\n",
       "<table border=\"1\" class=\"dataframe\">\n",
       "  <thead>\n",
       "    <tr style=\"text-align: right;\">\n",
       "      <th></th>\n",
       "      <th>product</th>\n",
       "      <th>sub_product</th>\n",
       "      <th>issue</th>\n",
       "      <th>sub_issue</th>\n",
       "      <th>consumer_complaint_narrative</th>\n",
       "      <th>company</th>\n",
       "      <th>submitted_via</th>\n",
       "      <th>timely_response</th>\n",
       "    </tr>\n",
       "  </thead>\n",
       "  <tbody>\n",
       "    <tr>\n",
       "      <th>41</th>\n",
       "      <td>Debt collection</td>\n",
       "      <td>I do not know</td>\n",
       "      <td>Cont'd attempts collect debt not owed</td>\n",
       "      <td>Debt is not mine</td>\n",
       "      <td>I keep getting calls on my cell phone from a s...</td>\n",
       "      <td>GMA Investments, LLC</td>\n",
       "      <td>Web</td>\n",
       "      <td>False</td>\n",
       "    </tr>\n",
       "  </tbody>\n",
       "</table>\n",
       "</div>"
      ],
      "text/plain": [
       "            product    sub_product                                  issue  \\\n",
       "41  Debt collection  I do not know  Cont'd attempts collect debt not owed   \n",
       "\n",
       "           sub_issue                       consumer_complaint_narrative  \\\n",
       "41  Debt is not mine  I keep getting calls on my cell phone from a s...   \n",
       "\n",
       "                 company submitted_via  timely_response  \n",
       "41  GMA Investments, LLC           Web            False  "
      ]
     },
     "execution_count": 15,
     "metadata": {},
     "output_type": "execute_result"
    }
   ],
   "source": [
    "df.head(1)"
   ]
  },
  {
   "cell_type": "code",
   "execution_count": 39,
   "metadata": {},
   "outputs": [
    {
     "data": {
      "text/plain": [
       "'I keep getting calls on my cell phone from a summit receivables saying that I have a debt to be paid I call back the number that shows up a local number of but the place has no clue as to who I am The number they leave in the message is but when i call they want me to give a lot of information that if I had an actual debt with them they would have I ve asked for verification of the debt they say I have but none is forthcoming and they continue to harass me'"
      ]
     },
     "execution_count": 39,
     "metadata": {},
     "output_type": "execute_result"
    }
   ],
   "source": [
    "df['consumer_complaint_narrative'].loc[41]"
   ]
  },
  {
   "cell_type": "code",
   "execution_count": 8,
   "metadata": {},
   "outputs": [
    {
     "data": {
      "text/plain": [
       "CountVectorizer(analyzer='word', binary=False, decode_error='strict',\n",
       "        dtype=<class 'numpy.int64'>, encoding='utf-8', input='content',\n",
       "        lowercase=True, max_df=1.0, max_features=None, min_df=1,\n",
       "        ngram_range=(1, 2), preprocessor=None, stop_words='english',\n",
       "        strip_accents=None, token_pattern='(?u)\\\\b\\\\w\\\\w+\\\\b',\n",
       "        tokenizer=<function my_tokenizer at 0x000001E90CB15A60>,\n",
       "        vocabulary=None)"
      ]
     },
     "execution_count": 8,
     "metadata": {},
     "output_type": "execute_result"
    }
   ],
   "source": [
    "custom_vec.fit(df['consumer_complaint_narrative'][:30])"
   ]
  },
  {
   "cell_type": "code",
   "execution_count": 10,
   "metadata": {},
   "outputs": [
    {
     "data": {
      "text/plain": [
       "['andor believe',\n",
       " 'anger',\n",
       " 'anger helplessness',\n",
       " 'answer',\n",
       " 'answer person',\n",
       " 'answer tell',\n",
       " 'answer work',\n",
       " 'anticipate',\n",
       " 'anticipate quick',\n",
       " 'anymore',\n",
       " 'anymore lose',\n",
       " 'apologetic',\n",
       " 'apologetic disgust',\n",
       " 'appear',\n",
       " 'appear credit',\n",
       " 'appear late',\n",
       " 'appear owe',\n",
       " 'application',\n",
       " 'application credit',\n",
       " 'application online',\n",
       " 'apply',\n",
       " 'apply problem',\n",
       " 'apply refinance',\n",
       " 'appreciate',\n",
       " 'appropriate']"
      ]
     },
     "execution_count": 10,
     "metadata": {},
     "output_type": "execute_result"
    }
   ],
   "source": [
    "custom_vec.get_feature_names()[300:325]"
   ]
  },
  {
   "cell_type": "code",
   "execution_count": null,
   "metadata": {},
   "outputs": [],
   "source": []
  },
  {
   "cell_type": "code",
   "execution_count": null,
   "metadata": {},
   "outputs": [],
   "source": []
  }
 ],
 "metadata": {
  "kernelspec": {
   "display_name": "Python 3",
   "language": "python",
   "name": "python3"
  },
  "language_info": {
   "codemirror_mode": {
    "name": "ipython",
    "version": 3
   },
   "file_extension": ".py",
   "mimetype": "text/x-python",
   "name": "python",
   "nbconvert_exporter": "python",
   "pygments_lexer": "ipython3",
   "version": "3.7.1"
  }
 },
 "nbformat": 4,
 "nbformat_minor": 2
}
