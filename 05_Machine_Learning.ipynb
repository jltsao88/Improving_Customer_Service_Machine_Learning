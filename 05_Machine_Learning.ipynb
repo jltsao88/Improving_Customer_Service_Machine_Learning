{
 "cells": [
  {
   "cell_type": "markdown",
   "metadata": {},
   "source": [
    "# Machine Learning"
   ]
  },
  {
   "cell_type": "code",
   "execution_count": 38,
   "metadata": {},
   "outputs": [],
   "source": [
    "import numpy as np\n",
    "import pandas as pd\n",
    "import matplotlib.pyplot as plt\n",
    "import spacy\n",
    "from sklearn.linear_model import LogisticRegression\n",
    "from sklearn.ensemble import RandomForestClassifier\n",
    "from sklearn.model_selection import train_test_split\n",
    "from sklearn.model_selection import cross_val_score\n",
    "from sklearn.model_selection import RandomizedSearchCV\n",
    "from sklearn.feature_extraction.text import CountVectorizer\n",
    "from sklearn.preprocessing import FunctionTransformer\n",
    "from sklearn.preprocessing import OneHotEncoder\n",
    "from sklearn.metrics import log_loss\n",
    "from sklearn.pipeline import Pipeline\n",
    "from sklearn.pipeline import FeatureUnion\n",
    "from sklearn.metrics import classification_report\n",
    "from sklearn.metrics import roc_curve\n",
    "from sklearn.metrics import roc_auc_score\n",
    "from sklearn.metrics import auc\n",
    "from sklearn.metrics import f1_score\n",
    "import warnings\n",
    "\n",
    "\n",
    "%matplotlib inline\n",
    "pd.set_option(\"display.max_columns\", None)\n",
    "warnings.filterwarnings('ignore')"
   ]
  },
  {
   "cell_type": "code",
   "execution_count": 2,
   "metadata": {},
   "outputs": [],
   "source": [
    "df = pd.read_csv('C:\\\\Users\\\\jltsa\\\\Desktop\\\\Cust_complaints\\\\feature_sets\\\\ml_data1.csv')"
   ]
  },
  {
   "cell_type": "code",
   "execution_count": 3,
   "metadata": {
    "scrolled": true
   },
   "outputs": [
    {
     "data": {
      "text/html": [
       "<div>\n",
       "<style scoped>\n",
       "    .dataframe tbody tr th:only-of-type {\n",
       "        vertical-align: middle;\n",
       "    }\n",
       "\n",
       "    .dataframe tbody tr th {\n",
       "        vertical-align: top;\n",
       "    }\n",
       "\n",
       "    .dataframe thead th {\n",
       "        text-align: right;\n",
       "    }\n",
       "</style>\n",
       "<table border=\"1\" class=\"dataframe\">\n",
       "  <thead>\n",
       "    <tr style=\"text-align: right;\">\n",
       "      <th></th>\n",
       "      <th>product</th>\n",
       "      <th>sub_product</th>\n",
       "      <th>issue</th>\n",
       "      <th>sub_issue</th>\n",
       "      <th>consumer_complaint_narrative</th>\n",
       "      <th>company</th>\n",
       "      <th>submitted_via</th>\n",
       "      <th>timely_response</th>\n",
       "    </tr>\n",
       "  </thead>\n",
       "  <tbody>\n",
       "    <tr>\n",
       "      <th>0</th>\n",
       "      <td>Credit card</td>\n",
       "      <td>None</td>\n",
       "      <td>Billing statement</td>\n",
       "      <td>None</td>\n",
       "      <td>Year end summary provided by citi shows balanc...</td>\n",
       "      <td>CITIBANK, N.A.</td>\n",
       "      <td>Web</td>\n",
       "      <td>True</td>\n",
       "    </tr>\n",
       "    <tr>\n",
       "      <th>1</th>\n",
       "      <td>Debt collection</td>\n",
       "      <td>Other (i.e. phone, health club, etc.)</td>\n",
       "      <td>Disclosure verification of debt</td>\n",
       "      <td>Not given enough info to verify debt</td>\n",
       "      <td>I received a letter from a debt collector clai...</td>\n",
       "      <td>Amsher Collection Services, Inc.</td>\n",
       "      <td>Web</td>\n",
       "      <td>True</td>\n",
       "    </tr>\n",
       "    <tr>\n",
       "      <th>2</th>\n",
       "      <td>Debt collection</td>\n",
       "      <td>Other (i.e. phone, health club, etc.)</td>\n",
       "      <td>Cont'd attempts collect debt not owed</td>\n",
       "      <td>Debt is not mine</td>\n",
       "      <td>I HAVE SUBMITTED COMPLAINTS TO OF UPSTATE NY C...</td>\n",
       "      <td>Credit Protection Association, L.P.</td>\n",
       "      <td>Web</td>\n",
       "      <td>True</td>\n",
       "    </tr>\n",
       "    <tr>\n",
       "      <th>3</th>\n",
       "      <td>Debt collection</td>\n",
       "      <td>Other (i.e. phone, health club, etc.)</td>\n",
       "      <td>Cont'd attempts collect debt not owed</td>\n",
       "      <td>Debt resulted from identity theft</td>\n",
       "      <td>has accounts in my name that were fraudulently...</td>\n",
       "      <td>Convergent Resources, Inc.</td>\n",
       "      <td>Web</td>\n",
       "      <td>True</td>\n",
       "    </tr>\n",
       "    <tr>\n",
       "      <th>4</th>\n",
       "      <td>Credit card</td>\n",
       "      <td>None</td>\n",
       "      <td>Late fee</td>\n",
       "      <td>None</td>\n",
       "      <td>When making online through personal bank payme...</td>\n",
       "      <td>SYNCHRONY FINANCIAL</td>\n",
       "      <td>Web</td>\n",
       "      <td>True</td>\n",
       "    </tr>\n",
       "  </tbody>\n",
       "</table>\n",
       "</div>"
      ],
      "text/plain": [
       "           product                            sub_product  \\\n",
       "0      Credit card                                   None   \n",
       "1  Debt collection  Other (i.e. phone, health club, etc.)   \n",
       "2  Debt collection  Other (i.e. phone, health club, etc.)   \n",
       "3  Debt collection  Other (i.e. phone, health club, etc.)   \n",
       "4      Credit card                                   None   \n",
       "\n",
       "                                   issue  \\\n",
       "0                      Billing statement   \n",
       "1        Disclosure verification of debt   \n",
       "2  Cont'd attempts collect debt not owed   \n",
       "3  Cont'd attempts collect debt not owed   \n",
       "4                               Late fee   \n",
       "\n",
       "                              sub_issue  \\\n",
       "0                                  None   \n",
       "1  Not given enough info to verify debt   \n",
       "2                      Debt is not mine   \n",
       "3     Debt resulted from identity theft   \n",
       "4                                  None   \n",
       "\n",
       "                        consumer_complaint_narrative  \\\n",
       "0  Year end summary provided by citi shows balanc...   \n",
       "1  I received a letter from a debt collector clai...   \n",
       "2  I HAVE SUBMITTED COMPLAINTS TO OF UPSTATE NY C...   \n",
       "3  has accounts in my name that were fraudulently...   \n",
       "4  When making online through personal bank payme...   \n",
       "\n",
       "                               company submitted_via  timely_response  \n",
       "0                       CITIBANK, N.A.           Web             True  \n",
       "1     Amsher Collection Services, Inc.           Web             True  \n",
       "2  Credit Protection Association, L.P.           Web             True  \n",
       "3           Convergent Resources, Inc.           Web             True  \n",
       "4                  SYNCHRONY FINANCIAL           Web             True  "
      ]
     },
     "execution_count": 3,
     "metadata": {},
     "output_type": "execute_result"
    }
   ],
   "source": [
    "df.head()"
   ]
  },
  {
   "cell_type": "code",
   "execution_count": 45,
   "metadata": {},
   "outputs": [
    {
     "name": "stdout",
     "output_type": "stream",
     "text": [
      "<class 'pandas.core.frame.DataFrame'>\n",
      "RangeIndex: 383840 entries, 0 to 383839\n",
      "Data columns (total 7 columns):\n",
      "product                         383840 non-null object\n",
      "sub_product                     383840 non-null object\n",
      "issue                           383840 non-null object\n",
      "sub_issue                       383840 non-null object\n",
      "consumer_complaint_narrative    383840 non-null object\n",
      "company                         383840 non-null object\n",
      "submitted_via                   383840 non-null object\n",
      "dtypes: object(7)\n",
      "memory usage: 20.5+ MB\n"
     ]
    }
   ],
   "source": [
    "df.info()"
   ]
  },
  {
   "cell_type": "markdown",
   "metadata": {},
   "source": [
    "## Measuring Success"
   ]
  },
  {
   "cell_type": "code",
   "execution_count": 10,
   "metadata": {
    "scrolled": true
   },
   "outputs": [
    {
     "data": {
      "text/plain": [
       "timely_response\n",
       "True     372452\n",
       "False     11388\n",
       "Name: company, dtype: int64"
      ]
     },
     "execution_count": 10,
     "metadata": {},
     "output_type": "execute_result"
    }
   ],
   "source": [
    "df.groupby('timely_response').count()['company'].sort_values(ascending=False)"
   ]
  },
  {
   "cell_type": "code",
   "execution_count": 11,
   "metadata": {},
   "outputs": [
    {
     "data": {
      "text/plain": [
       "0.029668611921634013"
      ]
     },
     "execution_count": 11,
     "metadata": {},
     "output_type": "execute_result"
    }
   ],
   "source": [
    "11388/(372452+11388)"
   ]
  },
  {
   "cell_type": "markdown",
   "metadata": {},
   "source": [
    "Because the data has only around 3% of the labels calssified as False or not responsign appropriately in time, accuracy will be a bad metric of success.  For instance, the model can classify everything as True and have an accuracy rate of 97%.\n",
    "\n",
    "Instead, we can use log loss as a measure of success.  It is actually a measure of error.  In this case we want log loss to be as small as possible as opposed to accuracy.\n",
    "\n",
    "Oen take away is that it isbetter to be less confident than confident and wrong about a prediction."
   ]
  },
  {
   "cell_type": "code",
   "execution_count": 3,
   "metadata": {},
   "outputs": [],
   "source": [
    "# Log loss can be calculated with numpy\n",
    "def compute_log_loss(predicted, actual, eps=1e-14):\n",
    "    \"\"\"\n",
    "    predicted: probabilities as floats between 0 and 1\n",
    "    actual: binary labels, 0=no or 1=yes\n",
    "    eps: log(0) is inf, need to offset predicted values by eps from 0 to 1\n",
    "    \"\"\"\n",
    "    predicted = np.clip(predicted, eps, 1- eps)\n",
    "    loss = -1 * np.mean(actual * np.log(predicted) + (1 - actual)\n",
    "              * np.log(1 - predicted))\n",
    "    return loss"
   ]
  },
  {
   "cell_type": "code",
   "execution_count": 15,
   "metadata": {},
   "outputs": [
    {
     "data": {
      "text/plain": [
       "2.302585092994046"
      ]
     },
     "execution_count": 15,
     "metadata": {},
     "output_type": "execute_result"
    }
   ],
   "source": [
    "#we are saying we are predicting the value is 1 with 90% probability\n",
    "#But the the actual label is 0\n",
    "compute_log_loss(predicted=0.9, actual=0)"
   ]
  },
  {
   "cell_type": "code",
   "execution_count": 33,
   "metadata": {},
   "outputs": [
    {
     "data": {
      "text/plain": [
       "2.302585092994046"
      ]
     },
     "execution_count": 33,
     "metadata": {},
     "output_type": "execute_result"
    }
   ],
   "source": [
    "#scikit-learn implementation\n",
    "log_loss([0,1], [0.9, 0.1])"
   ]
  },
  {
   "cell_type": "code",
   "execution_count": 18,
   "metadata": {
    "scrolled": true
   },
   "outputs": [
    {
     "data": {
      "text/plain": [
       "0.6931471805599453"
      ]
     },
     "execution_count": 18,
     "metadata": {},
     "output_type": "execute_result"
    }
   ],
   "source": [
    "#Predicting 50% probability that value is 1\n",
    "#Actual label is 1\n",
    "compute_log_loss(0.5, 1)"
   ]
  },
  {
   "cell_type": "markdown",
   "metadata": {},
   "source": [
    "## Possible Features to Engineer?"
   ]
  },
  {
   "cell_type": "markdown",
   "metadata": {},
   "source": [
    "1. A count for number of exclamation points in a narrative - could be an indicator of how important a claim can be"
   ]
  },
  {
   "cell_type": "markdown",
   "metadata": {},
   "source": [
    "## Splitting Data into Training and Test Sets"
   ]
  },
  {
   "cell_type": "markdown",
   "metadata": {},
   "source": [
    "As noted above the False label only appears in about 3% of our data.  We need to make sure the training and test splits include these labels.  We can use StratifiedShuffleSplit from SciKitLearn."
   ]
  },
  {
   "cell_type": "markdown",
   "metadata": {},
   "source": [
    "## Preprocessing Data\n",
    "We did some preprocessing already on the data.  Now, we will do further preprocessing to get our data for machine learning.  For this project, use a bag of words representation for NLP."
   ]
  },
  {
   "cell_type": "code",
   "execution_count": 4,
   "metadata": {},
   "outputs": [],
   "source": [
    "#Spacy tokenizer\n",
    "spacy.load('en_core_web_sm')\n",
    "lemmatizer = spacy.lang.en.English()"
   ]
  },
  {
   "cell_type": "code",
   "execution_count": 5,
   "metadata": {},
   "outputs": [],
   "source": [
    "#Used for testing output of vectorizer\n",
    "def wm2df(wm, feat_names):\n",
    "    #create a dataframe from a word matrix\n",
    "    # create an index for each row\n",
    "    doc_names = ['Doc{:d}'.format(idx) for idx, _ in enumerate(wm)]\n",
    "    df = pd.DataFrame(data=wm.toarray(), index=doc_names,\n",
    "                      columns=feat_names)\n",
    "    return(df)"
   ]
  },
  {
   "cell_type": "code",
   "execution_count": 6,
   "metadata": {
    "scrolled": true
   },
   "outputs": [
    {
     "data": {
      "text/html": [
       "<div>\n",
       "<style scoped>\n",
       "    .dataframe tbody tr th:only-of-type {\n",
       "        vertical-align: middle;\n",
       "    }\n",
       "\n",
       "    .dataframe tbody tr th {\n",
       "        vertical-align: top;\n",
       "    }\n",
       "\n",
       "    .dataframe thead th {\n",
       "        text-align: right;\n",
       "    }\n",
       "</style>\n",
       "<table border=\"1\" class=\"dataframe\">\n",
       "  <thead>\n",
       "    <tr style=\"text-align: right;\">\n",
       "      <th></th>\n",
       "      <th>field</th>\n",
       "      <th>field surprisingly</th>\n",
       "      <th>high</th>\n",
       "      <th>high speed</th>\n",
       "      <th>petro</th>\n",
       "      <th>petro vend</th>\n",
       "      <th>run</th>\n",
       "      <th>run field</th>\n",
       "      <th>speed</th>\n",
       "      <th>speed petro</th>\n",
       "      <th>surprisingly</th>\n",
       "      <th>surprisingly high</th>\n",
       "      <th>vend</th>\n",
       "    </tr>\n",
       "  </thead>\n",
       "  <tbody>\n",
       "    <tr>\n",
       "      <th>Doc0</th>\n",
       "      <td>1</td>\n",
       "      <td>1</td>\n",
       "      <td>1</td>\n",
       "      <td>1</td>\n",
       "      <td>1</td>\n",
       "      <td>1</td>\n",
       "      <td>1</td>\n",
       "      <td>1</td>\n",
       "      <td>1</td>\n",
       "      <td>1</td>\n",
       "      <td>1</td>\n",
       "      <td>1</td>\n",
       "      <td>1</td>\n",
       "    </tr>\n",
       "  </tbody>\n",
       "</table>\n",
       "</div>"
      ],
      "text/plain": [
       "      field  field surprisingly  high  high speed  petro  petro vend  run  \\\n",
       "Doc0      1                   1     1           1      1           1    1   \n",
       "\n",
       "      run field  speed  speed petro  surprisingly  surprisingly high  vend  \n",
       "Doc0          1      1            1             1                  1     1  "
      ]
     },
     "execution_count": 6,
     "metadata": {},
     "output_type": "execute_result"
    }
   ],
   "source": [
    "#Customizing Vectorizers\n",
    "def my_tokenizer(doc):\n",
    "    tokens = lemmatizer(doc)\n",
    "    return([token.lemma_ for token in tokens])\n",
    "\n",
    "custom_vec = CountVectorizer(tokenizer=my_tokenizer,\n",
    "                             ngram_range=(1,2),\n",
    "                             stop_words='english')\n",
    "\n",
    "cwm = custom_vec.fit_transform(['He ran through the Fields and surprisingly high speeds Petro vend'])\n",
    "tokens = custom_vec.get_feature_names()\n",
    "wm2df(cwm, tokens)"
   ]
  },
  {
   "cell_type": "code",
   "execution_count": 7,
   "metadata": {},
   "outputs": [],
   "source": [
    "#labels we want to predict\n",
    "labels = df['timely_response'].values"
   ]
  },
  {
   "cell_type": "code",
   "execution_count": 8,
   "metadata": {},
   "outputs": [],
   "source": [
    "#drop the label for the Data so we can pull out only the features\n",
    "df = df.drop('timely_response', axis=1)"
   ]
  },
  {
   "cell_type": "code",
   "execution_count": 9,
   "metadata": {},
   "outputs": [],
   "source": [
    "#convert all features but complaint narrative to dummy variables\n",
    "cats = ['product', 'sub_product', 'issue', 'sub_issue', 'company', 'submitted_via']\n",
    "\n",
    "#df = pd.get_dummies(df, columns=cats)"
   ]
  },
  {
   "cell_type": "code",
   "execution_count": 10,
   "metadata": {},
   "outputs": [],
   "source": [
    "#Use Function transformer to create steps to vectorize narrative data\n",
    "def get_narr(df):\n",
    "    return df['consumer_complaint_narrative']\n",
    "\n",
    "#grabs the complaint narrative data for use in pipe line\n",
    "get_narr_pl = FunctionTransformer(get_narr, validate=False)\n",
    "\n",
    "def get_cats(df):\n",
    "    return df[['product', 'sub_product', 'issue', 'sub_issue', 'company', 'submitted_via']]\n",
    "\n",
    "get_cats_pl = FunctionTransformer(get_cats, validate=False)"
   ]
  },
  {
   "cell_type": "markdown",
   "metadata": {},
   "source": [
    "## Train and Test Sets"
   ]
  },
  {
   "cell_type": "code",
   "execution_count": 11,
   "metadata": {},
   "outputs": [],
   "source": [
    "X_train, X_test, y_train, y_test = train_test_split(df, labels, test_size=.25, random_state=42)"
   ]
  },
  {
   "cell_type": "markdown",
   "metadata": {},
   "source": [
    "## Model Training"
   ]
  },
  {
   "cell_type": "markdown",
   "metadata": {},
   "source": [
    "### Random Forest - default hyper parameters"
   ]
  },
  {
   "cell_type": "code",
   "execution_count": 12,
   "metadata": {},
   "outputs": [],
   "source": [
    "pl = Pipeline([\n",
    "             ('union', FeatureUnion(\n",
    "                  transformer_list = [\n",
    "                      ('cat_features', Pipeline([\n",
    "                          ('selector', get_cats_pl),\n",
    "                          ('one_hot_encode', OneHotEncoder(handle_unknown='ignore'))\n",
    "                      ])),\n",
    "                      ('narr_feature', Pipeline([\n",
    "                          ('selector', get_narr_pl),\n",
    "                          ('vecorizer', custom_vec)\n",
    "                      ]))\n",
    "                  ])),\n",
    "             ('clf', RandomForestClassifier())\n",
    "               ])"
   ]
  },
  {
   "cell_type": "code",
   "execution_count": 13,
   "metadata": {},
   "outputs": [
    {
     "data": {
      "text/plain": [
       "Pipeline(memory=None,\n",
       "     steps=[('union', FeatureUnion(n_jobs=None,\n",
       "       transformer_list=[('cat_features', Pipeline(memory=None,\n",
       "     steps=[('selector', FunctionTransformer(accept_sparse=False, check_inverse=True,\n",
       "          func=<function get_cats at 0x0000027D71FEA7B8>, inv_kw_args=None,\n",
       "          inverse_func=None, kw...obs=None,\n",
       "            oob_score=False, random_state=None, verbose=0,\n",
       "            warm_start=False))])"
      ]
     },
     "execution_count": 13,
     "metadata": {},
     "output_type": "execute_result"
    }
   ],
   "source": [
    "pl.fit(X_train, y_train)"
   ]
  },
  {
   "cell_type": "code",
   "execution_count": 14,
   "metadata": {},
   "outputs": [],
   "source": [
    "proba = pl.predict_proba(X_test)"
   ]
  },
  {
   "cell_type": "code",
   "execution_count": 15,
   "metadata": {},
   "outputs": [
    {
     "data": {
      "text/plain": [
       "0.526273560837206"
      ]
     },
     "execution_count": 15,
     "metadata": {},
     "output_type": "execute_result"
    }
   ],
   "source": [
    "#log loss\n",
    "log_loss(y_test, proba)"
   ]
  },
  {
   "cell_type": "code",
   "execution_count": 19,
   "metadata": {},
   "outputs": [
    {
     "data": {
      "text/plain": [
       "0.9702584410170905"
      ]
     },
     "execution_count": 19,
     "metadata": {},
     "output_type": "execute_result"
    }
   ],
   "source": [
    "#accuracy\n",
    "pl.score(X_test, y_test)"
   ]
  },
  {
   "cell_type": "code",
   "execution_count": 23,
   "metadata": {},
   "outputs": [
    {
     "name": "stdout",
     "output_type": "stream",
     "text": [
      "              precision    recall  f1-score   support\n",
      "\n",
      "       False       0.48      0.05      0.09      2843\n",
      "        True       0.97      1.00      0.98     93117\n",
      "\n",
      "   micro avg       0.97      0.97      0.97     95960\n",
      "   macro avg       0.73      0.52      0.54     95960\n",
      "weighted avg       0.96      0.97      0.96     95960\n",
      "\n"
     ]
    }
   ],
   "source": [
    "#Classification Report\n",
    "rf_predict = pl.predict(X_test)\n",
    "print(classification_report(y_test, rf_predict))"
   ]
  },
  {
   "cell_type": "markdown",
   "metadata": {},
   "source": [
    "For this model we are more concerned about predicting the False values because they are only about 3% of the data.  48% precision for False means the model predicts a False, it is identifying it correctly 48% of the time.  The recall of 5% is low, meaning that the model over predicts 5% of False correctly.  The goal is to get this higher."
   ]
  },
  {
   "cell_type": "code",
   "execution_count": 27,
   "metadata": {
    "scrolled": true
   },
   "outputs": [
    {
     "data": {
      "image/png": "[encoded data removed]",
      "text/plain": [
       "<Figure size 432x288 with 1 Axes>"
      ]
     },
     "metadata": {
      "needs_background": "light"
     },
     "output_type": "display_data"
    }
   ],
   "source": [
    "fpr, tpr, thresholds = roc_curve(y_test, proba[:,1])\n",
    "#plot ROC curve\n",
    "plt.plot([0,1], [0,1], 'k--')\n",
    "plt.plot(fpr, tpr)\n",
    "plt.xlabel('False Positive Rate')\n",
    "plt.ylabel('True Positive Rate')\n",
    "plt.title('ROC Curve')\n",
    "plt.show()"
   ]
  },
  {
   "cell_type": "code",
   "execution_count": 28,
   "metadata": {
    "scrolled": false
   },
   "outputs": [
    {
     "data": {
      "text/plain": [
       "0.7054773462261485"
      ]
     },
     "execution_count": 28,
     "metadata": {},
     "output_type": "execute_result"
    }
   ],
   "source": [
    "#area under curve\n",
    "auc(fpr, tpr)"
   ]
  },
  {
   "cell_type": "code",
   "execution_count": 39,
   "metadata": {},
   "outputs": [
    {
     "data": {
      "text/plain": [
       "0.9848828340183906"
      ]
     },
     "execution_count": 39,
     "metadata": {},
     "output_type": "execute_result"
    }
   ],
   "source": [
    "#F1 score\n",
    "f1_score(y_test, rf_predict)"
   ]
  },
  {
   "cell_type": "markdown",
   "metadata": {},
   "source": [
    "### Random Forest - tuning hyper parameters"
   ]
  },
  {
   "cell_type": "code",
   "execution_count": 36,
   "metadata": {},
   "outputs": [],
   "source": [
    "#Hyper Parameters\n",
    "n_estimators = [int(x) for x in np.linspace(start=10, stop=100, num=10)]\n",
    "max_features = ['auto', 'sqrt']\n",
    "max_depth = [int(x) for x in np.linspace(10, 110, num = 11)]\n",
    "max_depth.append(None)\n",
    "min_samples_split = [2, 3, 5, 10]\n",
    "min_samples_leaf = [1, 2, 3, 4]\n",
    "bootstrap = [True, False]\n",
    "\n",
    "param_grid = {'clf__n_estimators': n_estimators,\n",
    "              'clf__max_features': max_features,\n",
    "              'clf__max_depth': max_depth,\n",
    "              'clf__min_samples_split': min_samples_split,\n",
    "              'clf__min_samples_leaf': min_samples_leaf,\n",
    "              'clf__bootstrap': bootstrap}"
   ]
  },
  {
   "cell_type": "code",
   "execution_count": 37,
   "metadata": {},
   "outputs": [],
   "source": [
    "#Initialize Pipeline\n",
    "pl2 = Pipeline([\n",
    "             ('union', FeatureUnion(\n",
    "                  transformer_list = [\n",
    "                      ('cat_features', Pipeline([\n",
    "                          ('selector', get_cats_pl),\n",
    "                          ('one_hot_encode', OneHotEncoder(handle_unknown='ignore'))\n",
    "                      ])),\n",
    "                      ('narr_feature', Pipeline([\n",
    "                          ('selector', get_narr_pl),\n",
    "                          ('vecorizer', custom_vec)\n",
    "                      ]))\n",
    "                  ])),\n",
    "             ('clf', RandomForestClassifier())\n",
    "               ])"
   ]
  },
  {
   "cell_type": "code",
   "execution_count": 40,
   "metadata": {},
   "outputs": [],
   "source": [
    "#Randomized search of hyperparameters\n",
    "rf_param_search = RandomizedSearchCV(pl2, param_distributions=param_grid)"
   ]
  },
  {
   "cell_type": "code",
   "execution_count": 41,
   "metadata": {},
   "outputs": [
    {
     "data": {
      "text/plain": [
       "RandomizedSearchCV(cv='warn', error_score='raise-deprecating',\n",
       "          estimator=Pipeline(memory=None,\n",
       "     steps=[('union', FeatureUnion(n_jobs=None,\n",
       "       transformer_list=[('cat_features', Pipeline(memory=None,\n",
       "     steps=[('selector', FunctionTransformer(accept_sparse=False, check_inverse=True,\n",
       "          func=<function get_cats at 0x0000027D71FEA7B8>, inv_kw_args=None,\n",
       "          inverse_func=None, kw...obs=None,\n",
       "            oob_score=False, random_state=None, verbose=0,\n",
       "            warm_start=False))]),\n",
       "          fit_params=None, iid='warn', n_iter=10, n_jobs=None,\n",
       "          param_distributions={'clf__n_estimators': [10, 20, 30, 40, 50, 60, 70, 80, 90, 100], 'clf__max_features': ['auto', 'sqrt'], 'clf__max_depth': [10, 20, 30, 40, 50, 60, 70, 80, 90, 100, 110, None], 'clf__min_samples_split': [2, 3, 5, 10], 'clf__min_samples_leaf': [1, 2, 3, 4], 'clf__bootstrap': [True, False]},\n",
       "          pre_dispatch='2*n_jobs', random_state=None, refit=True,\n",
       "          return_train_score='warn', scoring=None, verbose=0)"
      ]
     },
     "execution_count": 41,
     "metadata": {},
     "output_type": "execute_result"
    }
   ],
   "source": [
    "rf_param_search.fit(X_train, y_train)"
   ]
  },
  {
   "cell_type": "code",
   "execution_count": 43,
   "metadata": {},
   "outputs": [],
   "source": [
    "#Save model\n",
    "import pickle\n",
    "#pickle the model\n",
    "\n",
    "#Just the best estimator\n",
    "optimised_rf = rf_param_search.best_estimator_\n",
    "\n",
    "\n",
    "file_name1 = 'optimised_rf_estimator.pickle'\n",
    "with open('models\\\\'+file_name1, 'wb') as file1:\n",
    "    pickle.dump(optimised_rf, file1)\n",
    "    \n",
    "file_name2 = 'optimised_rf_fullsearch.pickle'\n",
    "with open('models\\\\'+file_name2, 'wb') as file2:\n",
    "    pickle.dump(rf_param_search, file2)"
   ]
  },
  {
   "cell_type": "code",
   "execution_count": 49,
   "metadata": {
    "scrolled": true
   },
   "outputs": [
    {
     "data": {
      "text/plain": [
       "{'clf__n_estimators': 80,\n",
       " 'clf__min_samples_split': 10,\n",
       " 'clf__min_samples_leaf': 1,\n",
       " 'clf__max_features': 'auto',\n",
       " 'clf__max_depth': None,\n",
       " 'clf__bootstrap': True}"
      ]
     },
     "execution_count": 49,
     "metadata": {},
     "output_type": "execute_result"
    }
   ],
   "source": [
    "#Best Parameters for tuned random forest model\n",
    "rf_param_search.best_params_"
   ]
  },
  {
   "cell_type": "code",
   "execution_count": 51,
   "metadata": {},
   "outputs": [
    {
     "data": {
      "text/plain": [
       "1"
      ]
     },
     "execution_count": 51,
     "metadata": {},
     "output_type": "execute_result"
    }
   ],
   "source": [
    "rf_param_search.best_index_"
   ]
  },
  {
   "cell_type": "code",
   "execution_count": 50,
   "metadata": {
    "scrolled": false
   },
   "outputs": [
    {
     "data": {
      "text/plain": [
       "{'mean_fit_time': array([ 215.51605272, 1910.86904756,  168.95745595,  164.67423876,\n",
       "         159.21017448,  178.80383364,  192.28510404,  183.86428849,\n",
       "         167.75435019,  200.88139915]),\n",
       " 'std_fit_time': array([ 5.9772968 , 78.97271317,  0.57366287,  4.08223671,  1.17219272,\n",
       "         1.32224459,  1.34749652,  5.86551296,  3.11197471,  5.74173435]),\n",
       " 'mean_score_time': array([ 90.55064551, 112.32877692,  82.4629391 ,  72.16182383,\n",
       "         70.58570337,  82.10722105,  82.86056574,  81.15044427,\n",
       "         75.30608948,  88.77720165]),\n",
       " 'std_score_time': array([2.79364415, 6.83853654, 0.6618451 , 2.31994812, 0.62831476,\n",
       "        0.36188694, 0.85487655, 3.07003364, 0.55419637, 3.90988586]),\n",
       " 'param_clf__n_estimators': masked_array(data=[90, 80, 90, 10, 10, 80, 80, 60, 30, 90],\n",
       "              mask=[False, False, False, False, False, False, False, False,\n",
       "                    False, False],\n",
       "        fill_value='?',\n",
       "             dtype=object),\n",
       " 'param_clf__min_samples_split': masked_array(data=[5, 10, 2, 10, 2, 10, 5, 5, 3, 2],\n",
       "              mask=[False, False, False, False, False, False, False, False,\n",
       "                    False, False],\n",
       "        fill_value='?',\n",
       "             dtype=object),\n",
       " 'param_clf__min_samples_leaf': masked_array(data=[4, 1, 4, 2, 4, 4, 2, 1, 4, 2],\n",
       "              mask=[False, False, False, False, False, False, False, False,\n",
       "                    False, False],\n",
       "        fill_value='?',\n",
       "             dtype=object),\n",
       " 'param_clf__max_features': masked_array(data=['auto', 'auto', 'sqrt', 'sqrt', 'sqrt', 'auto', 'auto',\n",
       "                    'sqrt', 'auto', 'auto'],\n",
       "              mask=[False, False, False, False, False, False, False, False,\n",
       "                    False, False],\n",
       "        fill_value='?',\n",
       "             dtype=object),\n",
       " 'param_clf__max_depth': masked_array(data=[110, None, 30, 70, 30, 60, 70, 50, 30, 70],\n",
       "              mask=[False, False, False, False, False, False, False, False,\n",
       "                    False, False],\n",
       "        fill_value='?',\n",
       "             dtype=object),\n",
       " 'param_clf__bootstrap': masked_array(data=[True, True, True, False, True, True, False, False,\n",
       "                    True, True],\n",
       "              mask=[False, False, False, False, False, False, False, False,\n",
       "                    False, False],\n",
       "        fill_value='?',\n",
       "             dtype=object),\n",
       " 'params': [{'clf__n_estimators': 90,\n",
       "   'clf__min_samples_split': 5,\n",
       "   'clf__min_samples_leaf': 4,\n",
       "   'clf__max_features': 'auto',\n",
       "   'clf__max_depth': 110,\n",
       "   'clf__bootstrap': True},\n",
       "  {'clf__n_estimators': 80,\n",
       "   'clf__min_samples_split': 10,\n",
       "   'clf__min_samples_leaf': 1,\n",
       "   'clf__max_features': 'auto',\n",
       "   'clf__max_depth': None,\n",
       "   'clf__bootstrap': True},\n",
       "  {'clf__n_estimators': 90,\n",
       "   'clf__min_samples_split': 2,\n",
       "   'clf__min_samples_leaf': 4,\n",
       "   'clf__max_features': 'sqrt',\n",
       "   'clf__max_depth': 30,\n",
       "   'clf__bootstrap': True},\n",
       "  {'clf__n_estimators': 10,\n",
       "   'clf__min_samples_split': 10,\n",
       "   'clf__min_samples_leaf': 2,\n",
       "   'clf__max_features': 'sqrt',\n",
       "   'clf__max_depth': 70,\n",
       "   'clf__bootstrap': False},\n",
       "  {'clf__n_estimators': 10,\n",
       "   'clf__min_samples_split': 2,\n",
       "   'clf__min_samples_leaf': 4,\n",
       "   'clf__max_features': 'sqrt',\n",
       "   'clf__max_depth': 30,\n",
       "   'clf__bootstrap': True},\n",
       "  {'clf__n_estimators': 80,\n",
       "   'clf__min_samples_split': 10,\n",
       "   'clf__min_samples_leaf': 4,\n",
       "   'clf__max_features': 'auto',\n",
       "   'clf__max_depth': 60,\n",
       "   'clf__bootstrap': True},\n",
       "  {'clf__n_estimators': 80,\n",
       "   'clf__min_samples_split': 5,\n",
       "   'clf__min_samples_leaf': 2,\n",
       "   'clf__max_features': 'auto',\n",
       "   'clf__max_depth': 70,\n",
       "   'clf__bootstrap': False},\n",
       "  {'clf__n_estimators': 60,\n",
       "   'clf__min_samples_split': 5,\n",
       "   'clf__min_samples_leaf': 1,\n",
       "   'clf__max_features': 'sqrt',\n",
       "   'clf__max_depth': 50,\n",
       "   'clf__bootstrap': False},\n",
       "  {'clf__n_estimators': 30,\n",
       "   'clf__min_samples_split': 3,\n",
       "   'clf__min_samples_leaf': 4,\n",
       "   'clf__max_features': 'auto',\n",
       "   'clf__max_depth': 30,\n",
       "   'clf__bootstrap': True},\n",
       "  {'clf__n_estimators': 90,\n",
       "   'clf__min_samples_split': 2,\n",
       "   'clf__min_samples_leaf': 2,\n",
       "   'clf__max_features': 'auto',\n",
       "   'clf__max_depth': 70,\n",
       "   'clf__bootstrap': True}],\n",
       " 'split0_test_score': array([0.97031086, 0.97044633, 0.97031086, 0.97031086, 0.97031086,\n",
       "        0.97031086, 0.97031086, 0.97031086, 0.97031086, 0.97031086]),\n",
       " 'split1_test_score': array([0.97032097, 0.97058149, 0.97032097, 0.97032097, 0.97032097,\n",
       "        0.97032097, 0.97030013, 0.97030013, 0.97032097, 0.97032097]),\n",
       " 'split2_test_score': array([0.97032066, 0.97052908, 0.97032066, 0.97033108, 0.97032066,\n",
       "        0.97032066, 0.97032066, 0.97032066, 0.97032066, 0.97032066]),\n",
       " 'mean_test_score': array([0.97031749, 0.97051897, 0.97031749, 0.97032097, 0.97031749,\n",
       "        0.97031749, 0.97031055, 0.97031055, 0.97031749, 0.97031749]),\n",
       " 'std_test_score': array([4.69547299e-06, 5.56425743e-05, 4.69547299e-06, 8.25618750e-06,\n",
       "        4.69547299e-06, 4.69547299e-06, 8.38528402e-06, 8.38528402e-06,\n",
       "        4.69547299e-06, 4.69547299e-06]),\n",
       " 'rank_test_score': array([3, 1, 3, 2, 3, 3, 9, 9, 3, 3]),\n",
       " 'split0_train_score': array([0.97032081, 0.99069399, 0.97032081, 0.97034687, 0.97032081,\n",
       "        0.97032081, 0.97034687, 0.97034687, 0.97032081, 0.97032081]),\n",
       " 'split1_train_score': array([0.97031576, 0.99117341, 0.97031576, 0.97038349, 0.97031576,\n",
       "        0.97031576, 0.97039912, 0.97038349, 0.97031576, 0.97032097]),\n",
       " 'split2_train_score': array([0.97031591, 0.99097024, 0.97031591, 0.97043054, 0.97031591,\n",
       "        0.97031591, 0.97038886, 0.9703576 , 0.97031591, 0.97031591]),\n",
       " 'mean_train_score': array([0.97031749, 0.99094588, 0.97031749, 0.97038697, 0.97031749,\n",
       "        0.97031749, 0.97037828, 0.97036265, 0.97031749, 0.97031923]),\n",
       " 'std_train_score': array([2.34774909e-06, 1.96477029e-04, 2.34774909e-06, 3.42490336e-05,\n",
       "        2.34774909e-06, 2.34774909e-06, 2.26074329e-05, 1.53747826e-05,\n",
       "        2.34774909e-06, 2.34774279e-06])}"
      ]
     },
     "execution_count": 50,
     "metadata": {},
     "output_type": "execute_result"
    }
   ],
   "source": [
    "rf_param_search.cv_results_"
   ]
  },
  {
   "cell_type": "code",
   "execution_count": 45,
   "metadata": {},
   "outputs": [],
   "source": [
    "proba_rf = rf_param_search.predict_proba(X_test)"
   ]
  },
  {
   "cell_type": "code",
   "execution_count": 46,
   "metadata": {},
   "outputs": [
    {
     "data": {
      "text/plain": [
       "0.11160216102900533"
      ]
     },
     "execution_count": 46,
     "metadata": {},
     "output_type": "execute_result"
    }
   ],
   "source": [
    "#log loss\n",
    "log_loss(y_test, proba_rf)"
   ]
  },
  {
   "cell_type": "code",
   "execution_count": 47,
   "metadata": {},
   "outputs": [
    {
     "data": {
      "text/plain": [
       "0.9706440183409754"
      ]
     },
     "execution_count": 47,
     "metadata": {},
     "output_type": "execute_result"
    }
   ],
   "source": [
    "#accuracy\n",
    "rf_param_search.score(X_test, y_test)"
   ]
  },
  {
   "cell_type": "code",
   "execution_count": 48,
   "metadata": {},
   "outputs": [
    {
     "name": "stdout",
     "output_type": "stream",
     "text": [
      "              precision    recall  f1-score   support\n",
      "\n",
      "       False       0.66      0.02      0.04      2843\n",
      "        True       0.97      1.00      0.99     93117\n",
      "\n",
      "   micro avg       0.97      0.97      0.97     95960\n",
      "   macro avg       0.81      0.51      0.51     95960\n",
      "weighted avg       0.96      0.97      0.96     95960\n",
      "\n"
     ]
    }
   ],
   "source": [
    "#Classification Report\n",
    "rf_tuned_predict = rf_param_search.predict(X_test)\n",
    "print(classification_report(y_test, rf_tuned_predict))"
   ]
  },
  {
   "cell_type": "code",
   "execution_count": 55,
   "metadata": {},
   "outputs": [
    {
     "data": {
      "image/png": "[encoded data removed]",
      "text/plain": [
       "<Figure size 432x288 with 1 Axes>"
      ]
     },
     "metadata": {
      "needs_background": "light"
     },
     "output_type": "display_data"
    }
   ],
   "source": [
    "fpr, tpr, thresholds = roc_curve(y_test, proba_rf[:,1])\n",
    "#plot ROC curve\n",
    "plt.plot([0,1], [0,1], 'k--')\n",
    "plt.plot(fpr, tpr)\n",
    "plt.xlabel('False Positive Rate')\n",
    "plt.ylabel('True Positive Rate')\n",
    "plt.title('ROC Curve')\n",
    "plt.show()"
   ]
  },
  {
   "cell_type": "code",
   "execution_count": 56,
   "metadata": {},
   "outputs": [
    {
     "data": {
      "text/plain": [
       "0.8566761200515551"
      ]
     },
     "execution_count": 56,
     "metadata": {},
     "output_type": "execute_result"
    }
   ],
   "source": [
    "auc(fpr, tpr)"
   ]
  },
  {
   "cell_type": "markdown",
   "metadata": {},
   "source": [
    "### Feature Importance"
   ]
  },
  {
   "cell_type": "code",
   "execution_count": null,
   "metadata": {},
   "outputs": [],
   "source": []
  },
  {
   "cell_type": "markdown",
   "metadata": {},
   "source": [
    "## Logistic Regression"
   ]
  },
  {
   "cell_type": "code",
   "execution_count": 32,
   "metadata": {},
   "outputs": [],
   "source": [
    "pl3 = Pipeline([\n",
    "             ('union', FeatureUnion(\n",
    "                  transformer_list = [\n",
    "                      ('cat_features', Pipeline([\n",
    "                          ('selector', get_cats_pl),\n",
    "                          ('one_hot_encode', OneHotEncoder(handle_unknown='ignore'))\n",
    "                      ])),\n",
    "                      ('narr_feature', Pipeline([\n",
    "                          ('selector', get_narr_pl),\n",
    "                          ('vecorizer', custom_vec)\n",
    "                      ]))\n",
    "                  ])),\n",
    "             ('clf', LogisticRegression())\n",
    "               ])"
   ]
  },
  {
   "cell_type": "code",
   "execution_count": 165,
   "metadata": {},
   "outputs": [
    {
     "data": {
      "text/plain": [
       "Pipeline(memory=None,\n",
       "         steps=[('union',\n",
       "                 FeatureUnion(n_jobs=None,\n",
       "                              transformer_list=[('cat_features',\n",
       "                                                 Pipeline(memory=None,\n",
       "                                                          steps=[('selector',\n",
       "                                                                  FunctionTransformer(accept_sparse=False,\n",
       "                                                                                      check_inverse=True,\n",
       "                                                                                      func=<function get_cats at 0x00000213E1FDF048>,\n",
       "                                                                                      inv_kw_args=None,\n",
       "                                                                                      inverse_func=None,\n",
       "                                                                                      kw_args=None,\n",
       "                                                                                      pass_y='deprecated',\n",
       "                                                                                      validate=False)),\n",
       "                                                                 ('one_hot_encode',\n",
       "                                                                  OneHotEn...\n",
       "                                                                                  tokenizer=<function my_tokenizer at 0x00000213BA5682F0>,\n",
       "                                                                                  vocabulary=None))],\n",
       "                                                          verbose=False))],\n",
       "                              transformer_weights=None, verbose=False)),\n",
       "                ('clf',\n",
       "                 LogisticRegression(C=1.0, class_weight=None, dual=False,\n",
       "                                    fit_intercept=True, intercept_scaling=1,\n",
       "                                    l1_ratio=None, max_iter=100,\n",
       "                                    multi_class='warn', n_jobs=None,\n",
       "                                    penalty='l2', random_state=None,\n",
       "                                    solver='warn', tol=0.0001, verbose=0,\n",
       "                                    warm_start=False))],\n",
       "         verbose=False)"
      ]
     },
     "execution_count": 165,
     "metadata": {},
     "output_type": "execute_result"
    }
   ],
   "source": [
    "pl3.fit(X_train[:100], y_train[:100])"
   ]
  },
  {
   "cell_type": "code",
   "execution_count": 167,
   "metadata": {},
   "outputs": [
    {
     "data": {
      "text/plain": [
       "0.06264046451248427"
      ]
     },
     "execution_count": 167,
     "metadata": {},
     "output_type": "execute_result"
    }
   ],
   "source": [
    "proba = pl.predict_proba(X_test[:100])\n",
    "log_loss(y_test[:100], proba)"
   ]
  },
  {
   "cell_type": "code",
   "execution_count": null,
   "metadata": {
    "collapsed": true
   },
   "outputs": [],
   "source": [
    "param_grid_lr = {'clf__penalty': ['l1','l2', 'elasticnet'],\n",
    "              'clf__C': np.logspace(-4, 4, 12),\n",
    "              }\n",
    "\n"
   ]
  }
 ],
 "metadata": {
  "kernelspec": {
   "display_name": "Python 3",
   "language": "python",
   "name": "python3"
  },
  "language_info": {
   "codemirror_mode": {
    "name": "ipython",
    "version": 3
   },
   "file_extension": ".py",
   "mimetype": "text/x-python",
   "name": "python",
   "nbconvert_exporter": "python",
   "pygments_lexer": "ipython3",
   "version": "3.7.1"
  }
 },
 "nbformat": 4,
 "nbformat_minor": 2
}
