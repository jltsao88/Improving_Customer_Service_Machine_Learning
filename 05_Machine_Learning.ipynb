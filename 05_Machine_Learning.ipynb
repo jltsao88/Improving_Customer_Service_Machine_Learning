{
 "cells": [
  {
   "cell_type": "markdown",
   "metadata": {},
   "source": [
    "# Machine Learning"
   ]
  },
  {
   "cell_type": "code",
   "execution_count": 1,
   "metadata": {},
   "outputs": [],
   "source": [
    "import numpy as np\n",
    "import pandas as pd\n",
    "import matplotlib.pyplot as plt\n",
    "import spacy\n",
    "from sklearn.linear_model import LogisticRegression\n",
    "from sklearn.ensemble import RandomForestClassifier\n",
    "from sklearn.model_selection import train_test_split\n",
    "from sklearn.model_selection import cross_val_score\n",
    "from sklearn.model_selection import RandomizedSearchCV\n",
    "from sklearn.feature_extraction.text import CountVectorizer\n",
    "from sklearn.preprocessing import FunctionTransformer\n",
    "from sklearn.preprocessing import OneHotEncoder\n",
    "from sklearn.metrics import log_loss\n",
    "from sklearn.pipeline import Pipeline\n",
    "from sklearn.pipeline import FeatureUnion\n",
    "from sklearn.metrics import classification_report\n",
    "from sklearn.metrics import roc_curve\n",
    "from sklearn.metrics import roc_auc_score\n",
    "from sklearn.metrics import auc\n",
    "from sklearn.metrics import f1_score\n",
    "from nltk.stem.porter import PorterStemmer\n",
    "import re\n",
    "import pickle\n",
    "\n",
    "import warnings\n",
    "\n",
    "\n",
    "%matplotlib inline\n",
    "pd.set_option(\"display.max_columns\", None)\n",
    "warnings.filterwarnings('ignore')"
   ]
  },
  {
   "cell_type": "code",
   "execution_count": 2,
   "metadata": {},
   "outputs": [],
   "source": [
    "df = pd.read_csv('C:\\\\Users\\\\jltsa\\\\Desktop\\\\Cust_complaints\\\\feature_sets\\\\ml_data1.csv')"
   ]
  },
  {
   "cell_type": "code",
   "execution_count": 3,
   "metadata": {
    "scrolled": true
   },
   "outputs": [
    {
     "data": {
      "text/html": [
       "<div>\n",
       "<style scoped>\n",
       "    .dataframe tbody tr th:only-of-type {\n",
       "        vertical-align: middle;\n",
       "    }\n",
       "\n",
       "    .dataframe tbody tr th {\n",
       "        vertical-align: top;\n",
       "    }\n",
       "\n",
       "    .dataframe thead th {\n",
       "        text-align: right;\n",
       "    }\n",
       "</style>\n",
       "<table border=\"1\" class=\"dataframe\">\n",
       "  <thead>\n",
       "    <tr style=\"text-align: right;\">\n",
       "      <th></th>\n",
       "      <th>product</th>\n",
       "      <th>sub_product</th>\n",
       "      <th>issue</th>\n",
       "      <th>sub_issue</th>\n",
       "      <th>consumer_complaint_narrative</th>\n",
       "      <th>company</th>\n",
       "      <th>submitted_via</th>\n",
       "      <th>timely_response</th>\n",
       "    </tr>\n",
       "  </thead>\n",
       "  <tbody>\n",
       "    <tr>\n",
       "      <th>0</th>\n",
       "      <td>Credit card</td>\n",
       "      <td>None</td>\n",
       "      <td>Billing statement</td>\n",
       "      <td>None</td>\n",
       "      <td>Year end summary provided by citi shows balanc...</td>\n",
       "      <td>CITIBANK, N.A.</td>\n",
       "      <td>Web</td>\n",
       "      <td>True</td>\n",
       "    </tr>\n",
       "    <tr>\n",
       "      <th>1</th>\n",
       "      <td>Debt collection</td>\n",
       "      <td>Other (i.e. phone, health club, etc.)</td>\n",
       "      <td>Disclosure verification of debt</td>\n",
       "      <td>Not given enough info to verify debt</td>\n",
       "      <td>I received a letter from a debt collector clai...</td>\n",
       "      <td>Amsher Collection Services, Inc.</td>\n",
       "      <td>Web</td>\n",
       "      <td>True</td>\n",
       "    </tr>\n",
       "    <tr>\n",
       "      <th>2</th>\n",
       "      <td>Debt collection</td>\n",
       "      <td>Other (i.e. phone, health club, etc.)</td>\n",
       "      <td>Cont'd attempts collect debt not owed</td>\n",
       "      <td>Debt is not mine</td>\n",
       "      <td>I HAVE SUBMITTED COMPLAINTS TO OF UPSTATE NY C...</td>\n",
       "      <td>Credit Protection Association, L.P.</td>\n",
       "      <td>Web</td>\n",
       "      <td>True</td>\n",
       "    </tr>\n",
       "    <tr>\n",
       "      <th>3</th>\n",
       "      <td>Debt collection</td>\n",
       "      <td>Other (i.e. phone, health club, etc.)</td>\n",
       "      <td>Cont'd attempts collect debt not owed</td>\n",
       "      <td>Debt resulted from identity theft</td>\n",
       "      <td>has accounts in my name that were fraudulently...</td>\n",
       "      <td>Convergent Resources, Inc.</td>\n",
       "      <td>Web</td>\n",
       "      <td>True</td>\n",
       "    </tr>\n",
       "    <tr>\n",
       "      <th>4</th>\n",
       "      <td>Credit card</td>\n",
       "      <td>None</td>\n",
       "      <td>Late fee</td>\n",
       "      <td>None</td>\n",
       "      <td>When making online through personal bank payme...</td>\n",
       "      <td>SYNCHRONY FINANCIAL</td>\n",
       "      <td>Web</td>\n",
       "      <td>True</td>\n",
       "    </tr>\n",
       "  </tbody>\n",
       "</table>\n",
       "</div>"
      ],
      "text/plain": [
       "           product                            sub_product  \\\n",
       "0      Credit card                                   None   \n",
       "1  Debt collection  Other (i.e. phone, health club, etc.)   \n",
       "2  Debt collection  Other (i.e. phone, health club, etc.)   \n",
       "3  Debt collection  Other (i.e. phone, health club, etc.)   \n",
       "4      Credit card                                   None   \n",
       "\n",
       "                                   issue  \\\n",
       "0                      Billing statement   \n",
       "1        Disclosure verification of debt   \n",
       "2  Cont'd attempts collect debt not owed   \n",
       "3  Cont'd attempts collect debt not owed   \n",
       "4                               Late fee   \n",
       "\n",
       "                              sub_issue  \\\n",
       "0                                  None   \n",
       "1  Not given enough info to verify debt   \n",
       "2                      Debt is not mine   \n",
       "3     Debt resulted from identity theft   \n",
       "4                                  None   \n",
       "\n",
       "                        consumer_complaint_narrative  \\\n",
       "0  Year end summary provided by citi shows balanc...   \n",
       "1  I received a letter from a debt collector clai...   \n",
       "2  I HAVE SUBMITTED COMPLAINTS TO OF UPSTATE NY C...   \n",
       "3  has accounts in my name that were fraudulently...   \n",
       "4  When making online through personal bank payme...   \n",
       "\n",
       "                               company submitted_via  timely_response  \n",
       "0                       CITIBANK, N.A.           Web             True  \n",
       "1     Amsher Collection Services, Inc.           Web             True  \n",
       "2  Credit Protection Association, L.P.           Web             True  \n",
       "3           Convergent Resources, Inc.           Web             True  \n",
       "4                  SYNCHRONY FINANCIAL           Web             True  "
      ]
     },
     "execution_count": 3,
     "metadata": {},
     "output_type": "execute_result"
    }
   ],
   "source": [
    "df.head()"
   ]
  },
  {
   "cell_type": "code",
   "execution_count": 61,
   "metadata": {},
   "outputs": [
    {
     "name": "stdout",
     "output_type": "stream",
     "text": [
      "<class 'pandas.core.frame.DataFrame'>\n",
      "RangeIndex: 383840 entries, 0 to 383839\n",
      "Data columns (total 8 columns):\n",
      "product                         383840 non-null object\n",
      "sub_product                     383840 non-null object\n",
      "issue                           383840 non-null object\n",
      "sub_issue                       383840 non-null object\n",
      "consumer_complaint_narrative    383840 non-null object\n",
      "company                         383840 non-null object\n",
      "submitted_via                   383840 non-null object\n",
      "timely_response                 383840 non-null bool\n",
      "dtypes: bool(1), object(7)\n",
      "memory usage: 20.9+ MB\n"
     ]
    }
   ],
   "source": [
    "df.info()"
   ]
  },
  {
   "cell_type": "markdown",
   "metadata": {},
   "source": [
    "## Measuring Success"
   ]
  },
  {
   "cell_type": "code",
   "execution_count": 10,
   "metadata": {
    "scrolled": true
   },
   "outputs": [
    {
     "data": {
      "text/plain": [
       "timely_response\n",
       "True     372452\n",
       "False     11388\n",
       "Name: company, dtype: int64"
      ]
     },
     "execution_count": 10,
     "metadata": {},
     "output_type": "execute_result"
    }
   ],
   "source": [
    "df.groupby('timely_response').count()['company'].sort_values(ascending=False)"
   ]
  },
  {
   "cell_type": "code",
   "execution_count": 11,
   "metadata": {},
   "outputs": [
    {
     "data": {
      "text/plain": [
       "0.029668611921634013"
      ]
     },
     "execution_count": 11,
     "metadata": {},
     "output_type": "execute_result"
    }
   ],
   "source": [
    "11388/(372452+11388)"
   ]
  },
  {
   "cell_type": "markdown",
   "metadata": {},
   "source": [
    "Because the data has only around 3% of the labels calssified as False or not responsign appropriately in time, accuracy will be a bad metric of success.  For instance, the model can classify everything as True and have an accuracy rate of 97%.\n",
    "\n",
    "Instead, we can use log loss as a measure of success.  It is actually a measure of error.  In this case we want log loss to be as small as possible as opposed to accuracy.\n",
    "\n",
    "Oen take away is that it isbetter to be less confident than confident and wrong about a prediction."
   ]
  },
  {
   "cell_type": "code",
   "execution_count": 3,
   "metadata": {},
   "outputs": [],
   "source": [
    "# Log loss can be calculated with numpy\n",
    "def compute_log_loss(predicted, actual, eps=1e-14):\n",
    "    \"\"\"\n",
    "    predicted: probabilities as floats between 0 and 1\n",
    "    actual: binary labels, 0=no or 1=yes\n",
    "    eps: log(0) is inf, need to offset predicted values by eps from 0 to 1\n",
    "    \"\"\"\n",
    "    predicted = np.clip(predicted, eps, 1- eps)\n",
    "    loss = -1 * np.mean(actual * np.log(predicted) + (1 - actual)\n",
    "              * np.log(1 - predicted))\n",
    "    return loss"
   ]
  },
  {
   "cell_type": "code",
   "execution_count": 15,
   "metadata": {},
   "outputs": [
    {
     "data": {
      "text/plain": [
       "2.302585092994046"
      ]
     },
     "execution_count": 15,
     "metadata": {},
     "output_type": "execute_result"
    }
   ],
   "source": [
    "#we are saying we are predicting the value is 1 with 90% probability\n",
    "#But the the actual label is 0\n",
    "compute_log_loss(predicted=0.9, actual=0)"
   ]
  },
  {
   "cell_type": "code",
   "execution_count": 33,
   "metadata": {},
   "outputs": [
    {
     "data": {
      "text/plain": [
       "2.302585092994046"
      ]
     },
     "execution_count": 33,
     "metadata": {},
     "output_type": "execute_result"
    }
   ],
   "source": [
    "#scikit-learn implementation\n",
    "log_loss([0,1], [0.9, 0.1])"
   ]
  },
  {
   "cell_type": "code",
   "execution_count": 18,
   "metadata": {
    "scrolled": true
   },
   "outputs": [
    {
     "data": {
      "text/plain": [
       "0.6931471805599453"
      ]
     },
     "execution_count": 18,
     "metadata": {},
     "output_type": "execute_result"
    }
   ],
   "source": [
    "#Predicting 50% probability that value is 1\n",
    "#Actual label is 1\n",
    "compute_log_loss(0.5, 1)"
   ]
  },
  {
   "cell_type": "markdown",
   "metadata": {},
   "source": [
    "## Possible Features to Engineer?"
   ]
  },
  {
   "cell_type": "markdown",
   "metadata": {},
   "source": [
    "1. A count for number of exclamation points in a narrative - could be an indicator of how important a claim can be"
   ]
  },
  {
   "cell_type": "markdown",
   "metadata": {},
   "source": [
    "## Splitting Data into Training and Test Sets"
   ]
  },
  {
   "cell_type": "markdown",
   "metadata": {},
   "source": [
    "As noted above the False label only appears in about 3% of our data.  We need to make sure the training and test splits include these labels.  We can use StratifiedShuffleSplit from SciKitLearn."
   ]
  },
  {
   "cell_type": "markdown",
   "metadata": {},
   "source": [
    "## Preprocessing Data\n",
    "We did some preprocessing already on the data.  Now, we will do further preprocessing to get our data for machine learning.  For this project, use a bag of words representation for NLP."
   ]
  },
  {
   "cell_type": "code",
   "execution_count": 3,
   "metadata": {},
   "outputs": [],
   "source": [
    "#tokenizer\n",
    "spacy.load('en_core_web_sm')\n",
    "lemmatizer = spacy.lang.en.English()\n",
    "porter_stemmer = PorterStemmer()"
   ]
  },
  {
   "cell_type": "code",
   "execution_count": 4,
   "metadata": {},
   "outputs": [],
   "source": [
    "#Used for testing output of vectorizer\n",
    "def wm2df(wm, feat_names):\n",
    "    #create a dataframe from a word matrix\n",
    "    # create an index for each row\n",
    "    doc_names = ['Doc{:d}'.format(idx) for idx, _ in enumerate(wm)]\n",
    "    df = pd.DataFrame(data=wm.toarray(), index=doc_names,\n",
    "                      columns=feat_names)\n",
    "    return(df)"
   ]
  },
  {
   "cell_type": "code",
   "execution_count": 5,
   "metadata": {
    "scrolled": true
   },
   "outputs": [],
   "source": [
    "#Customizing Vectorizers stemming\n",
    "def stemming_tokenizer(str_input):\n",
    "    words = re.sub(r\"[^A-Za-z\\-]\", \" \", str_input).lower().split()\n",
    "    words = [porter_stemmer.stem(word) for word in words]\n",
    "    return words\n",
    "\n",
    "#Customizing Vectorizers lemmatization\n",
    "def my_tokenizer(doc):\n",
    "    tokens = lemmatizer(doc)\n",
    "    return([token.lemma_ for token in tokens])\n",
    "\n",
    "custom_vec = CountVectorizer(tokenizer=my_tokenizer,\n",
    "                             ngram_range=(1,2),\n",
    "                             stop_words='english')"
   ]
  },
  {
   "cell_type": "code",
   "execution_count": 6,
   "metadata": {},
   "outputs": [],
   "source": [
    "#labels we want to predict\n",
    "labels = df['timely_response'].values"
   ]
  },
  {
   "cell_type": "code",
   "execution_count": 7,
   "metadata": {},
   "outputs": [],
   "source": [
    "#drop the label for the Data so we can pull out only the features\n",
    "df = df.drop('timely_response', axis=1)"
   ]
  },
  {
   "cell_type": "code",
   "execution_count": 8,
   "metadata": {},
   "outputs": [],
   "source": [
    "#convert all features but complaint narrative to dummy variables\n",
    "cats = ['product', 'sub_product', 'issue', 'sub_issue', 'company', 'submitted_via']\n",
    "\n",
    "#df = pd.get_dummies(df, columns=cats)"
   ]
  },
  {
   "cell_type": "code",
   "execution_count": 9,
   "metadata": {},
   "outputs": [],
   "source": [
    "#Use Function transformer to create steps to vectorize narrative data\n",
    "def get_narr(df):\n",
    "    return df['consumer_complaint_narrative']\n",
    "\n",
    "#grabs the complaint narrative data for use in pipe line\n",
    "get_narr_pl = FunctionTransformer(get_narr, validate=False)\n",
    "\n",
    "def get_cats(df):\n",
    "    return df[['product', 'sub_product', 'issue', 'sub_issue', 'company', 'submitted_via']]\n",
    "\n",
    "get_cats_pl = FunctionTransformer(get_cats, validate=False)"
   ]
  },
  {
   "cell_type": "markdown",
   "metadata": {},
   "source": [
    "## Train and Test Sets"
   ]
  },
  {
   "cell_type": "code",
   "execution_count": 10,
   "metadata": {},
   "outputs": [],
   "source": [
    "X_train, X_test, y_train, y_test = train_test_split(df, labels, test_size=.25, random_state=42)"
   ]
  },
  {
   "cell_type": "markdown",
   "metadata": {},
   "source": [
    "## Model Training"
   ]
  },
  {
   "cell_type": "markdown",
   "metadata": {},
   "source": [
    "### Random Forest - default hyper parameters"
   ]
  },
  {
   "cell_type": "code",
   "execution_count": 70,
   "metadata": {},
   "outputs": [],
   "source": [
    "pl = Pipeline([\n",
    "             ('union', FeatureUnion(\n",
    "                  transformer_list = [\n",
    "                      ('cat_features', Pipeline([\n",
    "                          ('selector', get_cats_pl),\n",
    "                          ('one_hot_encode', OneHotEncoder(handle_unknown='ignore'))\n",
    "                      ])),\n",
    "                      ('narr_feature', Pipeline([\n",
    "                          ('selector', get_narr_pl),\n",
    "                          ('vecorizer', custom_vec)\n",
    "                      ]))\n",
    "                  ])),\n",
    "             ('clf', RandomForestClassifier())\n",
    "               ])"
   ]
  },
  {
   "cell_type": "code",
   "execution_count": 71,
   "metadata": {},
   "outputs": [
    {
     "data": {
      "text/plain": [
       "Pipeline(memory=None,\n",
       "     steps=[('union', FeatureUnion(n_jobs=None,\n",
       "       transformer_list=[('cat_features', Pipeline(memory=None,\n",
       "     steps=[('selector', FunctionTransformer(accept_sparse=False, check_inverse=True,\n",
       "          func=<function get_cats at 0x0000027D13C3E378>, inv_kw_args=None,\n",
       "          inverse_func=None, kw...obs=None,\n",
       "            oob_score=False, random_state=None, verbose=0,\n",
       "            warm_start=False))])"
      ]
     },
     "execution_count": 71,
     "metadata": {},
     "output_type": "execute_result"
    }
   ],
   "source": [
    "pl.fit(X_train, y_train)"
   ]
  },
  {
   "cell_type": "code",
   "execution_count": 72,
   "metadata": {},
   "outputs": [],
   "source": [
    "proba = pl.predict_proba(X_test)"
   ]
  },
  {
   "cell_type": "code",
   "execution_count": 73,
   "metadata": {},
   "outputs": [
    {
     "data": {
      "text/plain": [
       "0.5127938367308402"
      ]
     },
     "execution_count": 73,
     "metadata": {},
     "output_type": "execute_result"
    }
   ],
   "source": [
    "#log loss\n",
    "log_loss(y_test, proba)"
   ]
  },
  {
   "cell_type": "code",
   "execution_count": 74,
   "metadata": {},
   "outputs": [
    {
     "data": {
      "text/plain": [
       "0.9699979157982492"
      ]
     },
     "execution_count": 74,
     "metadata": {},
     "output_type": "execute_result"
    }
   ],
   "source": [
    "#accuracy\n",
    "pl.score(X_test, y_test)"
   ]
  },
  {
   "cell_type": "code",
   "execution_count": 75,
   "metadata": {},
   "outputs": [
    {
     "name": "stdout",
     "output_type": "stream",
     "text": [
      "              precision    recall  f1-score   support\n",
      "\n",
      "       False       0.44      0.05      0.08      2843\n",
      "        True       0.97      1.00      0.98     93117\n",
      "\n",
      "   micro avg       0.97      0.97      0.97     95960\n",
      "   macro avg       0.71      0.52      0.53     95960\n",
      "weighted avg       0.96      0.97      0.96     95960\n",
      "\n"
     ]
    }
   ],
   "source": [
    "#Classification Report\n",
    "rf_predict = pl.predict(X_test)\n",
    "print(classification_report(y_test, rf_predict))"
   ]
  },
  {
   "cell_type": "markdown",
   "metadata": {},
   "source": [
    "For this model we are more concerned about predicting the False values because they are only about 3% of the data.  48% precision for False means the model predicts a False, it is identifying it correctly 48% of the time.  The recall of 5% is low, meaning that the model over predicts 5% of False correctly.  The goal is to get this higher."
   ]
  },
  {
   "cell_type": "code",
   "execution_count": 76,
   "metadata": {
    "scrolled": true
   },
   "outputs": [
    {
     "data": {
      "image/png": "[encoded data removed]",
      "text/plain": [
       "<Figure size 432x288 with 1 Axes>"
      ]
     },
     "metadata": {
      "needs_background": "light"
     },
     "output_type": "display_data"
    }
   ],
   "source": [
    "fpr, tpr, thresholds = roc_curve(y_test, proba[:,1])\n",
    "#plot ROC curve\n",
    "plt.plot([0,1], [0,1], 'k--')\n",
    "plt.plot(fpr, tpr)\n",
    "plt.xlabel('False Positive Rate')\n",
    "plt.ylabel('True Positive Rate')\n",
    "plt.title('ROC Curve')\n",
    "plt.show()"
   ]
  },
  {
   "cell_type": "code",
   "execution_count": 77,
   "metadata": {
    "scrolled": false
   },
   "outputs": [
    {
     "data": {
      "text/plain": [
       "0.7123553796259428"
      ]
     },
     "execution_count": 77,
     "metadata": {},
     "output_type": "execute_result"
    }
   ],
   "source": [
    "#area under curve\n",
    "auc(fpr, tpr)"
   ]
  },
  {
   "cell_type": "code",
   "execution_count": 78,
   "metadata": {},
   "outputs": [
    {
     "data": {
      "text/plain": [
       "0.9847495245813933"
      ]
     },
     "execution_count": 78,
     "metadata": {},
     "output_type": "execute_result"
    }
   ],
   "source": [
    "#F1 score\n",
    "f1_score(y_test, rf_predict)"
   ]
  },
  {
   "cell_type": "markdown",
   "metadata": {},
   "source": [
    "### Random Forest (Stemming) - tuning hyper parameters"
   ]
  },
  {
   "cell_type": "code",
   "execution_count": 79,
   "metadata": {},
   "outputs": [],
   "source": [
    "#Hyper Parameters\n",
    "n_estimators = [int(x) for x in np.linspace(start=10, stop=100, num=10)]\n",
    "max_features = ['auto', 'sqrt']\n",
    "max_depth = [int(x) for x in np.linspace(10, 110, num = 11)]\n",
    "max_depth.append(None)\n",
    "min_samples_split = [2, 3, 5, 10]\n",
    "min_samples_leaf = [1, 2, 3, 4]\n",
    "bootstrap = [True, False]\n",
    "\n",
    "param_grid = {'clf__n_estimators': n_estimators,\n",
    "              'clf__max_features': max_features,\n",
    "              'clf__max_depth': max_depth,\n",
    "              'clf__min_samples_split': min_samples_split,\n",
    "              'clf__min_samples_leaf': min_samples_leaf,\n",
    "              'clf__bootstrap': bootstrap}"
   ]
  },
  {
   "cell_type": "code",
   "execution_count": 80,
   "metadata": {},
   "outputs": [],
   "source": [
    "#Initialize Pipeline\n",
    "pl2 = Pipeline([\n",
    "             ('union', FeatureUnion(\n",
    "                  transformer_list = [\n",
    "                      ('cat_features', Pipeline([\n",
    "                          ('selector', get_cats_pl),\n",
    "                          ('one_hot_encode', OneHotEncoder(handle_unknown='ignore'))\n",
    "                      ])),\n",
    "                      ('narr_feature', Pipeline([\n",
    "                          ('selector', get_narr_pl),\n",
    "                          ('vecorizer', custom_vec)\n",
    "                      ]))\n",
    "                  ])),\n",
    "             ('clf', RandomForestClassifier())\n",
    "               ])"
   ]
  },
  {
   "cell_type": "code",
   "execution_count": 82,
   "metadata": {},
   "outputs": [],
   "source": [
    "#Randomized search of hyperparameters\n",
    "rf_param_search = RandomizedSearchCV(pl2, param_distributions=param_grid)"
   ]
  },
  {
   "cell_type": "code",
   "execution_count": 83,
   "metadata": {},
   "outputs": [
    {
     "data": {
      "text/plain": [
       "RandomizedSearchCV(cv='warn', error_score='raise-deprecating',\n",
       "          estimator=Pipeline(memory=None,\n",
       "     steps=[('union', FeatureUnion(n_jobs=None,\n",
       "       transformer_list=[('cat_features', Pipeline(memory=None,\n",
       "     steps=[('selector', FunctionTransformer(accept_sparse=False, check_inverse=True,\n",
       "          func=<function get_cats at 0x0000027D13C3E378>, inv_kw_args=None,\n",
       "          inverse_func=None, kw...obs=None,\n",
       "            oob_score=False, random_state=None, verbose=0,\n",
       "            warm_start=False))]),\n",
       "          fit_params=None, iid='warn', n_iter=10, n_jobs=None,\n",
       "          param_distributions={'clf__n_estimators': [10, 20, 30, 40, 50, 60, 70, 80, 90, 100], 'clf__max_features': ['auto', 'sqrt'], 'clf__max_depth': [10, 20, 30, 40, 50, 60, 70, 80, 90, 100, 110, None], 'clf__min_samples_split': [2, 3, 5, 10], 'clf__min_samples_leaf': [1, 2, 3, 4], 'clf__bootstrap': [True, False]},\n",
       "          pre_dispatch='2*n_jobs', random_state=None, refit=True,\n",
       "          return_train_score='warn', scoring=None, verbose=0)"
      ]
     },
     "execution_count": 83,
     "metadata": {},
     "output_type": "execute_result"
    }
   ],
   "source": [
    "rf_param_search.fit(X_train, y_train)"
   ]
  },
  {
   "cell_type": "code",
   "execution_count": 99,
   "metadata": {},
   "outputs": [
    {
     "data": {
      "text/plain": [
       "\"\\n#Save model\\nimport pickle\\n#pickle the model\\n\\n#Just the best estimator\\noptimised_rf = rf_param_search.best_estimator_\\n\\n\\nfile_name1 = 'optimised_rf_estimator.pickle'\\nwith open('models\\\\'+file_name1, 'wb') as file1:\\n    pickle.dump(optimised_rf, file1)\\n    \\nfile_name2 = 'optimised_rf_fullsearch.pickle'\\nwith open('models\\\\'+file_name2, 'wb') as file2:\\n    pickle.dump(rf_param_search, file2)\\n\""
      ]
     },
     "execution_count": 99,
     "metadata": {},
     "output_type": "execute_result"
    }
   ],
   "source": [
    "'''\n",
    "\n",
    "#Just the best estimator\n",
    "optimised_rf = rf_param_search.best_estimator_\n",
    "\n",
    "\n",
    "file_name1 = 'optimised_rf_estimator.pickle'\n",
    "with open('models\\\\'+file_name1, 'wb') as file1:\n",
    "    pickle.dump(optimised_rf, file1)\n",
    "    \n",
    "file_name2 = 'optimised_rf_fullsearch.pickle'\n",
    "with open('models\\\\'+file_name2, 'wb') as file2:\n",
    "    pickle.dump(rf_param_search, file2)\n",
    "'''"
   ]
  },
  {
   "cell_type": "code",
   "execution_count": 89,
   "metadata": {
    "scrolled": true
   },
   "outputs": [
    {
     "data": {
      "text/plain": [
       "{'clf__n_estimators': 20,\n",
       " 'clf__min_samples_split': 5,\n",
       " 'clf__min_samples_leaf': 2,\n",
       " 'clf__max_features': 'auto',\n",
       " 'clf__max_depth': 10,\n",
       " 'clf__bootstrap': False}"
      ]
     },
     "execution_count": 89,
     "metadata": {},
     "output_type": "execute_result"
    }
   ],
   "source": [
    "#Best Parameters for tuned random forest model\n",
    "rf_param_search.best_params_"
   ]
  },
  {
   "cell_type": "code",
   "execution_count": 90,
   "metadata": {},
   "outputs": [
    {
     "data": {
      "text/plain": [
       "0"
      ]
     },
     "execution_count": 90,
     "metadata": {},
     "output_type": "execute_result"
    }
   ],
   "source": [
    "rf_param_search.best_index_"
   ]
  },
  {
   "cell_type": "code",
   "execution_count": 91,
   "metadata": {
    "scrolled": false
   },
   "outputs": [
    {
     "data": {
      "text/plain": [
       "{'mean_fit_time': array([645.63081106, 603.43199539, 593.71129656, 623.42822138,\n",
       "        587.12391353, 600.12615172, 580.06843607, 578.33739392,\n",
       "        583.6688242 , 579.85766927]),\n",
       " 'std_fit_time': array([51.56299344,  1.3173086 ,  0.4785153 ,  1.44013131,  1.94726149,\n",
       "         2.17525346,  3.06342235,  2.98308713,  1.58013677,  3.27574194]),\n",
       " 'mean_score_time': array([327.22101061, 290.21437422, 284.55165863, 293.73564331,\n",
       "        283.02891024, 295.72832799, 280.70311538, 281.35241437,\n",
       "        288.9407781 , 281.97540355]),\n",
       " 'std_score_time': array([30.75767898,  1.36850203,  1.2769552 ,  1.78262412,  0.73471728,\n",
       "         2.21073922,  1.72673697,  1.27961408,  1.32093753,  3.78755191]),\n",
       " 'param_clf__n_estimators': masked_array(data=[20, 70, 30, 80, 20, 90, 10, 10, 60, 10],\n",
       "              mask=[False, False, False, False, False, False, False, False,\n",
       "                    False, False],\n",
       "        fill_value='?',\n",
       "             dtype=object),\n",
       " 'param_clf__min_samples_split': masked_array(data=[5, 10, 5, 10, 3, 2, 5, 5, 3, 3],\n",
       "              mask=[False, False, False, False, False, False, False, False,\n",
       "                    False, False],\n",
       "        fill_value='?',\n",
       "             dtype=object),\n",
       " 'param_clf__min_samples_leaf': masked_array(data=[2, 2, 1, 1, 3, 3, 2, 3, 3, 2],\n",
       "              mask=[False, False, False, False, False, False, False, False,\n",
       "                    False, False],\n",
       "        fill_value='?',\n",
       "             dtype=object),\n",
       " 'param_clf__max_features': masked_array(data=['auto', 'sqrt', 'sqrt', 'auto', 'auto', 'auto', 'sqrt',\n",
       "                    'auto', 'sqrt', 'sqrt'],\n",
       "              mask=[False, False, False, False, False, False, False, False,\n",
       "                    False, False],\n",
       "        fill_value='?',\n",
       "             dtype=object),\n",
       " 'param_clf__max_depth': masked_array(data=[10, 100, 80, 80, 110, 60, 60, 40, 30, 90],\n",
       "              mask=[False, False, False, False, False, False, False, False,\n",
       "                    False, False],\n",
       "        fill_value='?',\n",
       "             dtype=object),\n",
       " 'param_clf__bootstrap': masked_array(data=[False, True, False, False, True, True, False, True,\n",
       "                    True, True],\n",
       "              mask=[False, False, False, False, False, False, False, False,\n",
       "                    False, False],\n",
       "        fill_value='?',\n",
       "             dtype=object),\n",
       " 'params': [{'clf__n_estimators': 20,\n",
       "   'clf__min_samples_split': 5,\n",
       "   'clf__min_samples_leaf': 2,\n",
       "   'clf__max_features': 'auto',\n",
       "   'clf__max_depth': 10,\n",
       "   'clf__bootstrap': False},\n",
       "  {'clf__n_estimators': 70,\n",
       "   'clf__min_samples_split': 10,\n",
       "   'clf__min_samples_leaf': 2,\n",
       "   'clf__max_features': 'sqrt',\n",
       "   'clf__max_depth': 100,\n",
       "   'clf__bootstrap': True},\n",
       "  {'clf__n_estimators': 30,\n",
       "   'clf__min_samples_split': 5,\n",
       "   'clf__min_samples_leaf': 1,\n",
       "   'clf__max_features': 'sqrt',\n",
       "   'clf__max_depth': 80,\n",
       "   'clf__bootstrap': False},\n",
       "  {'clf__n_estimators': 80,\n",
       "   'clf__min_samples_split': 10,\n",
       "   'clf__min_samples_leaf': 1,\n",
       "   'clf__max_features': 'auto',\n",
       "   'clf__max_depth': 80,\n",
       "   'clf__bootstrap': False},\n",
       "  {'clf__n_estimators': 20,\n",
       "   'clf__min_samples_split': 3,\n",
       "   'clf__min_samples_leaf': 3,\n",
       "   'clf__max_features': 'auto',\n",
       "   'clf__max_depth': 110,\n",
       "   'clf__bootstrap': True},\n",
       "  {'clf__n_estimators': 90,\n",
       "   'clf__min_samples_split': 2,\n",
       "   'clf__min_samples_leaf': 3,\n",
       "   'clf__max_features': 'auto',\n",
       "   'clf__max_depth': 60,\n",
       "   'clf__bootstrap': True},\n",
       "  {'clf__n_estimators': 10,\n",
       "   'clf__min_samples_split': 5,\n",
       "   'clf__min_samples_leaf': 2,\n",
       "   'clf__max_features': 'sqrt',\n",
       "   'clf__max_depth': 60,\n",
       "   'clf__bootstrap': False},\n",
       "  {'clf__n_estimators': 10,\n",
       "   'clf__min_samples_split': 5,\n",
       "   'clf__min_samples_leaf': 3,\n",
       "   'clf__max_features': 'auto',\n",
       "   'clf__max_depth': 40,\n",
       "   'clf__bootstrap': True},\n",
       "  {'clf__n_estimators': 60,\n",
       "   'clf__min_samples_split': 3,\n",
       "   'clf__min_samples_leaf': 3,\n",
       "   'clf__max_features': 'sqrt',\n",
       "   'clf__max_depth': 30,\n",
       "   'clf__bootstrap': True},\n",
       "  {'clf__n_estimators': 10,\n",
       "   'clf__min_samples_split': 3,\n",
       "   'clf__min_samples_leaf': 2,\n",
       "   'clf__max_features': 'sqrt',\n",
       "   'clf__max_depth': 90,\n",
       "   'clf__bootstrap': True}],\n",
       " 'split0_test_score': array([0.97031086, 0.97031086, 0.97031086, 0.97032128, 0.97031086,\n",
       "        0.97031086, 0.97031086, 0.97031086, 0.97031086, 0.97031086]),\n",
       " 'split1_test_score': array([0.97032097, 0.97032097, 0.97031055, 0.97031055, 0.97032097,\n",
       "        0.97032097, 0.97031055, 0.97032097, 0.97032097, 0.97032097]),\n",
       " 'split2_test_score': array([0.97032066, 0.97032066, 0.97032066, 0.97032066, 0.97032066,\n",
       "        0.97032066, 0.97032066, 0.97032066, 0.97032066, 0.97032066]),\n",
       " 'mean_test_score': array([0.97031749, 0.97031749, 0.97031402, 0.97031749, 0.97031749,\n",
       "        0.97031749, 0.97031402, 0.97031749, 0.97031749, 0.97031749]),\n",
       " 'std_test_score': array([4.69547299e-06, 4.69547299e-06, 4.69547299e-06, 4.91899710e-06,\n",
       "        4.69547299e-06, 4.69547299e-06, 4.69547299e-06, 4.69547299e-06,\n",
       "        4.69547299e-06, 4.69547299e-06]),\n",
       " 'rank_test_score': array([1, 1, 9, 1, 1, 1, 9, 1, 1, 1]),\n",
       " 'split0_train_score': array([0.97032081, 0.97032081, 0.97062823, 0.97045629, 0.97032081,\n",
       "        0.97032081, 0.9703625 , 0.97032081, 0.97032081, 0.97033123]),\n",
       " 'split1_train_score': array([0.97031576, 0.97031576, 0.97068049, 0.97052939, 0.97032618,\n",
       "        0.97031576, 0.97037307, 0.97031576, 0.97031576, 0.97036786]),\n",
       " 'split2_train_score': array([0.97031591, 0.97031591, 0.97061812, 0.97052433, 0.97032112,\n",
       "        0.97031591, 0.97039928, 0.97031591, 0.97031591, 0.97035238]),\n",
       " 'mean_train_score': array([0.97031749, 0.97031749, 0.97064228, 0.97050333, 0.9703227 ,\n",
       "        0.97031749, 0.97037828, 0.97031749, 0.97031749, 0.97035049]),\n",
       " 'std_train_score': array([2.34774909e-06, 2.34774909e-06, 2.73325285e-05, 3.33322083e-05,\n",
       "        2.45949893e-06, 2.34774909e-06, 1.54616498e-05, 2.34774909e-06,\n",
       "        2.34774909e-06, 1.50130542e-05])}"
      ]
     },
     "execution_count": 91,
     "metadata": {},
     "output_type": "execute_result"
    }
   ],
   "source": [
    "rf_param_search.cv_results_"
   ]
  },
  {
   "cell_type": "code",
   "execution_count": 92,
   "metadata": {},
   "outputs": [],
   "source": [
    "proba_rf = rf_param_search.predict_proba(X_test)"
   ]
  },
  {
   "cell_type": "code",
   "execution_count": 93,
   "metadata": {},
   "outputs": [
    {
     "data": {
      "text/plain": [
       "0.1305578651165261"
      ]
     },
     "execution_count": 93,
     "metadata": {},
     "output_type": "execute_result"
    }
   ],
   "source": [
    "#log loss\n",
    "log_loss(y_test, proba_rf)"
   ]
  },
  {
   "cell_type": "code",
   "execution_count": 94,
   "metadata": {},
   "outputs": [
    {
     "data": {
      "text/plain": [
       "0.9703730721133805"
      ]
     },
     "execution_count": 94,
     "metadata": {},
     "output_type": "execute_result"
    }
   ],
   "source": [
    "#accuracy\n",
    "rf_param_search.score(X_test, y_test)"
   ]
  },
  {
   "cell_type": "code",
   "execution_count": 95,
   "metadata": {},
   "outputs": [
    {
     "name": "stdout",
     "output_type": "stream",
     "text": [
      "              precision    recall  f1-score   support\n",
      "\n",
      "       False       0.00      0.00      0.00      2843\n",
      "        True       0.97      1.00      0.98     93117\n",
      "\n",
      "   micro avg       0.97      0.97      0.97     95960\n",
      "   macro avg       0.49      0.50      0.49     95960\n",
      "weighted avg       0.94      0.97      0.96     95960\n",
      "\n"
     ]
    }
   ],
   "source": [
    "#Classification Report\n",
    "rf_tuned_predict = rf_param_search.predict(X_test)\n",
    "print(classification_report(y_test, rf_tuned_predict))"
   ]
  },
  {
   "cell_type": "code",
   "execution_count": 96,
   "metadata": {},
   "outputs": [
    {
     "data": {
      "image/png": "[encoded data removed]",
      "text/plain": [
       "<Figure size 432x288 with 1 Axes>"
      ]
     },
     "metadata": {
      "needs_background": "light"
     },
     "output_type": "display_data"
    }
   ],
   "source": [
    "fpr, tpr, thresholds = roc_curve(y_test, proba_rf[:,1])\n",
    "#plot ROC curve\n",
    "plt.plot([0,1], [0,1], 'k--')\n",
    "plt.plot(fpr, tpr)\n",
    "plt.xlabel('False Positive Rate')\n",
    "plt.ylabel('True Positive Rate')\n",
    "plt.title('ROC Curve')\n",
    "plt.show()"
   ]
  },
  {
   "cell_type": "code",
   "execution_count": 97,
   "metadata": {},
   "outputs": [
    {
     "data": {
      "text/plain": [
       "0.703802548249325"
      ]
     },
     "execution_count": 97,
     "metadata": {},
     "output_type": "execute_result"
    }
   ],
   "source": [
    "auc(fpr, tpr)"
   ]
  },
  {
   "cell_type": "markdown",
   "metadata": {},
   "source": [
    "### Random Forest (Lemmatizing) - tuning hyper parameters"
   ]
  },
  {
   "cell_type": "markdown",
   "metadata": {},
   "source": [
    "Not shown in this notebook was the RandomizedGridSearchCV that led to the parameters set in the RandomForest clf below."
   ]
  },
  {
   "cell_type": "code",
   "execution_count": 13,
   "metadata": {},
   "outputs": [],
   "source": [
    "#Initialize Pipeline\n",
    "pl3 = Pipeline([\n",
    "             ('union', FeatureUnion(\n",
    "                  transformer_list = [\n",
    "                      ('cat_features', Pipeline([\n",
    "                          ('selector', get_cats_pl),\n",
    "                          ('one_hot_encode', OneHotEncoder(handle_unknown='ignore'))\n",
    "                      ])),\n",
    "                      ('narr_feature', Pipeline([\n",
    "                          ('selector', get_narr_pl),\n",
    "                          ('vecorizer', custom_vec)\n",
    "                      ]))\n",
    "                  ])),\n",
    "             ('clf', RandomForestClassifier(n_estimators=80, min_samples_split=10,\n",
    "                                            min_samples_leaf=1, max_features='auto',\n",
    "                                            max_depth=None, bootstrap=True))\n",
    "               ])"
   ]
  },
  {
   "cell_type": "code",
   "execution_count": 14,
   "metadata": {},
   "outputs": [
    {
     "data": {
      "text/plain": [
       "Pipeline(memory=None,\n",
       "     steps=[('union', FeatureUnion(n_jobs=None,\n",
       "       transformer_list=[('cat_features', Pipeline(memory=None,\n",
       "     steps=[('selector', FunctionTransformer(accept_sparse=False, check_inverse=True,\n",
       "          func=<function get_cats at 0x00000271DBB5D048>, inv_kw_args=None,\n",
       "          inverse_func=None, kw...obs=None,\n",
       "            oob_score=False, random_state=None, verbose=0,\n",
       "            warm_start=False))])"
      ]
     },
     "execution_count": 14,
     "metadata": {},
     "output_type": "execute_result"
    }
   ],
   "source": [
    "pl3.fit(X_train, y_train)"
   ]
  },
  {
   "cell_type": "code",
   "execution_count": 15,
   "metadata": {},
   "outputs": [],
   "source": [
    "#file_name1 = 'optimised_rf_estimator.pickle'\n",
    "#with open('models\\\\'+file_name1, 'wb') as file1:\n",
    "    #pickle.dump(pl3, file1)"
   ]
  },
  {
   "cell_type": "code",
   "execution_count": 16,
   "metadata": {},
   "outputs": [],
   "source": [
    "proba = pl3.predict_proba(X_test)"
   ]
  },
  {
   "cell_type": "code",
   "execution_count": 17,
   "metadata": {},
   "outputs": [
    {
     "data": {
      "text/plain": [
       "0.11380776743705874"
      ]
     },
     "execution_count": 17,
     "metadata": {},
     "output_type": "execute_result"
    }
   ],
   "source": [
    "#log loss\n",
    "log_loss(y_test, proba)"
   ]
  },
  {
   "cell_type": "code",
   "execution_count": 18,
   "metadata": {},
   "outputs": [
    {
     "data": {
      "text/plain": [
       "0.9707169654022509"
      ]
     },
     "execution_count": 18,
     "metadata": {},
     "output_type": "execute_result"
    }
   ],
   "source": [
    "#accuracy\n",
    "pl3.score(X_test, y_test)"
   ]
  },
  {
   "cell_type": "code",
   "execution_count": 19,
   "metadata": {},
   "outputs": [
    {
     "name": "stdout",
     "output_type": "stream",
     "text": [
      "              precision    recall  f1-score   support\n",
      "\n",
      "       False       0.71      0.02      0.04      2843\n",
      "        True       0.97      1.00      0.99     93117\n",
      "\n",
      "   micro avg       0.97      0.97      0.97     95960\n",
      "   macro avg       0.84      0.51      0.51     95960\n",
      "weighted avg       0.96      0.97      0.96     95960\n",
      "\n"
     ]
    }
   ],
   "source": [
    "#Classification Report\n",
    "rf_predict = pl3.predict(X_test)\n",
    "print(classification_report(y_test, rf_predict))"
   ]
  },
  {
   "cell_type": "code",
   "execution_count": 20,
   "metadata": {},
   "outputs": [
    {
     "data": {
      "image/png": "[encoded data removed]",
      "text/plain": [
       "<Figure size 432x288 with 1 Axes>"
      ]
     },
     "metadata": {
      "needs_background": "light"
     },
     "output_type": "display_data"
    }
   ],
   "source": [
    "fpr, tpr, thresholds = roc_curve(y_test, proba[:,1])\n",
    "#plot ROC curve\n",
    "plt.plot([0,1], [0,1], 'k--')\n",
    "plt.plot(fpr, tpr)\n",
    "plt.xlabel('False Positive Rate')\n",
    "plt.ylabel('True Positive Rate')\n",
    "plt.title('ROC Curve')\n",
    "plt.show()"
   ]
  },
  {
   "cell_type": "code",
   "execution_count": 21,
   "metadata": {},
   "outputs": [
    {
     "data": {
      "text/plain": [
       "0.8519842307774698"
      ]
     },
     "execution_count": 21,
     "metadata": {},
     "output_type": "execute_result"
    }
   ],
   "source": [
    "#area under curve\n",
    "auc(fpr, tpr)"
   ]
  },
  {
   "cell_type": "markdown",
   "metadata": {},
   "source": [
    "### Feature Importance"
   ]
  },
  {
   "cell_type": "code",
   "execution_count": null,
   "metadata": {},
   "outputs": [],
   "source": []
  },
  {
   "cell_type": "markdown",
   "metadata": {},
   "source": [
    "## Logistic Regression (Lemmatization)"
   ]
  },
  {
   "cell_type": "code",
   "execution_count": 13,
   "metadata": {},
   "outputs": [],
   "source": [
    "pl4 = Pipeline([\n",
    "             ('union', FeatureUnion(\n",
    "                  transformer_list = [\n",
    "                      ('cat_features', Pipeline([\n",
    "                          ('selector', get_cats_pl),\n",
    "                          ('one_hot_encode', OneHotEncoder(handle_unknown='ignore'))\n",
    "                      ])),\n",
    "                      ('narr_feature', Pipeline([\n",
    "                          ('selector', get_narr_pl),\n",
    "                          ('vecorizer', custom_vec)\n",
    "                      ]))\n",
    "                  ])),\n",
    "             ('clf', LogisticRegression())\n",
    "               ])"
   ]
  },
  {
   "cell_type": "code",
   "execution_count": 23,
   "metadata": {},
   "outputs": [
    {
     "data": {
      "text/plain": [
       "Pipeline(memory=None,\n",
       "     steps=[('union', FeatureUnion(n_jobs=None,\n",
       "       transformer_list=[('cat_features', Pipeline(memory=None,\n",
       "     steps=[('selector', FunctionTransformer(accept_sparse=False, check_inverse=True,\n",
       "          func=<function get_cats at 0x00000271DBB5D048>, inv_kw_args=None,\n",
       "          inverse_func=None, kw...penalty='l2', random_state=None, solver='warn',\n",
       "          tol=0.0001, verbose=0, warm_start=False))])"
      ]
     },
     "execution_count": 23,
     "metadata": {},
     "output_type": "execute_result"
    }
   ],
   "source": [
    "pl4.fit(X_train, y_train)"
   ]
  },
  {
   "cell_type": "code",
   "execution_count": 24,
   "metadata": {},
   "outputs": [],
   "source": [
    "proba = pl4.predict_proba(X_test)"
   ]
  },
  {
   "cell_type": "code",
   "execution_count": 25,
   "metadata": {},
   "outputs": [
    {
     "data": {
      "text/plain": [
       "0.1043034372541695"
      ]
     },
     "execution_count": 25,
     "metadata": {},
     "output_type": "execute_result"
    }
   ],
   "source": [
    "#log loss\n",
    "log_loss(y_test, proba)"
   ]
  },
  {
   "cell_type": "code",
   "execution_count": 26,
   "metadata": {},
   "outputs": [
    {
     "data": {
      "text/plain": [
       "0.9710921217173822"
      ]
     },
     "execution_count": 26,
     "metadata": {},
     "output_type": "execute_result"
    }
   ],
   "source": [
    "#accuracy\n",
    "pl4.score(X_test, y_test)"
   ]
  },
  {
   "cell_type": "code",
   "execution_count": 27,
   "metadata": {},
   "outputs": [
    {
     "name": "stdout",
     "output_type": "stream",
     "text": [
      "              precision    recall  f1-score   support\n",
      "\n",
      "       False       0.56      0.11      0.18      2843\n",
      "        True       0.97      1.00      0.99     93117\n",
      "\n",
      "   micro avg       0.97      0.97      0.97     95960\n",
      "   macro avg       0.77      0.55      0.58     95960\n",
      "weighted avg       0.96      0.97      0.96     95960\n",
      "\n"
     ]
    }
   ],
   "source": [
    "#Classification Report\n",
    "rf_predict = pl4.predict(X_test)\n",
    "print(classification_report(y_test, rf_predict))"
   ]
  },
  {
   "cell_type": "code",
   "execution_count": 28,
   "metadata": {},
   "outputs": [
    {
     "data": {
      "image/png": "[encoded data removed]",
      "text/plain": [
       "<Figure size 432x288 with 1 Axes>"
      ]
     },
     "metadata": {
      "needs_background": "light"
     },
     "output_type": "display_data"
    }
   ],
   "source": [
    "fpr, tpr, thresholds = roc_curve(y_test, proba[:,1])\n",
    "#plot ROC curve\n",
    "plt.plot([0,1], [0,1], 'k--')\n",
    "plt.plot(fpr, tpr)\n",
    "plt.xlabel('False Positive Rate')\n",
    "plt.ylabel('True Positive Rate')\n",
    "plt.title('ROC Curve')\n",
    "plt.show()"
   ]
  },
  {
   "cell_type": "code",
   "execution_count": 29,
   "metadata": {},
   "outputs": [
    {
     "data": {
      "text/plain": [
       "0.8784118736457299"
      ]
     },
     "execution_count": 29,
     "metadata": {},
     "output_type": "execute_result"
    }
   ],
   "source": [
    "#area under curve\n",
    "auc(fpr, tpr)"
   ]
  },
  {
   "cell_type": "markdown",
   "metadata": {},
   "source": [
    "## Hyper Tuning Logistic Regression"
   ]
  },
  {
   "cell_type": "code",
   "execution_count": 11,
   "metadata": {},
   "outputs": [],
   "source": [
    "from sklearn.model_selection import GridSearchCV\n",
    "\n",
    "param_grid_lr = {'clf__penalty': ['l1','l2'],\n",
    "                 'clf__C': np.logspace(-4, 4, 12)}\n"
   ]
  },
  {
   "cell_type": "code",
   "execution_count": 14,
   "metadata": {},
   "outputs": [],
   "source": [
    "lr_grid_search = GridSearchCV(pl4, param_grid_lr, cv=3)"
   ]
  },
  {
   "cell_type": "code",
   "execution_count": null,
   "metadata": {},
   "outputs": [],
   "source": [
    "lr_grid_search.fit(X_train, y_train)"
   ]
  },
  {
   "cell_type": "code",
   "execution_count": null,
   "metadata": {},
   "outputs": [],
   "source": []
  }
 ],
 "metadata": {
  "kernelspec": {
   "display_name": "Python 3",
   "language": "python",
   "name": "python3"
  },
  "language_info": {
   "codemirror_mode": {
    "name": "ipython",
    "version": 3
   },
   "file_extension": ".py",
   "mimetype": "text/x-python",
   "name": "python",
   "nbconvert_exporter": "python",
   "pygments_lexer": "ipython3",
   "version": "3.7.1"
  }
 },
 "nbformat": 4,
 "nbformat_minor": 2
}
