{
 "cells": [
  {
   "cell_type": "markdown",
   "metadata": {},
   "source": [
    "# Data Wrangling"
   ]
  },
  {
   "cell_type": "code",
   "execution_count": 1,
   "metadata": {},
   "outputs": [],
   "source": [
    "import numpy as np\n",
    "import pandas as pd\n",
    "import missingno as msno\n",
    "import nltk\n",
    "import warnings\n",
    "\n",
    "%matplotlib inline\n",
    "pd.set_option(\"display.max_columns\", None)\n",
    "warnings.filterwarnings('ignore')"
   ]
  },
  {
   "cell_type": "markdown",
   "metadata": {},
   "source": [
    "### Load and Preview Data"
   ]
  },
  {
   "cell_type": "markdown",
   "metadata": {},
   "source": [
    "In the Jupyter notebook on exploratory data analysis, we used the entire data downloaded from the CFPB which comprised of complaints up to 5/14/19.  That allowed for a more accurate analysis of the data.  The data was loaded from a file called 'complaint_full_data.csv', and contained 1,284,185 rows of data.\n",
    "\n",
    "Here, we are getting the data ready for machine learning.  Since we want to predict which complaints would likely be responded to in an untimtely manner, we want rows of data that give as much information about the complaint as possible.  For machine learning, we are only including rows of data that have a customer response where they detail their complaints.  This way we can apply NLP to machine learning.  The data from 'complaints.csv' has already been filtered from a SQL query to only have rows with customer complaint narrative.  The filtered data set contains 383,840 entries prior to cleaning it up."
   ]
  },
  {
   "cell_type": "code",
   "execution_count": 4,
   "metadata": {
    "collapsed": true
   },
   "outputs": [],
   "source": [
    "df = pd.read_csv('C:\\\\Users\\\\jltsa\\\\Desktop\\\\Cust_complaints\\\\Data\\\\complaints.csv')"
   ]
  },
  {
   "cell_type": "code",
   "execution_count": 5,
   "metadata": {},
   "outputs": [
    {
     "data": {
      "text/html": [
       "<div>\n",
       "<style scoped>\n",
       "    .dataframe tbody tr th:only-of-type {\n",
       "        vertical-align: middle;\n",
       "    }\n",
       "\n",
       "    .dataframe tbody tr th {\n",
       "        vertical-align: top;\n",
       "    }\n",
       "\n",
       "    .dataframe thead th {\n",
       "        text-align: right;\n",
       "    }\n",
       "</style>\n",
       "<table border=\"1\" class=\"dataframe\">\n",
       "  <thead>\n",
       "    <tr style=\"text-align: right;\">\n",
       "      <th></th>\n",
       "      <th>date_received</th>\n",
       "      <th>product</th>\n",
       "      <th>sub_product</th>\n",
       "      <th>issue</th>\n",
       "      <th>sub_issue</th>\n",
       "      <th>consumer_complaint_narrative</th>\n",
       "      <th>company_public_response</th>\n",
       "      <th>company</th>\n",
       "      <th>state</th>\n",
       "      <th>zip_code</th>\n",
       "      <th>tags</th>\n",
       "      <th>consumer_consent_provided</th>\n",
       "      <th>submitted_via</th>\n",
       "      <th>date_sent_to_company</th>\n",
       "      <th>company_response_to_consumer</th>\n",
       "      <th>timely_response</th>\n",
       "      <th>consumer_disputed</th>\n",
       "      <th>complaint_id</th>\n",
       "    </tr>\n",
       "  </thead>\n",
       "  <tbody>\n",
       "    <tr>\n",
       "      <th>0</th>\n",
       "      <td>2016-02-15</td>\n",
       "      <td>Credit card</td>\n",
       "      <td>NaN</td>\n",
       "      <td>Billing statement</td>\n",
       "      <td>NaN</td>\n",
       "      <td>Year end summary provided by citi shows balanc...</td>\n",
       "      <td>Company chooses not to provide a public response</td>\n",
       "      <td>CITIBANK, N.A.</td>\n",
       "      <td>NY</td>\n",
       "      <td>10005</td>\n",
       "      <td>NaN</td>\n",
       "      <td>Consent provided</td>\n",
       "      <td>Web</td>\n",
       "      <td>2016-02-15</td>\n",
       "      <td>Closed with explanation</td>\n",
       "      <td>True</td>\n",
       "      <td>Yes</td>\n",
       "      <td>1787258</td>\n",
       "    </tr>\n",
       "    <tr>\n",
       "      <th>1</th>\n",
       "      <td>2016-02-15</td>\n",
       "      <td>Debt collection</td>\n",
       "      <td>Other (i.e. phone, health club, etc.)</td>\n",
       "      <td>Disclosure verification of debt</td>\n",
       "      <td>Not given enough info to verify debt</td>\n",
       "      <td>I received a letter from a debt collector clai...</td>\n",
       "      <td>Company believes it acted appropriately as aut...</td>\n",
       "      <td>Amsher Collection Services, Inc.</td>\n",
       "      <td>KS</td>\n",
       "      <td>675XX</td>\n",
       "      <td>NaN</td>\n",
       "      <td>Consent provided</td>\n",
       "      <td>Web</td>\n",
       "      <td>2016-02-15</td>\n",
       "      <td>Closed with explanation</td>\n",
       "      <td>True</td>\n",
       "      <td>Yes</td>\n",
       "      <td>1788025</td>\n",
       "    </tr>\n",
       "    <tr>\n",
       "      <th>2</th>\n",
       "      <td>2016-02-15</td>\n",
       "      <td>Debt collection</td>\n",
       "      <td>Other (i.e. phone, health club, etc.)</td>\n",
       "      <td>Cont'd attempts collect debt not owed</td>\n",
       "      <td>Debt is not mine</td>\n",
       "      <td>I HAVE SUBMITTED COMPLAINTS TO XXXX OF UPSTATE...</td>\n",
       "      <td>Company believes it acted appropriately as aut...</td>\n",
       "      <td>Credit Protection Association, L.P.</td>\n",
       "      <td>NY</td>\n",
       "      <td>NaN</td>\n",
       "      <td>NaN</td>\n",
       "      <td>Consent provided</td>\n",
       "      <td>Web</td>\n",
       "      <td>2016-02-15</td>\n",
       "      <td>Closed with non-monetary relief</td>\n",
       "      <td>True</td>\n",
       "      <td>No</td>\n",
       "      <td>1787606</td>\n",
       "    </tr>\n",
       "    <tr>\n",
       "      <th>3</th>\n",
       "      <td>2016-02-15</td>\n",
       "      <td>Debt collection</td>\n",
       "      <td>Other (i.e. phone, health club, etc.)</td>\n",
       "      <td>Cont'd attempts collect debt not owed</td>\n",
       "      <td>Debt resulted from identity theft</td>\n",
       "      <td>XXXX has XXXX accounts in my name that were fr...</td>\n",
       "      <td>NaN</td>\n",
       "      <td>Convergent Resources, Inc.</td>\n",
       "      <td>DE</td>\n",
       "      <td>197XX</td>\n",
       "      <td>NaN</td>\n",
       "      <td>Consent provided</td>\n",
       "      <td>Web</td>\n",
       "      <td>2016-02-15</td>\n",
       "      <td>Closed with explanation</td>\n",
       "      <td>True</td>\n",
       "      <td>No</td>\n",
       "      <td>1787903</td>\n",
       "    </tr>\n",
       "    <tr>\n",
       "      <th>4</th>\n",
       "      <td>2016-02-15</td>\n",
       "      <td>Credit card</td>\n",
       "      <td>NaN</td>\n",
       "      <td>Late fee</td>\n",
       "      <td>NaN</td>\n",
       "      <td>When making online, through personal bank, pay...</td>\n",
       "      <td>NaN</td>\n",
       "      <td>SYNCHRONY FINANCIAL</td>\n",
       "      <td>FL</td>\n",
       "      <td>33862</td>\n",
       "      <td>Older American</td>\n",
       "      <td>Consent provided</td>\n",
       "      <td>Web</td>\n",
       "      <td>2016-02-18</td>\n",
       "      <td>Closed with monetary relief</td>\n",
       "      <td>True</td>\n",
       "      <td>No</td>\n",
       "      <td>1788019</td>\n",
       "    </tr>\n",
       "    <tr>\n",
       "      <th>5</th>\n",
       "      <td>2016-02-15</td>\n",
       "      <td>Bank account or service</td>\n",
       "      <td>Other bank product/service</td>\n",
       "      <td>Account opening, closing, or management</td>\n",
       "      <td>NaN</td>\n",
       "      <td>I am a Bank of America ( bank ) customer. I re...</td>\n",
       "      <td>Company chooses not to provide a public response</td>\n",
       "      <td>BANK OF AMERICA, NATIONAL ASSOCIATION</td>\n",
       "      <td>CA</td>\n",
       "      <td>957XX</td>\n",
       "      <td>NaN</td>\n",
       "      <td>Consent provided</td>\n",
       "      <td>Web</td>\n",
       "      <td>2016-02-15</td>\n",
       "      <td>Closed with explanation</td>\n",
       "      <td>True</td>\n",
       "      <td>Yes</td>\n",
       "      <td>1787607</td>\n",
       "    </tr>\n",
       "    <tr>\n",
       "      <th>6</th>\n",
       "      <td>2016-02-15</td>\n",
       "      <td>Debt collection</td>\n",
       "      <td>I do not know</td>\n",
       "      <td>Taking/threatening an illegal action</td>\n",
       "      <td>Sued where didn't live/sign for debt</td>\n",
       "      <td>I got a call from my HR at work to tell me my ...</td>\n",
       "      <td>NaN</td>\n",
       "      <td>ENCORE CAPITAL GROUP INC.</td>\n",
       "      <td>NJ</td>\n",
       "      <td>070XX</td>\n",
       "      <td>NaN</td>\n",
       "      <td>Consent provided</td>\n",
       "      <td>Web</td>\n",
       "      <td>2016-02-17</td>\n",
       "      <td>Closed with explanation</td>\n",
       "      <td>True</td>\n",
       "      <td>No</td>\n",
       "      <td>1787790</td>\n",
       "    </tr>\n",
       "    <tr>\n",
       "      <th>7</th>\n",
       "      <td>2016-02-15</td>\n",
       "      <td>Mortgage</td>\n",
       "      <td>Conventional fixed mortgage</td>\n",
       "      <td>Loan servicing, payments, escrow account</td>\n",
       "      <td>NaN</td>\n",
       "      <td>Mortgage was approved for 2MP program in conju...</td>\n",
       "      <td>Company disputes the facts presented in the co...</td>\n",
       "      <td>West Coast Servicing, Inc.</td>\n",
       "      <td>MI</td>\n",
       "      <td>481XX</td>\n",
       "      <td>NaN</td>\n",
       "      <td>Consent provided</td>\n",
       "      <td>Web</td>\n",
       "      <td>2016-03-23</td>\n",
       "      <td>Closed with explanation</td>\n",
       "      <td>True</td>\n",
       "      <td>No</td>\n",
       "      <td>1787834</td>\n",
       "    </tr>\n",
       "    <tr>\n",
       "      <th>8</th>\n",
       "      <td>2016-02-15</td>\n",
       "      <td>Credit reporting</td>\n",
       "      <td>NaN</td>\n",
       "      <td>Incorrect information on credit report</td>\n",
       "      <td>Account terms</td>\n",
       "      <td>To whom it may concern : I had a XXXX XXXX aut...</td>\n",
       "      <td>Company chooses not to provide a public response</td>\n",
       "      <td>TRANSUNION INTERMEDIATE HOLDINGS, INC.</td>\n",
       "      <td>TX</td>\n",
       "      <td>750XX</td>\n",
       "      <td>NaN</td>\n",
       "      <td>Consent provided</td>\n",
       "      <td>Web</td>\n",
       "      <td>2016-02-15</td>\n",
       "      <td>Closed with non-monetary relief</td>\n",
       "      <td>True</td>\n",
       "      <td>No</td>\n",
       "      <td>1787738</td>\n",
       "    </tr>\n",
       "    <tr>\n",
       "      <th>9</th>\n",
       "      <td>2016-02-15</td>\n",
       "      <td>Mortgage</td>\n",
       "      <td>Conventional fixed mortgage</td>\n",
       "      <td>Loan servicing, payments, escrow account</td>\n",
       "      <td>NaN</td>\n",
       "      <td>on XX/XX/XXXX we paid our regular mtg when we ...</td>\n",
       "      <td>Company chooses not to provide a public response</td>\n",
       "      <td>U.S. BANCORP</td>\n",
       "      <td>OH</td>\n",
       "      <td>456XX</td>\n",
       "      <td>NaN</td>\n",
       "      <td>Consent provided</td>\n",
       "      <td>Web</td>\n",
       "      <td>2016-02-15</td>\n",
       "      <td>Closed with explanation</td>\n",
       "      <td>True</td>\n",
       "      <td>No</td>\n",
       "      <td>1787498</td>\n",
       "    </tr>\n",
       "  </tbody>\n",
       "</table>\n",
       "</div>"
      ],
      "text/plain": [
       "  date_received                  product  \\\n",
       "0    2016-02-15              Credit card   \n",
       "1    2016-02-15          Debt collection   \n",
       "2    2016-02-15          Debt collection   \n",
       "3    2016-02-15          Debt collection   \n",
       "4    2016-02-15              Credit card   \n",
       "5    2016-02-15  Bank account or service   \n",
       "6    2016-02-15          Debt collection   \n",
       "7    2016-02-15                 Mortgage   \n",
       "8    2016-02-15         Credit reporting   \n",
       "9    2016-02-15                 Mortgage   \n",
       "\n",
       "                             sub_product  \\\n",
       "0                                    NaN   \n",
       "1  Other (i.e. phone, health club, etc.)   \n",
       "2  Other (i.e. phone, health club, etc.)   \n",
       "3  Other (i.e. phone, health club, etc.)   \n",
       "4                                    NaN   \n",
       "5             Other bank product/service   \n",
       "6                          I do not know   \n",
       "7            Conventional fixed mortgage   \n",
       "8                                    NaN   \n",
       "9            Conventional fixed mortgage   \n",
       "\n",
       "                                      issue  \\\n",
       "0                         Billing statement   \n",
       "1           Disclosure verification of debt   \n",
       "2     Cont'd attempts collect debt not owed   \n",
       "3     Cont'd attempts collect debt not owed   \n",
       "4                                  Late fee   \n",
       "5   Account opening, closing, or management   \n",
       "6      Taking/threatening an illegal action   \n",
       "7  Loan servicing, payments, escrow account   \n",
       "8    Incorrect information on credit report   \n",
       "9  Loan servicing, payments, escrow account   \n",
       "\n",
       "                              sub_issue  \\\n",
       "0                                   NaN   \n",
       "1  Not given enough info to verify debt   \n",
       "2                      Debt is not mine   \n",
       "3     Debt resulted from identity theft   \n",
       "4                                   NaN   \n",
       "5                                   NaN   \n",
       "6  Sued where didn't live/sign for debt   \n",
       "7                                   NaN   \n",
       "8                         Account terms   \n",
       "9                                   NaN   \n",
       "\n",
       "                        consumer_complaint_narrative  \\\n",
       "0  Year end summary provided by citi shows balanc...   \n",
       "1  I received a letter from a debt collector clai...   \n",
       "2  I HAVE SUBMITTED COMPLAINTS TO XXXX OF UPSTATE...   \n",
       "3  XXXX has XXXX accounts in my name that were fr...   \n",
       "4  When making online, through personal bank, pay...   \n",
       "5  I am a Bank of America ( bank ) customer. I re...   \n",
       "6  I got a call from my HR at work to tell me my ...   \n",
       "7  Mortgage was approved for 2MP program in conju...   \n",
       "8  To whom it may concern : I had a XXXX XXXX aut...   \n",
       "9  on XX/XX/XXXX we paid our regular mtg when we ...   \n",
       "\n",
       "                             company_public_response  \\\n",
       "0   Company chooses not to provide a public response   \n",
       "1  Company believes it acted appropriately as aut...   \n",
       "2  Company believes it acted appropriately as aut...   \n",
       "3                                                NaN   \n",
       "4                                                NaN   \n",
       "5   Company chooses not to provide a public response   \n",
       "6                                                NaN   \n",
       "7  Company disputes the facts presented in the co...   \n",
       "8   Company chooses not to provide a public response   \n",
       "9   Company chooses not to provide a public response   \n",
       "\n",
       "                                  company state zip_code            tags  \\\n",
       "0                          CITIBANK, N.A.    NY    10005             NaN   \n",
       "1        Amsher Collection Services, Inc.    KS    675XX             NaN   \n",
       "2     Credit Protection Association, L.P.    NY      NaN             NaN   \n",
       "3              Convergent Resources, Inc.    DE    197XX             NaN   \n",
       "4                     SYNCHRONY FINANCIAL    FL    33862  Older American   \n",
       "5   BANK OF AMERICA, NATIONAL ASSOCIATION    CA    957XX             NaN   \n",
       "6               ENCORE CAPITAL GROUP INC.    NJ    070XX             NaN   \n",
       "7              West Coast Servicing, Inc.    MI    481XX             NaN   \n",
       "8  TRANSUNION INTERMEDIATE HOLDINGS, INC.    TX    750XX             NaN   \n",
       "9                            U.S. BANCORP    OH    456XX             NaN   \n",
       "\n",
       "  consumer_consent_provided submitted_via date_sent_to_company  \\\n",
       "0          Consent provided           Web           2016-02-15   \n",
       "1          Consent provided           Web           2016-02-15   \n",
       "2          Consent provided           Web           2016-02-15   \n",
       "3          Consent provided           Web           2016-02-15   \n",
       "4          Consent provided           Web           2016-02-18   \n",
       "5          Consent provided           Web           2016-02-15   \n",
       "6          Consent provided           Web           2016-02-17   \n",
       "7          Consent provided           Web           2016-03-23   \n",
       "8          Consent provided           Web           2016-02-15   \n",
       "9          Consent provided           Web           2016-02-15   \n",
       "\n",
       "      company_response_to_consumer  timely_response consumer_disputed  \\\n",
       "0          Closed with explanation             True               Yes   \n",
       "1          Closed with explanation             True               Yes   \n",
       "2  Closed with non-monetary relief             True                No   \n",
       "3          Closed with explanation             True                No   \n",
       "4      Closed with monetary relief             True                No   \n",
       "5          Closed with explanation             True               Yes   \n",
       "6          Closed with explanation             True                No   \n",
       "7          Closed with explanation             True                No   \n",
       "8  Closed with non-monetary relief             True                No   \n",
       "9          Closed with explanation             True                No   \n",
       "\n",
       "   complaint_id  \n",
       "0       1787258  \n",
       "1       1788025  \n",
       "2       1787606  \n",
       "3       1787903  \n",
       "4       1788019  \n",
       "5       1787607  \n",
       "6       1787790  \n",
       "7       1787834  \n",
       "8       1787738  \n",
       "9       1787498  "
      ]
     },
     "execution_count": 5,
     "metadata": {},
     "output_type": "execute_result"
    }
   ],
   "source": [
    "df.head(10)"
   ]
  },
  {
   "cell_type": "code",
   "execution_count": 6,
   "metadata": {
    "scrolled": false
   },
   "outputs": [
    {
     "name": "stdout",
     "output_type": "stream",
     "text": [
      "<class 'pandas.core.frame.DataFrame'>\n",
      "RangeIndex: 383840 entries, 0 to 383839\n",
      "Data columns (total 18 columns):\n",
      "date_received                   383840 non-null object\n",
      "product                         383840 non-null object\n",
      "sub_product                     331667 non-null object\n",
      "issue                           383840 non-null object\n",
      "sub_issue                       270131 non-null object\n",
      "consumer_complaint_narrative    383840 non-null object\n",
      "company_public_response         182806 non-null object\n",
      "company                         383840 non-null object\n",
      "state                           382454 non-null object\n",
      "zip_code                        295000 non-null object\n",
      "tags                            66299 non-null object\n",
      "consumer_consent_provided       383840 non-null object\n",
      "submitted_via                   383840 non-null object\n",
      "date_sent_to_company            383840 non-null object\n",
      "company_response_to_consumer    383836 non-null object\n",
      "timely_response                 383840 non-null bool\n",
      "consumer_disputed               164076 non-null object\n",
      "complaint_id                    383840 non-null int64\n",
      "dtypes: bool(1), int64(1), object(16)\n",
      "memory usage: 50.2+ MB\n"
     ]
    }
   ],
   "source": [
    "df.info()"
   ]
  },
  {
   "cell_type": "markdown",
   "metadata": {},
   "source": [
    "## Missing / NaN values in the Data"
   ]
  },
  {
   "cell_type": "code",
   "execution_count": 7,
   "metadata": {},
   "outputs": [
    {
     "data": {
      "text/plain": [
       "date_received                        0\n",
       "product                              0\n",
       "sub_product                      52173\n",
       "issue                                0\n",
       "sub_issue                       113709\n",
       "consumer_complaint_narrative         0\n",
       "company_public_response         201034\n",
       "company                              0\n",
       "state                             1386\n",
       "zip_code                         88840\n",
       "tags                            317541\n",
       "consumer_consent_provided            0\n",
       "submitted_via                        0\n",
       "date_sent_to_company                 0\n",
       "company_response_to_consumer         4\n",
       "timely_response                      0\n",
       "consumer_disputed               219764\n",
       "complaint_id                         0\n",
       "dtype: int64"
      ]
     },
     "execution_count": 7,
     "metadata": {},
     "output_type": "execute_result"
    }
   ],
   "source": [
    "df.isnull().sum()"
   ]
  },
  {
   "cell_type": "code",
   "execution_count": 14,
   "metadata": {
    "scrolled": false
   },
   "outputs": [
    {
     "data": {
      "text/plain": [
       "<matplotlib.axes._subplots.AxesSubplot at 0x1c2d97184e0>"
      ]
     },
     "execution_count": 14,
     "metadata": {},
     "output_type": "execute_result"
    },
    {
     "data": {
      "image/png": "[encoded data removed]",
      "text/plain": [
       "<Figure size 1800x720 with 2 Axes>"
      ]
     },
     "metadata": {},
     "output_type": "display_data"
    }
   ],
   "source": [
    "msno.matrix(df)"
   ]
  },
  {
   "cell_type": "markdown",
   "metadata": {},
   "source": [
    "White areas represent where there are NaN or missing values from the dataset."
   ]
  },
  {
   "cell_type": "code",
   "execution_count": 12,
   "metadata": {},
   "outputs": [
    {
     "data": {
      "text/plain": [
       "<matplotlib.axes._subplots.AxesSubplot at 0x1c2820bfb00>"
      ]
     },
     "execution_count": 12,
     "metadata": {},
     "output_type": "execute_result"
    },
    {
     "data": {
      "image/png": "[encoded data removed]",
      "text/plain": [
       "<Figure size 1440x864 with 1 Axes>"
      ]
     },
     "metadata": {},
     "output_type": "display_data"
    }
   ],
   "source": [
    "msno.heatmap(df)"
   ]
  },
  {
   "cell_type": "markdown",
   "metadata": {},
   "source": [
    "The correlation heatmap above measures nullity correlation or how strongly the presence or absence of a feature affects the presence of another.\n",
    "\n",
    "If there are no values in the cells, it means there is no meaningful correlation.\n",
    "\n",
    "The biggest correlation to notice, is that when sub_product and sub_issue are present independentaly of each other, then consumer_disputed feature is likely to not be present."
   ]
  },
  {
   "cell_type": "markdown",
   "metadata": {},
   "source": [
    "### What to do with missing values?\n",
    "\n",
    "For the columns comsumer_diputed, tags, zip_code, state, and company_response, since there are so many missing values, it may be best to remove these columns completely rather than filling them with some default values.  We can experiment with running training models to see what the results are like and decide if including these columns back in later would yield better results.\n",
    "\n",
    "Sub issue and Sub products are important features and should be kept.  It makes sense to not remove or fill in these values, but rather put a default value.\n",
    "\n",
    "Keeping this in mind, it makes more sense to have different feature set to test which produces the best results."
   ]
  },
  {
   "cell_type": "markdown",
   "metadata": {},
   "source": [
    "## Preprocessing Customer Complaint Narrative"
   ]
  },
  {
   "cell_type": "markdown",
   "metadata": {},
   "source": [
    "This column contains the customer description about the complaint they filed.  This is an important feature and will have to be cleaned up.  Upon inspecting the .csv file, the customer's sensitive information like phone numbers and date of birth have been replaced by 'X's.  Amounts of money are surrounded by { } with  a $ sign in front of the dollar value."
   ]
  },
  {
   "cell_type": "code",
   "execution_count": 18,
   "metadata": {},
   "outputs": [
    {
     "name": "stdout",
     "output_type": "stream",
     "text": [
      "showing info https://raw.githubusercontent.com/nltk/nltk_data/gh-pages/index.xml\n"
     ]
    },
    {
     "data": {
      "text/plain": [
       "True"
      ]
     },
     "execution_count": 18,
     "metadata": {},
     "output_type": "execute_result"
    }
   ],
   "source": [
    "#Can open the NLTK Downloader App which has some useful downloads for NLP tasks\n",
    "#nltk.download()"
   ]
  },
  {
   "cell_type": "code",
   "execution_count": 24,
   "metadata": {},
   "outputs": [
    {
     "data": {
      "text/plain": [
       "0    Year end summary provided by citi shows balanc...\n",
       "1    I received a letter from a debt collector clai...\n",
       "2    I HAVE SUBMITTED COMPLAINTS TO XXXX OF UPSTATE...\n",
       "3    XXXX has XXXX accounts in my name that were fr...\n",
       "4    When making online, through personal bank, pay...\n",
       "5    I am a Bank of America ( bank ) customer. I re...\n",
       "6    I got a call from my HR at work to tell me my ...\n",
       "7    Mortgage was approved for 2MP program in conju...\n",
       "8    To whom it may concern : I had a XXXX XXXX aut...\n",
       "9    on XX/XX/XXXX we paid our regular mtg when we ...\n",
       "Name: consumer_complaint_narrative, dtype: object"
      ]
     },
     "execution_count": 24,
     "metadata": {},
     "output_type": "execute_result"
    }
   ],
   "source": [
    "df['consumer_complaint_narrative'].head(10)"
   ]
  },
  {
   "cell_type": "markdown",
   "metadata": {},
   "source": [
    "### Remove Punctuation"
   ]
  },
  {
   "cell_type": "code",
   "execution_count": 19,
   "metadata": {},
   "outputs": [
    {
     "data": {
      "text/plain": [
       "'!\"#$%&\\'()*+,-./:;<=>?@[\\\\]^_`{|}~'"
      ]
     },
     "execution_count": 19,
     "metadata": {},
     "output_type": "execute_result"
    }
   ],
   "source": [
    "import string\n",
    "string.punctuation"
   ]
  },
  {
   "cell_type": "code",
   "execution_count": 25,
   "metadata": {
    "collapsed": true
   },
   "outputs": [],
   "source": [
    "#Define function to remove punctuation\n",
    "def rm_punct(text):\n",
    "    text_nopunct = \"\".join([char for char in text if char not in string.punctuation])\n",
    "    return text_nopunct"
   ]
  },
  {
   "cell_type": "code",
   "execution_count": 27,
   "metadata": {
    "collapsed": true
   },
   "outputs": [],
   "source": [
    "df['consumer_complaint_narrative'] = df['consumer_complaint_narrative'].apply(lambda x: rm_punct(x))"
   ]
  },
  {
   "cell_type": "code",
   "execution_count": 29,
   "metadata": {},
   "outputs": [
    {
     "data": {
      "text/plain": [
       "0    Year end summary provided by citi shows balanc...\n",
       "1    I received a letter from a debt collector clai...\n",
       "2    I HAVE SUBMITTED COMPLAINTS TO XXXX OF UPSTATE...\n",
       "3    XXXX has XXXX accounts in my name that were fr...\n",
       "4    When making online through personal bank payme...\n",
       "5    I am a Bank of America  bank  customer I recei...\n",
       "6    I got a call from my HR at work to tell me my ...\n",
       "7    Mortgage was approved for 2MP program in conju...\n",
       "8    To whom it may concern  I had a XXXX XXXX auto...\n",
       "9    on XXXXXXXX we paid our regular mtg when we di...\n",
       "Name: consumer_complaint_narrative, dtype: object"
      ]
     },
     "execution_count": 29,
     "metadata": {},
     "output_type": "execute_result"
    }
   ],
   "source": [
    "df['consumer_complaint_narrative'].head(10)"
   ]
  },
  {
   "cell_type": "markdown",
   "metadata": {},
   "source": [
    "### Remove 'X's"
   ]
  },
  {
   "cell_type": "code",
   "execution_count": 30,
   "metadata": {
    "collapsed": true
   },
   "outputs": [],
   "source": [
    "import re"
   ]
  },
  {
   "cell_type": "code",
   "execution_count": 195,
   "metadata": {
    "collapsed": true
   },
   "outputs": [],
   "source": [
    "def rm_x(row):\n",
    "    return re.sub('X*', '', row['consumer_complaint_narrative'])"
   ]
  },
  {
   "cell_type": "code",
   "execution_count": 57,
   "metadata": {
    "collapsed": true
   },
   "outputs": [],
   "source": [
    "df['consumer_complaint_narrative'] = df.apply(rm_x, axis=1)"
   ]
  },
  {
   "cell_type": "code",
   "execution_count": 59,
   "metadata": {
    "scrolled": true
   },
   "outputs": [
    {
     "data": {
      "text/plain": [
       "0    Year end summary provided by citi shows balanc...\n",
       "1    I received a letter from a debt collector clai...\n",
       "2    I HAVE SUBMITTED COMPLAINTS TO  OF UPSTATE NY ...\n",
       "3     has  accounts in my name that were fraudulent...\n",
       "4    When making online through personal bank payme...\n",
       "5    I am a Bank of America  bank  customer I recei...\n",
       "6    I got a call from my HR at work to tell me my ...\n",
       "7    Mortgage was approved for 2MP program in conju...\n",
       "8    To whom it may concern  I had a   auto loan th...\n",
       "9    on  we paid our regular mtg when we did eviden...\n",
       "Name: consumer_complaint_narrative, dtype: object"
      ]
     },
     "execution_count": 59,
     "metadata": {},
     "output_type": "execute_result"
    }
   ],
   "source": [
    "df['consumer_complaint_narrative'].head(10)"
   ]
  },
  {
   "cell_type": "markdown",
   "metadata": {},
   "source": [
    "### Remove Extra White Spaces"
   ]
  },
  {
   "cell_type": "code",
   "execution_count": 204,
   "metadata": {
    "collapsed": true
   },
   "outputs": [],
   "source": [
    "def rm_white(row):\n",
    "    return re.sub(' +', ' ', row['consumer_complaint_narrative']).strip()"
   ]
  },
  {
   "cell_type": "code",
   "execution_count": 205,
   "metadata": {
    "collapsed": true
   },
   "outputs": [],
   "source": [
    "df['consumer_complaint_narrative'] = df.apply(rm_white, axis=1)"
   ]
  },
  {
   "cell_type": "code",
   "execution_count": 206,
   "metadata": {},
   "outputs": [
    {
     "data": {
      "text/plain": [
       "0    Year end summary provided by citi shows balanc...\n",
       "1    I received a letter from a debt collector clai...\n",
       "2    I HAVE SUBMITTED COMPLAINTS TO OF UPSTATE NY C...\n",
       "3    has accounts in my name that were fraudulently...\n",
       "4    When making online through personal bank payme...\n",
       "Name: consumer_complaint_narrative, dtype: object"
      ]
     },
     "execution_count": 206,
     "metadata": {},
     "output_type": "execute_result"
    }
   ],
   "source": [
    "df['consumer_complaint_narrative'].head()"
   ]
  },
  {
   "cell_type": "markdown",
   "metadata": {},
   "source": [
    "### Take care of Word Lengthening"
   ]
  },
  {
   "cell_type": "markdown",
   "metadata": {},
   "source": [
    "For instance \"Hellllo\" shoudld be \"Hello\""
   ]
  },
  {
   "cell_type": "code",
   "execution_count": 209,
   "metadata": {
    "collapsed": true
   },
   "outputs": [],
   "source": [
    "def correct_words(row):\n",
    "    pattern = re.compile(r\"(.)\\1{2,}\")\n",
    "    return pattern.sub(r\"\\1\\1\", row['consumer_complaint_narrative'])"
   ]
  },
  {
   "cell_type": "code",
   "execution_count": 210,
   "metadata": {
    "collapsed": true
   },
   "outputs": [],
   "source": [
    "df['consumer_complaint_narrative'] = df.apply(correct_words, axis=1)"
   ]
  },
  {
   "cell_type": "code",
   "execution_count": 211,
   "metadata": {},
   "outputs": [
    {
     "data": {
      "text/plain": [
       "0    Year end summary provided by citi shows balanc...\n",
       "1    I received a letter from a debt collector clai...\n",
       "2    I HAVE SUBMITTED COMPLAINTS TO OF UPSTATE NY C...\n",
       "3    has accounts in my name that were fraudulently...\n",
       "4    When making online through personal bank payme...\n",
       "Name: consumer_complaint_narrative, dtype: object"
      ]
     },
     "execution_count": 211,
     "metadata": {},
     "output_type": "execute_result"
    }
   ],
   "source": [
    "df['consumer_complaint_narrative'].head()"
   ]
  },
  {
   "cell_type": "code",
   "execution_count": 212,
   "metadata": {
    "collapsed": true
   },
   "outputs": [],
   "source": [
    "#save the cleaned up text version of DataFrame\n",
    "#df.to_csv('complaints_clean_text.csv', index=False)"
   ]
  },
  {
   "cell_type": "markdown",
   "metadata": {},
   "source": [
    "For the remaining pre-processing, it may be easier to use scikitlearn.  However, see below for examples of the other preprocessing steps."
   ]
  },
  {
   "cell_type": "markdown",
   "metadata": {},
   "source": [
    "### Tokenize Text"
   ]
  },
  {
   "cell_type": "code",
   "execution_count": 88,
   "metadata": {
    "collapsed": true
   },
   "outputs": [],
   "source": [
    "def tokenize(text):\n",
    "    tokens = re.split('\\W+', text)\n",
    "    return tokens"
   ]
  },
  {
   "cell_type": "code",
   "execution_count": 89,
   "metadata": {
    "collapsed": true
   },
   "outputs": [],
   "source": [
    "#make words lowercase as well\n",
    "df['consumer_complaint_narrative'] = df['consumer_complaint_narrative'].apply(lambda x: tokenize(x.lower()))"
   ]
  },
  {
   "cell_type": "code",
   "execution_count": 91,
   "metadata": {
    "scrolled": true
   },
   "outputs": [
    {
     "data": {
      "text/plain": [
       "0    [year, end, summary, provided, by, citi, shows...\n",
       "1    [i, received, a, letter, from, a, debt, collec...\n",
       "2    [i, have, submitted, complaints, to, of, upsta...\n",
       "3    [, has, accounts, in, my, name, that, were, fr...\n",
       "4    [when, making, online, through, personal, bank...\n",
       "Name: consumer_complaint_narrative, dtype: object"
      ]
     },
     "execution_count": 91,
     "metadata": {},
     "output_type": "execute_result"
    }
   ],
   "source": [
    "df['consumer_complaint_narrative'].head()"
   ]
  },
  {
   "cell_type": "code",
   "execution_count": 100,
   "metadata": {
    "collapsed": true
   },
   "outputs": [],
   "source": [
    "#remove any white spaces from teh tokenized text\n",
    "def remove_blanks(row):\n",
    "    return list(filter(lambda x: x !='', row['consumer_complaint_narrative']))"
   ]
  },
  {
   "cell_type": "code",
   "execution_count": 102,
   "metadata": {
    "collapsed": true
   },
   "outputs": [],
   "source": [
    "df['consumer_complaint_narrative'] = df.apply(remove_blanks, axis=1)"
   ]
  },
  {
   "cell_type": "code",
   "execution_count": 103,
   "metadata": {},
   "outputs": [
    {
     "data": {
      "text/plain": [
       "0    [year, end, summary, provided, by, citi, shows...\n",
       "1    [i, received, a, letter, from, a, debt, collec...\n",
       "2    [i, have, submitted, complaints, to, of, upsta...\n",
       "3    [has, accounts, in, my, name, that, were, frau...\n",
       "4    [when, making, online, through, personal, bank...\n",
       "5    [i, am, a, bank, of, america, bank, customer, ...\n",
       "6    [i, got, a, call, from, my, hr, at, work, to, ...\n",
       "7    [mortgage, was, approved, for, 2mp, program, i...\n",
       "8    [to, whom, it, may, concern, i, had, a, auto, ...\n",
       "9    [on, we, paid, our, regular, mtg, when, we, di...\n",
       "Name: consumer_complaint_narrative, dtype: object"
      ]
     },
     "execution_count": 103,
     "metadata": {},
     "output_type": "execute_result"
    }
   ],
   "source": [
    "df['consumer_complaint_narrative'].head(10)"
   ]
  },
  {
   "cell_type": "markdown",
   "metadata": {},
   "source": [
    "### Remove stop words\n",
    "Words common words that do not give much meaning to a sentence like 'is' or 'of'"
   ]
  },
  {
   "cell_type": "code",
   "execution_count": 107,
   "metadata": {
    "collapsed": true
   },
   "outputs": [],
   "source": [
    "stopword = nltk.corpus.stopwords.words('english')"
   ]
  },
  {
   "cell_type": "code",
   "execution_count": 109,
   "metadata": {
    "collapsed": true
   },
   "outputs": [],
   "source": [
    "def rm_stopwords(tokenized_list):\n",
    "    text = [word for word in tokenized_list if word not in stopword]\n",
    "    return text"
   ]
  },
  {
   "cell_type": "code",
   "execution_count": 110,
   "metadata": {
    "collapsed": true
   },
   "outputs": [],
   "source": [
    "df['consumer_complaint_narrative'] = df['consumer_complaint_narrative'].apply(lambda x: rm_stopwords(x))"
   ]
  },
  {
   "cell_type": "code",
   "execution_count": 111,
   "metadata": {
    "collapsed": true
   },
   "outputs": [],
   "source": [
    "#df.to_csv('complaints_tokenized_text2.csv', index=False)"
   ]
  },
  {
   "cell_type": "code",
   "execution_count": 114,
   "metadata": {},
   "outputs": [
    {
     "data": {
      "text/plain": [
       "0    [year, end, summary, provided, citi, shows, ba...\n",
       "1    [received, letter, debt, collector, claiming, ...\n",
       "2    [submitted, complaints, upstate, ny, concernin...\n",
       "3    [accounts, name, fraudulently, created, workin...\n",
       "4    [making, online, personal, bank, payments, mot...\n",
       "Name: consumer_complaint_narrative, dtype: object"
      ]
     },
     "execution_count": 114,
     "metadata": {},
     "output_type": "execute_result"
    }
   ],
   "source": [
    "df['consumer_complaint_narrative'].head()"
   ]
  },
  {
   "cell_type": "markdown",
   "metadata": {},
   "source": [
    "### Stemming Versus Lemmatizing the Words\n",
    "Stemming - Removing suffixes like '-ing' and '-ly'\n",
    "\n",
    "Lemmatizing - 'Running, Runs, Ran' becomes 'Run'\n",
    "\n",
    "Create two separate data sets from the tokenized words with stop words removed. They may have different results"
   ]
  },
  {
   "cell_type": "code",
   "execution_count": 116,
   "metadata": {
    "collapsed": true
   },
   "outputs": [],
   "source": [
    "ps = nltk.PorterStemmer()"
   ]
  },
  {
   "cell_type": "code",
   "execution_count": 117,
   "metadata": {
    "collapsed": true
   },
   "outputs": [],
   "source": [
    "def stem(tokenized_list):\n",
    "    text = [ps.stem(word) for word in tokenized_list]\n",
    "    return text"
   ]
  },
  {
   "cell_type": "code",
   "execution_count": 118,
   "metadata": {
    "collapsed": true
   },
   "outputs": [],
   "source": [
    "df['consumer_complaint_narrative'] = df['consumer_complaint_narrative'].apply(lambda x: stem(x))"
   ]
  },
  {
   "cell_type": "code",
   "execution_count": 119,
   "metadata": {
    "collapsed": true
   },
   "outputs": [],
   "source": [
    "#df.to_csv('tokenized_text_stemmed.csv', index=False)"
   ]
  },
  {
   "cell_type": "code",
   "execution_count": 121,
   "metadata": {},
   "outputs": [
    {
     "data": {
      "text/plain": [
       "0    [year, end, summari, provid, citi, show, balan...\n",
       "1    [receiv, letter, debt, collector, claim, owe, ...\n",
       "2    [submit, complaint, upstat, ny, concern, bad, ...\n",
       "3    [account, name, fraudul, creat, work, fraud, d...\n",
       "4    [make, onlin, person, bank, payment, mother, w...\n",
       "Name: consumer_complaint_narrative, dtype: object"
      ]
     },
     "execution_count": 121,
     "metadata": {},
     "output_type": "execute_result"
    }
   ],
   "source": [
    "df['consumer_complaint_narrative'].head()"
   ]
  },
  {
   "cell_type": "code",
   "execution_count": 120,
   "metadata": {
    "collapsed": true
   },
   "outputs": [],
   "source": [
    "wn = nltk.WordNetLemmatizer()"
   ]
  },
  {
   "cell_type": "code",
   "execution_count": 213,
   "metadata": {
    "collapsed": true
   },
   "outputs": [],
   "source": [
    "def lemma(tokenized_list):\n",
    "    #pos = 'v' lemmatizes verbs\n",
    "    #pos = 'n' lemmatizes nouns\n",
    "    text = [wn.lemmatize(word,pos='v') for word in tokenized_list]\n",
    "    return text"
   ]
  },
  {
   "cell_type": "markdown",
   "metadata": {},
   "source": [
    "## Choosing Different Features"
   ]
  },
  {
   "cell_type": "code",
   "execution_count": null,
   "metadata": {
    "collapsed": true
   },
   "outputs": [],
   "source": [
    "df = pd.read_csv('C:\\\\Users\\\\jltsa\\\\Desktop\\\\Springboard\\\\Cust_complaints\\\\Data\\\\complaints_clean_text.csv')"
   ]
  },
  {
   "cell_type": "code",
   "execution_count": 216,
   "metadata": {},
   "outputs": [
    {
     "data": {
      "text/html": [
       "<div>\n",
       "<style scoped>\n",
       "    .dataframe tbody tr th:only-of-type {\n",
       "        vertical-align: middle;\n",
       "    }\n",
       "\n",
       "    .dataframe tbody tr th {\n",
       "        vertical-align: top;\n",
       "    }\n",
       "\n",
       "    .dataframe thead th {\n",
       "        text-align: right;\n",
       "    }\n",
       "</style>\n",
       "<table border=\"1\" class=\"dataframe\">\n",
       "  <thead>\n",
       "    <tr style=\"text-align: right;\">\n",
       "      <th></th>\n",
       "      <th>date_received</th>\n",
       "      <th>product</th>\n",
       "      <th>sub_product</th>\n",
       "      <th>issue</th>\n",
       "      <th>sub_issue</th>\n",
       "      <th>consumer_complaint_narrative</th>\n",
       "      <th>company_public_response</th>\n",
       "      <th>company</th>\n",
       "      <th>state</th>\n",
       "      <th>zip_code</th>\n",
       "      <th>tags</th>\n",
       "      <th>consumer_consent_provided</th>\n",
       "      <th>submitted_via</th>\n",
       "      <th>date_sent_to_company</th>\n",
       "      <th>company_response_to_consumer</th>\n",
       "      <th>timely_response</th>\n",
       "      <th>consumer_disputed</th>\n",
       "      <th>complaint_id</th>\n",
       "    </tr>\n",
       "  </thead>\n",
       "  <tbody>\n",
       "    <tr>\n",
       "      <th>0</th>\n",
       "      <td>2016-02-15</td>\n",
       "      <td>Credit card</td>\n",
       "      <td>NaN</td>\n",
       "      <td>Billing statement</td>\n",
       "      <td>NaN</td>\n",
       "      <td>Year end summary provided by citi shows balanc...</td>\n",
       "      <td>Company chooses not to provide a public response</td>\n",
       "      <td>CITIBANK, N.A.</td>\n",
       "      <td>NY</td>\n",
       "      <td>10005</td>\n",
       "      <td>NaN</td>\n",
       "      <td>Consent provided</td>\n",
       "      <td>Web</td>\n",
       "      <td>2016-02-15</td>\n",
       "      <td>Closed with explanation</td>\n",
       "      <td>True</td>\n",
       "      <td>Yes</td>\n",
       "      <td>1787258</td>\n",
       "    </tr>\n",
       "    <tr>\n",
       "      <th>1</th>\n",
       "      <td>2016-02-15</td>\n",
       "      <td>Debt collection</td>\n",
       "      <td>Other (i.e. phone, health club, etc.)</td>\n",
       "      <td>Disclosure verification of debt</td>\n",
       "      <td>Not given enough info to verify debt</td>\n",
       "      <td>I received a letter from a debt collector clai...</td>\n",
       "      <td>Company believes it acted appropriately as aut...</td>\n",
       "      <td>Amsher Collection Services, Inc.</td>\n",
       "      <td>KS</td>\n",
       "      <td>675XX</td>\n",
       "      <td>NaN</td>\n",
       "      <td>Consent provided</td>\n",
       "      <td>Web</td>\n",
       "      <td>2016-02-15</td>\n",
       "      <td>Closed with explanation</td>\n",
       "      <td>True</td>\n",
       "      <td>Yes</td>\n",
       "      <td>1788025</td>\n",
       "    </tr>\n",
       "    <tr>\n",
       "      <th>2</th>\n",
       "      <td>2016-02-15</td>\n",
       "      <td>Debt collection</td>\n",
       "      <td>Other (i.e. phone, health club, etc.)</td>\n",
       "      <td>Cont'd attempts collect debt not owed</td>\n",
       "      <td>Debt is not mine</td>\n",
       "      <td>I HAVE SUBMITTED COMPLAINTS TO OF UPSTATE NY C...</td>\n",
       "      <td>Company believes it acted appropriately as aut...</td>\n",
       "      <td>Credit Protection Association, L.P.</td>\n",
       "      <td>NY</td>\n",
       "      <td>NaN</td>\n",
       "      <td>NaN</td>\n",
       "      <td>Consent provided</td>\n",
       "      <td>Web</td>\n",
       "      <td>2016-02-15</td>\n",
       "      <td>Closed with non-monetary relief</td>\n",
       "      <td>True</td>\n",
       "      <td>No</td>\n",
       "      <td>1787606</td>\n",
       "    </tr>\n",
       "    <tr>\n",
       "      <th>3</th>\n",
       "      <td>2016-02-15</td>\n",
       "      <td>Debt collection</td>\n",
       "      <td>Other (i.e. phone, health club, etc.)</td>\n",
       "      <td>Cont'd attempts collect debt not owed</td>\n",
       "      <td>Debt resulted from identity theft</td>\n",
       "      <td>has accounts in my name that were fraudulently...</td>\n",
       "      <td>NaN</td>\n",
       "      <td>Convergent Resources, Inc.</td>\n",
       "      <td>DE</td>\n",
       "      <td>197XX</td>\n",
       "      <td>NaN</td>\n",
       "      <td>Consent provided</td>\n",
       "      <td>Web</td>\n",
       "      <td>2016-02-15</td>\n",
       "      <td>Closed with explanation</td>\n",
       "      <td>True</td>\n",
       "      <td>No</td>\n",
       "      <td>1787903</td>\n",
       "    </tr>\n",
       "    <tr>\n",
       "      <th>4</th>\n",
       "      <td>2016-02-15</td>\n",
       "      <td>Credit card</td>\n",
       "      <td>NaN</td>\n",
       "      <td>Late fee</td>\n",
       "      <td>NaN</td>\n",
       "      <td>When making online through personal bank payme...</td>\n",
       "      <td>NaN</td>\n",
       "      <td>SYNCHRONY FINANCIAL</td>\n",
       "      <td>FL</td>\n",
       "      <td>33862</td>\n",
       "      <td>Older American</td>\n",
       "      <td>Consent provided</td>\n",
       "      <td>Web</td>\n",
       "      <td>2016-02-18</td>\n",
       "      <td>Closed with monetary relief</td>\n",
       "      <td>True</td>\n",
       "      <td>No</td>\n",
       "      <td>1788019</td>\n",
       "    </tr>\n",
       "  </tbody>\n",
       "</table>\n",
       "</div>"
      ],
      "text/plain": [
       "  date_received          product                            sub_product  \\\n",
       "0    2016-02-15      Credit card                                    NaN   \n",
       "1    2016-02-15  Debt collection  Other (i.e. phone, health club, etc.)   \n",
       "2    2016-02-15  Debt collection  Other (i.e. phone, health club, etc.)   \n",
       "3    2016-02-15  Debt collection  Other (i.e. phone, health club, etc.)   \n",
       "4    2016-02-15      Credit card                                    NaN   \n",
       "\n",
       "                                   issue  \\\n",
       "0                      Billing statement   \n",
       "1        Disclosure verification of debt   \n",
       "2  Cont'd attempts collect debt not owed   \n",
       "3  Cont'd attempts collect debt not owed   \n",
       "4                               Late fee   \n",
       "\n",
       "                              sub_issue  \\\n",
       "0                                   NaN   \n",
       "1  Not given enough info to verify debt   \n",
       "2                      Debt is not mine   \n",
       "3     Debt resulted from identity theft   \n",
       "4                                   NaN   \n",
       "\n",
       "                        consumer_complaint_narrative  \\\n",
       "0  Year end summary provided by citi shows balanc...   \n",
       "1  I received a letter from a debt collector clai...   \n",
       "2  I HAVE SUBMITTED COMPLAINTS TO OF UPSTATE NY C...   \n",
       "3  has accounts in my name that were fraudulently...   \n",
       "4  When making online through personal bank payme...   \n",
       "\n",
       "                             company_public_response  \\\n",
       "0   Company chooses not to provide a public response   \n",
       "1  Company believes it acted appropriately as aut...   \n",
       "2  Company believes it acted appropriately as aut...   \n",
       "3                                                NaN   \n",
       "4                                                NaN   \n",
       "\n",
       "                               company state zip_code            tags  \\\n",
       "0                       CITIBANK, N.A.    NY    10005             NaN   \n",
       "1     Amsher Collection Services, Inc.    KS    675XX             NaN   \n",
       "2  Credit Protection Association, L.P.    NY      NaN             NaN   \n",
       "3           Convergent Resources, Inc.    DE    197XX             NaN   \n",
       "4                  SYNCHRONY FINANCIAL    FL    33862  Older American   \n",
       "\n",
       "  consumer_consent_provided submitted_via date_sent_to_company  \\\n",
       "0          Consent provided           Web           2016-02-15   \n",
       "1          Consent provided           Web           2016-02-15   \n",
       "2          Consent provided           Web           2016-02-15   \n",
       "3          Consent provided           Web           2016-02-15   \n",
       "4          Consent provided           Web           2016-02-18   \n",
       "\n",
       "      company_response_to_consumer  timely_response consumer_disputed  \\\n",
       "0          Closed with explanation             True               Yes   \n",
       "1          Closed with explanation             True               Yes   \n",
       "2  Closed with non-monetary relief             True                No   \n",
       "3          Closed with explanation             True                No   \n",
       "4      Closed with monetary relief             True                No   \n",
       "\n",
       "   complaint_id  \n",
       "0       1787258  \n",
       "1       1788025  \n",
       "2       1787606  \n",
       "3       1787903  \n",
       "4       1788019  "
      ]
     },
     "execution_count": 216,
     "metadata": {},
     "output_type": "execute_result"
    }
   ],
   "source": [
    "df.head()"
   ]
  },
  {
   "cell_type": "markdown",
   "metadata": {},
   "source": [
    "## Feature Set 1"
   ]
  },
  {
   "cell_type": "code",
   "execution_count": 218,
   "metadata": {
    "scrolled": true
   },
   "outputs": [
    {
     "name": "stdout",
     "output_type": "stream",
     "text": [
      "<class 'pandas.core.frame.DataFrame'>\n",
      "RangeIndex: 383840 entries, 0 to 383839\n",
      "Data columns (total 18 columns):\n",
      "date_received                   383840 non-null object\n",
      "product                         383840 non-null object\n",
      "sub_product                     331667 non-null object\n",
      "issue                           383840 non-null object\n",
      "sub_issue                       270131 non-null object\n",
      "consumer_complaint_narrative    383839 non-null object\n",
      "company_public_response         182806 non-null object\n",
      "company                         383840 non-null object\n",
      "state                           382454 non-null object\n",
      "zip_code                        295000 non-null object\n",
      "tags                            66299 non-null object\n",
      "consumer_consent_provided       383840 non-null object\n",
      "submitted_via                   383840 non-null object\n",
      "date_sent_to_company            383840 non-null object\n",
      "company_response_to_consumer    383836 non-null object\n",
      "timely_response                 383840 non-null bool\n",
      "consumer_disputed               164076 non-null object\n",
      "complaint_id                    383840 non-null int64\n",
      "dtypes: bool(1), int64(1), object(16)\n",
      "memory usage: 50.2+ MB\n"
     ]
    }
   ],
   "source": [
    "df.info()"
   ]
  },
  {
   "cell_type": "markdown",
   "metadata": {},
   "source": [
    "### Drop Columns"
   ]
  },
  {
   "cell_type": "markdown",
   "metadata": {},
   "source": [
    "For this feature set I decided to drop the columns that had a large portion of the data missing, so I did not have to remove rows.  Also, two of the features, 'company_public_response' and 'company_response_to_consumer' would be variables that would come at time after the complaint was filed, and this not be a valid predictor variable."
   ]
  },
  {
   "cell_type": "code",
   "execution_count": 220,
   "metadata": {
    "collapsed": true
   },
   "outputs": [],
   "source": [
    "df.drop(columns=['date_received', 'company_public_response', 'state',\n",
    "                 'zip_code', 'tags', 'consumer_consent_provided', 'date_sent_to_company',\n",
    "                 'company_response_to_consumer', 'consumer_disputed', 'complaint_id'],inplace=True)"
   ]
  },
  {
   "cell_type": "code",
   "execution_count": 221,
   "metadata": {},
   "outputs": [
    {
     "name": "stdout",
     "output_type": "stream",
     "text": [
      "<class 'pandas.core.frame.DataFrame'>\n",
      "RangeIndex: 383840 entries, 0 to 383839\n",
      "Data columns (total 8 columns):\n",
      "product                         383840 non-null object\n",
      "sub_product                     331667 non-null object\n",
      "issue                           383840 non-null object\n",
      "sub_issue                       270131 non-null object\n",
      "consumer_complaint_narrative    383839 non-null object\n",
      "company                         383840 non-null object\n",
      "submitted_via                   383840 non-null object\n",
      "timely_response                 383840 non-null bool\n",
      "dtypes: bool(1), object(7)\n",
      "memory usage: 20.9+ MB\n"
     ]
    }
   ],
   "source": [
    "df.info()"
   ]
  },
  {
   "cell_type": "markdown",
   "metadata": {},
   "source": [
    "Later, we can further preprocess the data before machine learning and encode labels as categorical to make computation more efficient."
   ]
  },
  {
   "cell_type": "code",
   "execution_count": 236,
   "metadata": {
    "collapsed": true
   },
   "outputs": [],
   "source": [
    "df['timely_response'] = df['timely_response'].astype('category')"
   ]
  },
  {
   "cell_type": "code",
   "execution_count": 239,
   "metadata": {},
   "outputs": [
    {
     "data": {
      "text/plain": [
       "0    True\n",
       "1    True\n",
       "2    True\n",
       "3    True\n",
       "4    True\n",
       "Name: timely_response, dtype: category\n",
       "Categories (2, object): [False, True]"
      ]
     },
     "execution_count": 239,
     "metadata": {},
     "output_type": "execute_result"
    }
   ],
   "source": [
    "df['timely_response'].head()"
   ]
  },
  {
   "cell_type": "code",
   "execution_count": 237,
   "metadata": {},
   "outputs": [
    {
     "name": "stdout",
     "output_type": "stream",
     "text": [
      "<class 'pandas.core.frame.DataFrame'>\n",
      "RangeIndex: 383840 entries, 0 to 383839\n",
      "Data columns (total 8 columns):\n",
      "product                         383840 non-null object\n",
      "sub_product                     383840 non-null object\n",
      "issue                           383840 non-null object\n",
      "sub_issue                       383840 non-null object\n",
      "consumer_complaint_narrative    383840 non-null object\n",
      "company                         383840 non-null object\n",
      "submitted_via                   383840 non-null object\n",
      "timely_response                 383840 non-null category\n",
      "dtypes: category(1), object(7)\n",
      "memory usage: 20.9+ MB\n"
     ]
    }
   ],
   "source": [
    "df.info()"
   ]
  },
  {
   "cell_type": "markdown",
   "metadata": {},
   "source": [
    "### Fill in Missing Values"
   ]
  },
  {
   "cell_type": "markdown",
   "metadata": {},
   "source": [
    "Some sub products and sub issues may not have a category in real life.  This makes sense.  So we are going to replace those values with \"None\" as this accurately represents the data.  We will use one hot encoding on categorical features later."
   ]
  },
  {
   "cell_type": "code",
   "execution_count": 226,
   "metadata": {
    "collapsed": true
   },
   "outputs": [],
   "source": [
    "df.fillna('None', inplace=True)"
   ]
  },
  {
   "cell_type": "code",
   "execution_count": 227,
   "metadata": {},
   "outputs": [
    {
     "name": "stdout",
     "output_type": "stream",
     "text": [
      "<class 'pandas.core.frame.DataFrame'>\n",
      "RangeIndex: 383840 entries, 0 to 383839\n",
      "Data columns (total 8 columns):\n",
      "product                         383840 non-null object\n",
      "sub_product                     383840 non-null object\n",
      "issue                           383840 non-null object\n",
      "sub_issue                       383840 non-null object\n",
      "consumer_complaint_narrative    383840 non-null object\n",
      "company                         383840 non-null object\n",
      "submitted_via                   383840 non-null object\n",
      "timely_response                 383840 non-null bool\n",
      "dtypes: bool(1), object(7)\n",
      "memory usage: 20.9+ MB\n"
     ]
    }
   ],
   "source": [
    "df.info()"
   ]
  },
  {
   "cell_type": "code",
   "execution_count": 228,
   "metadata": {
    "collapsed": true
   },
   "outputs": [],
   "source": [
    "#df.to_csv('ml_data1.csv', index=False)"
   ]
  },
  {
   "cell_type": "code",
   "execution_count": null,
   "metadata": {},
   "outputs": [],
   "source": []
  }
 ],
 "metadata": {
  "kernelspec": {
   "display_name": "Python 3",
   "language": "python",
   "name": "python3"
  },
  "language_info": {
   "codemirror_mode": {
    "name": "ipython",
    "version": 3
   },
   "file_extension": ".py",
   "mimetype": "text/x-python",
   "name": "python",
   "nbconvert_exporter": "python",
   "pygments_lexer": "ipython3",
   "version": "3.7.1"
  }
 },
 "nbformat": 4,
 "nbformat_minor": 2
}
